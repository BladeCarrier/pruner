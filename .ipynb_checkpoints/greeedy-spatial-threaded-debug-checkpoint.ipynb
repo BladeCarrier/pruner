{
 "metadata": {
  "name": "",
  "signature": "sha256:d127a4e330696818395d3684200ffe79eed0e2a65c42d28c4f496ef4e867d8c0"
 },
 "nbformat": 3,
 "nbformat_minor": 0,
 "worksheets": [
  {
   "cells": [
    {
     "cell_type": "code",
     "collapsed": false,
     "input": [
      "# I explore the cuts of the features\n",
      "%matplotlib inline\n",
      "#\u0442\u0430\u043a \u0442\u043e\u0436\u0435 \u043c\u043e\u0436\u043d\u043e \u0440\u0435\u0448\u0438\u0442\u044c \u043f\u0440\u043e\u0431\u043b\u0435\u043c\u0443 \u0438\u043d\u043b\u0430\u0439\u043b\u0430 \u043f\u043b\u043e\u0442\u043e\u0432\n",
      "\n",
      "import matplotlib.pyplot as plt\n",
      "import numpy as np\n",
      "\n",
      "import sklearn.metrics as metrics\n",
      "from sklearn.externals import joblib\n",
      "from sklearn import cross_validation as cv\n",
      "\n",
      "import _matrixnetapplier as mnet\n",
      "import copy\n",
      "import random\n"
     ],
     "language": "python",
     "metadata": {},
     "outputs": [],
     "prompt_number": 1
    },
    {
     "cell_type": "markdown",
     "metadata": {},
     "source": [
      "# Extracting the trained model"
     ]
    },
    {
     "cell_type": "code",
     "collapsed": false,
     "input": [
      "itr,trees = mnet.get_trees(\"formula/formula.mx\")\n",
      "n_features = 30\n",
      "print itr"
     ],
     "language": "python",
     "metadata": {},
     "outputs": [
      {
       "output_type": "stream",
       "stream": "stdout",
       "text": [
        "(6, 10000, <generator object _iterate_over_trees_with_fixed_depth at 0x000000000AB6C090>)\n"
       ]
      }
     ],
     "prompt_number": 2
    },
    {
     "cell_type": "markdown",
     "metadata": {},
     "source": [
      "# Loading dataset"
     ]
    },
    {
     "cell_type": "code",
     "collapsed": false,
     "input": [
      "#load training set\n",
      "def load_data(path):\n",
      "    print 'Loading training data...'\n",
      "    data = np.loadtxt(path, \\\n",
      "            delimiter=',', \\\n",
      "            skiprows=1, \\\n",
      "            converters={32: lambda x:int(x=='s'.encode('utf-8'))})\n",
      "\n",
      "    X = data[:,1:31]\n",
      "    Y = data[:,32]\n",
      "    W = data[:,31]\n",
      "    print \"Loaded.\"\n",
      "    return X,Y,W"
     ],
     "language": "python",
     "metadata": {},
     "outputs": [],
     "prompt_number": 3
    },
    {
     "cell_type": "code",
     "collapsed": false,
     "input": [
      "X,Y,W = load_data(\"data/training.csv\")"
     ],
     "language": "python",
     "metadata": {},
     "outputs": [
      {
       "output_type": "stream",
       "stream": "stdout",
       "text": [
        "Loading training data...\n",
        "Loaded."
       ]
      },
      {
       "output_type": "stream",
       "stream": "stdout",
       "text": [
        "\n"
       ]
      }
     ],
     "prompt_number": 4
    },
    {
     "cell_type": "code",
     "collapsed": false,
     "input": [
      "from sklearn.cross_validation import train_test_split\n",
      "Xtr,Xts,Ytr,Yts,Wtr,Wts = train_test_split(X, Y, W, train_size=0.51, random_state=42)"
     ],
     "language": "python",
     "metadata": {},
     "outputs": [],
     "prompt_number": 5
    },
    {
     "cell_type": "code",
     "collapsed": false,
     "input": [
      "from factory import DataFactory\n",
      "trainFactory = DataFactory(Xtr,Ytr,Wtr)\n",
      "testFactory = DataFactory(Xts,Yts,Wts)"
     ],
     "language": "python",
     "metadata": {},
     "outputs": [],
     "prompt_number": 6
    },
    {
     "cell_type": "code",
     "collapsed": false,
     "input": [
      "#equalize classes, normalize weights\n",
      "trainFactory.equalizeWeights()\n",
      "print sum(trainFactory.weights[trainFactory.labels==1]),\n",
      "print sum(trainFactory.weights[trainFactory.labels==0]),\n",
      "print sum(trainFactory.weights),"
     ],
     "language": "python",
     "metadata": {},
     "outputs": [
      {
       "output_type": "stream",
       "stream": "stdout",
       "text": [
        "0.5 0.5 "
       ]
      },
      {
       "output_type": "stream",
       "stream": "stdout",
       "text": [
        "0.999999999999\n"
       ]
      }
     ],
     "prompt_number": 7
    },
    {
     "cell_type": "markdown",
     "metadata": {},
     "source": [
      "#sanity check"
     ]
    },
    {
     "cell_type": "code",
     "collapsed": false,
     "input": [
      "def compute_ams_on_cuts(answers, predictions, sample_weight):\n",
      "    \"\"\" Predictions are probabilities\"\"\"\n",
      "    b, s, thresholds = metrics.roc_curve(answers, predictions, sample_weight=sample_weight)\n",
      "    # normalization constants\n",
      "    real_s = 691.988607712\n",
      "    real_b = 410999.847322\n",
      "    s *= real_s\n",
      "    b *= real_b\n",
      "    br = 10.\n",
      "    radicands = 2 * ((s + b + br) * np.log(1.0 + s/(b + br)) - s)\n",
      "    return thresholds, radicands\n",
      "\n",
      "def optimal_AMS(answers, predictions, sample_weight):\n",
      "    \"\"\" Predictions are probabilities \"\"\"\n",
      "    cuts, radicands = compute_ams_on_cuts(answers, predictions, sample_weight)\n",
      "    return np.sqrt(np.max(radicands))\n",
      "\n",
      "\n",
      "def precisionAt15(answers, predictions, sample_weight, percent=0.15):\n",
      "    n_passed = int(len(answers) * percent)\n",
      "    RATIO = 50\n",
      "    weight = sample_weight.copy()\n",
      "    weight[answers == 0] /= weight[answers == 0].mean() / RATIO\n",
      "    weight[answers == 1] /= weight[answers == 1].mean()\n",
      "    order = np.argsort(-predictions)\n",
      "    passed = order[:n_passed]    \n",
      "    return np.average(answers[passed], weights=weight[passed])"
     ],
     "language": "python",
     "metadata": {},
     "outputs": [],
     "prompt_number": 8
    },
    {
     "cell_type": "code",
     "collapsed": false,
     "input": [
      "def print_control_metrics(proba_test, proba_train):\n",
      "    for name, metric in [('ROC', metrics.roc_auc_score), ('AMS', optimal_AMS), ('precision', precisionAt15)]:\n",
      "        print name,\n",
      "        print metric(Yts, proba_test, sample_weight=Wts), \n",
      "        print metric(Ytr, proba_train, sample_weight=Wtr)"
     ],
     "language": "python",
     "metadata": {},
     "outputs": [],
     "prompt_number": 9
    },
    {
     "cell_type": "code",
     "collapsed": false,
     "input": [
      "%%time\n",
      "#print_control_metrics(testFactory.predict(trees),trainFactory.predict(trees))"
     ],
     "language": "python",
     "metadata": {},
     "outputs": [
      {
       "output_type": "stream",
       "stream": "stdout",
       "text": [
        "Wall time: 0 ns\n"
       ]
      }
     ],
     "prompt_number": 10
    },
    {
     "cell_type": "markdown",
     "metadata": {},
     "source": [
      "# greedy pruning for the whole data"
     ]
    },
    {
     "cell_type": "code",
     "collapsed": false,
     "input": [
      "import greedy\n",
      "from loss_functions import LogLoss"
     ],
     "language": "python",
     "metadata": {},
     "outputs": [],
     "prompt_number": 11
    },
    {
     "cell_type": "code",
     "collapsed": false,
     "input": [
      "print 50./trainFactory.n_events*sum(trainFactory.weights)"
     ],
     "language": "python",
     "metadata": {},
     "outputs": [
      {
       "output_type": "stream",
       "stream": "stdout",
       "text": [
        "0.000392156862745\n"
       ]
      }
     ],
     "prompt_number": 12
    },
    {
     "cell_type": "code",
     "collapsed": false,
     "input": [
      "%%time\n",
      "res_greedy = greedy.greed_up_features_bfs(trees,trainFactory,\n",
      "                                          loss = LogLoss,\n",
      "                                          learning_rate = .255,\n",
      "                                          breadth =1,\n",
      "                                          nTrees =100,\n",
      "                                          trees_sample_size =200,\n",
      "                                          verbose = True,\n",
      "                                          regularizer=0.000392156862745,\n",
      "                                          use_joblib=True)"
     ],
     "language": "python",
     "metadata": {},
     "outputs": [
      {
       "output_type": "stream",
       "stream": "stdout",
       "text": [
        "\n",
        "iteration # 0  ntrees =  1 \n",
        "best loss =  0.5895906973\n",
        "learning_rate =  0.255\n",
        "sample_size 200\n",
        "\n",
        "iteration #"
       ]
      },
      {
       "output_type": "stream",
       "stream": "stdout",
       "text": [
        " 1  ntrees =  2 \n",
        "best loss =  0.520137882381 \n",
        "last loss =  0.520137882381\n",
        "learning_rate =  0.255\n",
        "sample_size 200\n",
        "\n",
        "iteration #"
       ]
      },
      {
       "output_type": "stream",
       "stream": "stdout",
       "text": [
        " 2  ntrees =  3 \n",
        "best loss =  0.474854964431 \n",
        "last loss =  0.474854964431\n",
        "learning_rate =  0.255\n",
        "sample_size 200\n",
        "\n",
        "iteration #"
       ]
      },
      {
       "output_type": "stream",
       "stream": "stdout",
       "text": [
        " 3  ntrees =  4 \n",
        "best loss =  0.445362812412 \n",
        "last loss =  0.445362812412\n",
        "learning_rate =  0.255\n",
        "sample_size 200\n",
        "\n",
        "iteration #"
       ]
      },
      {
       "output_type": "stream",
       "stream": "stdout",
       "text": [
        " 4  ntrees =  5 \n",
        "best loss =  0.423847182611 \n",
        "last loss =  0.423847182611\n",
        "learning_rate =  0.255\n",
        "sample_size 200\n",
        "\n",
        "iteration #"
       ]
      },
      {
       "output_type": "stream",
       "stream": "stdout",
       "text": [
        " 5  ntrees =  6 \n",
        "best loss =  0.407665561153 \n",
        "last loss =  0.407665561153\n",
        "learning_rate =  0.255\n",
        "sample_size 200\n",
        "\n",
        "iteration #"
       ]
      },
      {
       "output_type": "stream",
       "stream": "stdout",
       "text": [
        " 6  ntrees =  7 \n",
        "best loss =  0.395241702551 \n",
        "last loss =  0.395241702551\n",
        "learning_rate =  0.255\n",
        "sample_size 200\n",
        "\n",
        "iteration #"
       ]
      },
      {
       "output_type": "stream",
       "stream": "stdout",
       "text": [
        " 7  ntrees =  8 \n",
        "best loss =  0.385664640743 \n",
        "last loss =  0.385664640743\n",
        "learning_rate =  0.255\n",
        "sample_size 200\n",
        "\n",
        "iteration #"
       ]
      },
      {
       "output_type": "stream",
       "stream": "stdout",
       "text": [
        " 8  ntrees =  9 \n",
        "best loss =  0.378115494183 \n",
        "last loss =  0.378115494183\n",
        "learning_rate =  0.255\n",
        "sample_size 200\n",
        "\n",
        "iteration #"
       ]
      },
      {
       "output_type": "stream",
       "stream": "stdout",
       "text": [
        " 9  ntrees =  10 \n",
        "best loss =  0.37182495649 \n",
        "last loss =  0.37182495649\n",
        "learning_rate =  0.255\n",
        "sample_size 200\n",
        "\n",
        "iteration #"
       ]
      },
      {
       "output_type": "stream",
       "stream": "stdout",
       "text": [
        " 10  ntrees =  11 \n",
        "best loss =  0.366801419484 \n",
        "last loss =  0.366801419484\n",
        "learning_rate =  0.255\n",
        "sample_size 200\n",
        "\n",
        "iteration #"
       ]
      },
      {
       "output_type": "stream",
       "stream": "stdout",
       "text": [
        " 11  ntrees =  12 \n",
        "best loss =  0.362695423263 \n",
        "last loss =  0.362695423263\n",
        "learning_rate =  0.255\n",
        "sample_size 200\n",
        "\n",
        "iteration #"
       ]
      },
      {
       "output_type": "stream",
       "stream": "stdout",
       "text": [
        " 12  ntrees =  13 \n",
        "best loss =  0.359150123043 \n",
        "last loss =  0.359150123043\n",
        "learning_rate =  0.255\n",
        "sample_size 200\n",
        "\n",
        "iteration #"
       ]
      },
      {
       "output_type": "stream",
       "stream": "stdout",
       "text": [
        " 13  ntrees =  14 \n",
        "best loss =  0.356031289866 \n",
        "last loss =  0.356031289866\n",
        "learning_rate =  0.255\n",
        "sample_size 200\n",
        "\n",
        "iteration #"
       ]
      },
      {
       "output_type": "stream",
       "stream": "stdout",
       "text": [
        " 14  ntrees =  15 \n",
        "best loss =  0.353280815817 \n",
        "last loss =  0.353280815817\n",
        "learning_rate =  0.255\n",
        "sample_size 200\n",
        "\n",
        "iteration #"
       ]
      },
      {
       "output_type": "stream",
       "stream": "stdout",
       "text": [
        " 15  ntrees =  16 \n",
        "best loss =  0.351100207414 \n",
        "last loss =  0.351100207414\n",
        "learning_rate =  0.255\n",
        "sample_size 200\n",
        "\n",
        "iteration #"
       ]
      },
      {
       "output_type": "stream",
       "stream": "stdout",
       "text": [
        " 16  ntrees =  17 \n",
        "best loss =  0.349041817939 \n",
        "last loss =  0.349041817939\n",
        "learning_rate =  0.255\n",
        "sample_size 200\n",
        "\n",
        "iteration #"
       ]
      },
      {
       "output_type": "stream",
       "stream": "stdout",
       "text": [
        " 17  ntrees =  18 \n",
        "best loss =  0.347080912238 \n",
        "last loss =  0.347080912238\n",
        "learning_rate =  0.255\n",
        "sample_size 200\n",
        "\n",
        "iteration #"
       ]
      },
      {
       "output_type": "stream",
       "stream": "stdout",
       "text": [
        " 18  ntrees =  19 \n",
        "best loss =  0.345434338085 \n",
        "last loss =  0.345434338085\n",
        "learning_rate =  0.255\n",
        "sample_size 200\n",
        "\n",
        "iteration #"
       ]
      },
      {
       "output_type": "stream",
       "stream": "stdout",
       "text": [
        " 19  ntrees =  20 \n",
        "best loss =  0.344074826138 \n",
        "last loss =  0.344074826138\n",
        "learning_rate =  0.255\n",
        "sample_size 200\n",
        "\n",
        "iteration #"
       ]
      },
      {
       "output_type": "stream",
       "stream": "stdout",
       "text": [
        " 20  ntrees =  21 \n",
        "best loss =  0.342849577552 \n",
        "last loss =  0.342849577552\n",
        "learning_rate =  0.255\n",
        "sample_size 200\n",
        "\n",
        "iteration #"
       ]
      },
      {
       "output_type": "stream",
       "stream": "stdout",
       "text": [
        " 21  ntrees =  22 \n",
        "best loss =  0.341595732369 \n",
        "last loss =  0.341595732369\n",
        "learning_rate =  0.255\n",
        "sample_size 200\n",
        "\n",
        "iteration #"
       ]
      },
      {
       "output_type": "stream",
       "stream": "stdout",
       "text": [
        " 22  ntrees =  23 \n",
        "best loss =  0.340321689659 \n",
        "last loss =  0.340321689659\n",
        "learning_rate =  0.255\n",
        "sample_size 200\n",
        "\n",
        "iteration #"
       ]
      },
      {
       "output_type": "stream",
       "stream": "stdout",
       "text": [
        " 23  ntrees =  24 \n",
        "best loss =  0.339230903297 \n",
        "last loss =  0.339230903297\n",
        "learning_rate =  0.255\n",
        "sample_size 200\n",
        "\n",
        "iteration #"
       ]
      },
      {
       "output_type": "stream",
       "stream": "stdout",
       "text": [
        " 24  ntrees =  25 \n",
        "best loss =  0.338229477723 \n",
        "last loss =  0.338229477723\n",
        "learning_rate =  0.255\n",
        "sample_size 200\n",
        "\n",
        "iteration #"
       ]
      },
      {
       "output_type": "stream",
       "stream": "stdout",
       "text": [
        " 25  ntrees =  26 \n",
        "best loss =  0.337322477487 \n",
        "last loss =  0.337322477487\n",
        "learning_rate =  0.255\n",
        "sample_size 200\n",
        "\n",
        "iteration #"
       ]
      },
      {
       "output_type": "stream",
       "stream": "stdout",
       "text": [
        " 26  ntrees =  27 \n",
        "best loss =  0.336383651629 \n",
        "last loss =  0.336383651629\n",
        "learning_rate =  0.255\n",
        "sample_size 200\n",
        "\n",
        "iteration #"
       ]
      },
      {
       "output_type": "stream",
       "stream": "stdout",
       "text": [
        " 27  ntrees =  28 \n",
        "best loss =  0.335528298351 \n",
        "last loss =  0.335528298351\n",
        "learning_rate =  0.255\n",
        "sample_size 200\n",
        "\n",
        "iteration #"
       ]
      },
      {
       "output_type": "stream",
       "stream": "stdout",
       "text": [
        " 28  ntrees =  29 \n",
        "best loss =  0.334744655611 \n",
        "last loss =  0.334744655611\n",
        "learning_rate =  0.255\n",
        "sample_size 200\n",
        "\n",
        "iteration #"
       ]
      },
      {
       "output_type": "stream",
       "stream": "stdout",
       "text": [
        " 29  ntrees =  30 \n",
        "best loss =  0.333916764496 \n",
        "last loss =  0.333916764496\n",
        "learning_rate =  0.255\n",
        "sample_size 200\n",
        "\n",
        "iteration #"
       ]
      },
      {
       "output_type": "stream",
       "stream": "stdout",
       "text": [
        " 30  ntrees =  31 \n",
        "best loss =  0.333206641484 \n",
        "last loss =  0.333206641484\n",
        "learning_rate =  0.255\n",
        "sample_size 200\n",
        "\n",
        "iteration #"
       ]
      },
      {
       "output_type": "stream",
       "stream": "stdout",
       "text": [
        " 31  ntrees =  32 \n",
        "best loss =  0.332558120854 \n",
        "last loss =  0.332558120854\n",
        "learning_rate =  0.255\n",
        "sample_size 200\n",
        "\n",
        "iteration #"
       ]
      },
      {
       "output_type": "stream",
       "stream": "stdout",
       "text": [
        " 32  ntrees =  33 \n",
        "best loss =  0.331856127285 \n",
        "last loss =  0.331856127285\n",
        "learning_rate =  0.255\n",
        "sample_size 200\n",
        "\n",
        "iteration #"
       ]
      },
      {
       "output_type": "stream",
       "stream": "stdout",
       "text": [
        " 33  ntrees =  34 \n",
        "best loss =  0.331249337905 \n",
        "last loss =  0.331249337905\n",
        "learning_rate =  0.255\n",
        "sample_size 200\n",
        "\n",
        "iteration #"
       ]
      },
      {
       "output_type": "stream",
       "stream": "stdout",
       "text": [
        " 34  ntrees =  35 \n",
        "best loss =  0.330678438223 \n",
        "last loss =  0.330678438223\n",
        "learning_rate =  0.255\n",
        "sample_size 200\n",
        "\n",
        "iteration #"
       ]
      },
      {
       "output_type": "stream",
       "stream": "stdout",
       "text": [
        " 35  ntrees =  36 \n",
        "best loss =  0.329982579322 \n",
        "last loss =  0.329982579322\n",
        "learning_rate =  0.255\n",
        "sample_size 200\n",
        "\n",
        "iteration #"
       ]
      },
      {
       "output_type": "stream",
       "stream": "stdout",
       "text": [
        " 36  ntrees =  37 \n",
        "best loss =  0.329439595033 \n",
        "last loss =  0.329439595033\n",
        "learning_rate =  0.255\n",
        "sample_size 200\n",
        "\n",
        "iteration #"
       ]
      },
      {
       "output_type": "stream",
       "stream": "stdout",
       "text": [
        " 37  ntrees =  38 \n",
        "best loss =  0.328987286282 \n",
        "last loss =  0.328987286282\n",
        "learning_rate =  0.255\n",
        "sample_size 200\n",
        "\n",
        "iteration #"
       ]
      },
      {
       "output_type": "stream",
       "stream": "stdout",
       "text": [
        " 38  ntrees =  39 \n",
        "best loss =  0.328418484859 \n",
        "last loss =  0.328418484859\n",
        "learning_rate =  0.255\n",
        "sample_size 200\n",
        "\n",
        "iteration #"
       ]
      },
      {
       "output_type": "stream",
       "stream": "stdout",
       "text": [
        " 39  ntrees =  40 \n",
        "best loss =  0.327947451908 \n",
        "last loss =  0.327947451908\n",
        "learning_rate =  0.255\n",
        "sample_size 200\n",
        "\n",
        "iteration #"
       ]
      },
      {
       "output_type": "stream",
       "stream": "stdout",
       "text": [
        " 40  ntrees =  41 \n",
        "best loss =  0.327502640305 \n",
        "last loss =  0.327502640305\n",
        "learning_rate =  0.255\n",
        "sample_size 200\n",
        "\n",
        "iteration #"
       ]
      },
      {
       "output_type": "stream",
       "stream": "stdout",
       "text": [
        " 41  ntrees =  42 \n",
        "best loss =  0.327053106805 \n",
        "last loss =  0.327053106805\n",
        "learning_rate =  0.255\n",
        "sample_size 200\n",
        "\n",
        "iteration #"
       ]
      },
      {
       "output_type": "stream",
       "stream": "stdout",
       "text": [
        " 42  ntrees =  43 \n",
        "best loss =  0.326598505647 \n",
        "last loss =  0.326598505647\n",
        "learning_rate =  0.255\n",
        "sample_size 200\n",
        "\n",
        "iteration #"
       ]
      },
      {
       "output_type": "stream",
       "stream": "stdout",
       "text": [
        " 43  ntrees =  44 \n",
        "best loss =  0.326133595151 \n",
        "last loss =  0.326133595151\n",
        "learning_rate =  0.255\n",
        "sample_size 200\n",
        "\n",
        "iteration #"
       ]
      },
      {
       "output_type": "stream",
       "stream": "stdout",
       "text": [
        " 44  ntrees =  45 \n",
        "best loss =  0.325739896244 \n",
        "last loss =  0.325739896244\n",
        "learning_rate =  0.255\n",
        "sample_size 200\n",
        "\n",
        "iteration #"
       ]
      },
      {
       "output_type": "stream",
       "stream": "stdout",
       "text": [
        " 45  ntrees =  46 \n",
        "best loss =  0.325319207643 \n",
        "last loss =  0.325319207643\n",
        "learning_rate =  0.255\n",
        "sample_size 200\n",
        "\n",
        "iteration #"
       ]
      },
      {
       "output_type": "stream",
       "stream": "stdout",
       "text": [
        " 46  ntrees =  47 \n",
        "best loss =  0.324978259392 \n",
        "last loss =  0.324978259392\n",
        "learning_rate =  0.255\n",
        "sample_size 200\n",
        "\n",
        "iteration #"
       ]
      },
      {
       "output_type": "stream",
       "stream": "stdout",
       "text": [
        " 47  ntrees =  48 \n",
        "best loss =  0.324602740253 \n",
        "last loss =  0.324602740253\n",
        "learning_rate =  0.255\n",
        "sample_size 200\n",
        "\n",
        "iteration #"
       ]
      },
      {
       "output_type": "stream",
       "stream": "stdout",
       "text": [
        " 48  ntrees =  49 \n",
        "best loss =  0.324251320832 \n",
        "last loss =  0.324251320832\n",
        "learning_rate =  0.255\n",
        "sample_size 200\n",
        "\n",
        "iteration #"
       ]
      },
      {
       "output_type": "stream",
       "stream": "stdout",
       "text": [
        " 49  ntrees =  50 \n",
        "best loss =  0.323913465922 \n",
        "last loss =  0.323913465922\n",
        "learning_rate =  0.255\n",
        "sample_size 200\n",
        "\n",
        "iteration #"
       ]
      },
      {
       "output_type": "stream",
       "stream": "stdout",
       "text": [
        " 50  ntrees =  51 \n",
        "best loss =  0.32355114288 \n",
        "last loss =  0.32355114288\n",
        "learning_rate =  0.255\n",
        "sample_size 200\n",
        "\n",
        "iteration #"
       ]
      },
      {
       "output_type": "stream",
       "stream": "stdout",
       "text": [
        " 51  ntrees =  52 \n",
        "best loss =  0.323177648597 \n",
        "last loss =  0.323177648597\n",
        "learning_rate =  0.255\n",
        "sample_size 200\n",
        "\n",
        "iteration #"
       ]
      },
      {
       "output_type": "stream",
       "stream": "stdout",
       "text": [
        " 52  ntrees =  53 \n",
        "best loss =  0.322835905323 \n",
        "last loss =  0.322835905323\n",
        "learning_rate =  0.255\n",
        "sample_size 200\n",
        "\n",
        "iteration #"
       ]
      },
      {
       "output_type": "stream",
       "stream": "stdout",
       "text": [
        " 53  ntrees =  54 \n",
        "best loss =  0.322482972741 \n",
        "last loss =  0.322482972741\n",
        "learning_rate =  0.255\n",
        "sample_size 200\n",
        "\n",
        "iteration #"
       ]
      },
      {
       "output_type": "stream",
       "stream": "stdout",
       "text": [
        " 54  ntrees =  55 \n",
        "best loss =  0.322188400883 \n",
        "last loss =  0.322188400883\n",
        "learning_rate =  0.255\n",
        "sample_size 200\n",
        "\n",
        "iteration #"
       ]
      },
      {
       "output_type": "stream",
       "stream": "stdout",
       "text": [
        " 55  ntrees =  56 \n",
        "best loss =  0.321856121721 \n",
        "last loss =  0.321856121721\n",
        "learning_rate =  0.255\n",
        "sample_size 200\n",
        "\n",
        "iteration #"
       ]
      },
      {
       "output_type": "stream",
       "stream": "stdout",
       "text": [
        " 56  ntrees =  57 \n",
        "best loss =  0.321552376115 \n",
        "last loss =  0.321552376115\n",
        "learning_rate =  0.255\n",
        "sample_size 200\n",
        "\n",
        "iteration #"
       ]
      },
      {
       "output_type": "stream",
       "stream": "stdout",
       "text": [
        " 57  ntrees =  58 \n",
        "best loss =  0.32121832021 \n",
        "last loss =  0.32121832021\n",
        "learning_rate =  0.255\n",
        "sample_size 200\n",
        "\n",
        "iteration #"
       ]
      },
      {
       "output_type": "stream",
       "stream": "stdout",
       "text": [
        " 58  ntrees =  59 \n",
        "best loss =  0.320909957624 \n",
        "last loss =  0.320909957624\n",
        "learning_rate =  0.255\n",
        "sample_size 200\n",
        "\n",
        "iteration #"
       ]
      },
      {
       "output_type": "stream",
       "stream": "stdout",
       "text": [
        " 59  ntrees =  60 \n",
        "best loss =  0.320598762931 \n",
        "last loss =  0.320598762931\n",
        "learning_rate =  0.255\n",
        "sample_size 200\n",
        "\n",
        "iteration #"
       ]
      },
      {
       "output_type": "stream",
       "stream": "stdout",
       "text": [
        " 60  ntrees =  61 \n",
        "best loss =  0.320315216145 \n",
        "last loss =  0.320315216145\n",
        "learning_rate =  0.255\n",
        "sample_size 200\n",
        "\n",
        "iteration #"
       ]
      },
      {
       "output_type": "stream",
       "stream": "stdout",
       "text": [
        " 61  ntrees =  62 \n",
        "best loss =  0.320010914077 \n",
        "last loss =  0.320010914077\n",
        "learning_rate =  0.255\n",
        "sample_size 200\n",
        "\n",
        "iteration #"
       ]
      },
      {
       "output_type": "stream",
       "stream": "stdout",
       "text": [
        " 62  ntrees =  63 \n",
        "best loss =  0.319698068075 \n",
        "last loss =  0.319698068075\n",
        "learning_rate =  0.255\n",
        "sample_size 200\n",
        "\n",
        "iteration #"
       ]
      },
      {
       "output_type": "stream",
       "stream": "stdout",
       "text": [
        " 63  ntrees =  64 \n",
        "best loss =  0.319403613656 \n",
        "last loss =  0.319403613656\n",
        "learning_rate =  0.255\n",
        "sample_size 200\n",
        "\n",
        "iteration #"
       ]
      },
      {
       "output_type": "stream",
       "stream": "stdout",
       "text": [
        " 64  ntrees =  65 \n",
        "best loss =  0.319112706013 \n",
        "last loss =  0.319112706013\n",
        "learning_rate =  0.255\n",
        "sample_size 200\n",
        "\n",
        "iteration #"
       ]
      },
      {
       "output_type": "stream",
       "stream": "stdout",
       "text": [
        " 65  ntrees =  66 \n",
        "best loss =  0.318835270805 \n",
        "last loss =  0.318835270805\n",
        "learning_rate =  0.255\n",
        "sample_size 200\n",
        "\n",
        "iteration #"
       ]
      },
      {
       "output_type": "stream",
       "stream": "stdout",
       "text": [
        " 66  ntrees =  67 \n",
        "best loss =  0.318554051243 \n",
        "last loss =  0.318554051243\n",
        "learning_rate =  0.255\n",
        "sample_size 200\n",
        "\n",
        "iteration #"
       ]
      },
      {
       "output_type": "stream",
       "stream": "stdout",
       "text": [
        " 67  ntrees =  68 \n",
        "best loss =  0.318309430377 \n",
        "last loss =  0.318309430377\n",
        "learning_rate =  0.255\n",
        "sample_size 200\n",
        "\n",
        "iteration #"
       ]
      },
      {
       "output_type": "stream",
       "stream": "stdout",
       "text": [
        " 68  ntrees =  69 \n",
        "best loss =  0.318044641786 \n",
        "last loss =  0.318044641786\n",
        "learning_rate =  0.255\n",
        "sample_size 200\n",
        "\n",
        "iteration #"
       ]
      },
      {
       "output_type": "stream",
       "stream": "stdout",
       "text": [
        " 69  ntrees =  70 \n",
        "best loss =  0.317793334114 \n",
        "last loss =  0.317793334114\n",
        "learning_rate =  0.255\n",
        "sample_size 200\n",
        "\n",
        "iteration #"
       ]
      },
      {
       "output_type": "stream",
       "stream": "stdout",
       "text": [
        " 70  ntrees =  71 \n",
        "best loss =  0.317522909399 \n",
        "last loss =  0.317522909399\n",
        "learning_rate =  0.255\n",
        "sample_size 200\n",
        "\n",
        "iteration #"
       ]
      },
      {
       "output_type": "stream",
       "stream": "stdout",
       "text": [
        " 71  ntrees =  72 \n",
        "best loss =  0.317267658794 \n",
        "last loss =  0.317267658794\n",
        "learning_rate =  0.255\n",
        "sample_size 200\n",
        "\n",
        "iteration #"
       ]
      },
      {
       "output_type": "stream",
       "stream": "stdout",
       "text": [
        " 72  ntrees =  73 \n",
        "best loss =  0.317010687591 \n",
        "last loss =  0.317010687591\n",
        "learning_rate =  0.255\n",
        "sample_size 200\n",
        "\n",
        "iteration #"
       ]
      },
      {
       "output_type": "stream",
       "stream": "stdout",
       "text": [
        " 73  ntrees =  74 \n",
        "best loss =  0.316756493807 \n",
        "last loss =  0.316756493807\n",
        "learning_rate =  0.255\n",
        "sample_size 200\n",
        "\n",
        "iteration #"
       ]
      },
      {
       "output_type": "stream",
       "stream": "stdout",
       "text": [
        " 74  ntrees =  75 \n",
        "best loss =  0.316534650994 \n",
        "last loss =  0.316534650994\n",
        "learning_rate =  0.255\n",
        "sample_size 200\n",
        "\n",
        "iteration #"
       ]
      },
      {
       "output_type": "stream",
       "stream": "stdout",
       "text": [
        " 75  ntrees =  76 \n",
        "best loss =  0.316284736395 \n",
        "last loss =  0.316284736395\n",
        "learning_rate =  0.255\n",
        "sample_size 200\n",
        "\n",
        "iteration #"
       ]
      },
      {
       "output_type": "stream",
       "stream": "stdout",
       "text": [
        " 76  ntrees =  77 \n",
        "best loss =  0.316018572833 \n",
        "last loss =  0.316018572833\n",
        "learning_rate =  0.255\n",
        "sample_size 200\n",
        "\n",
        "iteration #"
       ]
      },
      {
       "output_type": "stream",
       "stream": "stdout",
       "text": [
        " 77  ntrees =  78 \n",
        "best loss =  0.315761332056 \n",
        "last loss =  0.315761332056\n",
        "learning_rate =  0.255\n",
        "sample_size 200\n",
        "\n",
        "iteration #"
       ]
      },
      {
       "output_type": "stream",
       "stream": "stdout",
       "text": [
        " 78  ntrees =  79 \n",
        "best loss =  0.31549713859 \n",
        "last loss =  0.31549713859\n",
        "learning_rate =  0.255\n",
        "sample_size 200\n",
        "\n",
        "iteration #"
       ]
      },
      {
       "output_type": "stream",
       "stream": "stdout",
       "text": [
        " 79  ntrees =  80 \n",
        "best loss =  0.315265387945 \n",
        "last loss =  0.315265387945\n",
        "learning_rate =  0.255\n",
        "sample_size 200\n",
        "\n",
        "iteration #"
       ]
      },
      {
       "output_type": "stream",
       "stream": "stdout",
       "text": [
        " 80  ntrees =  81 \n",
        "best loss =  0.315050738138 \n",
        "last loss =  0.315050738138\n",
        "learning_rate =  0.255\n",
        "sample_size 200\n",
        "\n",
        "iteration #"
       ]
      },
      {
       "output_type": "stream",
       "stream": "stdout",
       "text": [
        " 81  ntrees =  82 \n",
        "best loss =  0.314819552827 \n",
        "last loss =  0.314819552827\n",
        "learning_rate =  0.255\n",
        "sample_size 200\n",
        "\n",
        "iteration #"
       ]
      },
      {
       "output_type": "stream",
       "stream": "stdout",
       "text": [
        " 82  ntrees =  83 \n",
        "best loss =  0.314549836812 \n",
        "last loss =  0.314549836812\n",
        "learning_rate =  0.255\n",
        "sample_size 200\n",
        "\n",
        "iteration #"
       ]
      },
      {
       "output_type": "stream",
       "stream": "stdout",
       "text": [
        " 83  ntrees =  84 \n",
        "best loss =  0.314309525888 \n",
        "last loss =  0.314309525888\n",
        "learning_rate =  0.255\n",
        "sample_size 200\n",
        "\n",
        "iteration #"
       ]
      },
      {
       "output_type": "stream",
       "stream": "stdout",
       "text": [
        " 84  ntrees =  85 \n",
        "best loss =  0.314096213093 \n",
        "last loss =  0.314096213093\n",
        "learning_rate =  0.255\n",
        "sample_size 200\n",
        "\n",
        "iteration #"
       ]
      },
      {
       "output_type": "stream",
       "stream": "stdout",
       "text": [
        " 85  ntrees =  86 \n",
        "best loss =  0.313877345708 \n",
        "last loss =  0.313877345708\n",
        "learning_rate =  0.255\n",
        "sample_size 200\n",
        "\n",
        "iteration #"
       ]
      },
      {
       "output_type": "stream",
       "stream": "stdout",
       "text": [
        " 86  ntrees =  87 \n",
        "best loss =  0.313670028611 \n",
        "last loss =  0.313670028611\n",
        "learning_rate =  0.255\n",
        "sample_size 200\n",
        "\n",
        "iteration #"
       ]
      },
      {
       "output_type": "stream",
       "stream": "stdout",
       "text": [
        " 87  ntrees =  88 \n",
        "best loss =  0.313439257213 \n",
        "last loss =  0.313439257213\n",
        "learning_rate =  0.255\n",
        "sample_size 200\n",
        "\n",
        "iteration #"
       ]
      },
      {
       "output_type": "stream",
       "stream": "stdout",
       "text": [
        " 88  ntrees =  89 \n",
        "best loss =  0.313238886818 \n",
        "last loss =  0.313238886818\n",
        "learning_rate =  0.255\n",
        "sample_size 200\n",
        "\n",
        "iteration #"
       ]
      },
      {
       "output_type": "stream",
       "stream": "stdout",
       "text": [
        " 89  ntrees =  90 \n",
        "best loss =  0.313043871812 \n",
        "last loss =  0.313043871812\n",
        "learning_rate =  0.255\n",
        "sample_size 200\n",
        "\n",
        "iteration #"
       ]
      },
      {
       "output_type": "stream",
       "stream": "stdout",
       "text": [
        " 90  ntrees =  91 \n",
        "best loss =  0.31283178901 \n",
        "last loss =  0.31283178901\n",
        "learning_rate =  0.255\n",
        "sample_size 200\n",
        "\n",
        "iteration #"
       ]
      },
      {
       "output_type": "stream",
       "stream": "stdout",
       "text": [
        " 91  ntrees =  92 \n",
        "best loss =  0.312610527821 \n",
        "last loss =  0.312610527821\n",
        "learning_rate =  0.255\n",
        "sample_size 200\n",
        "\n",
        "iteration #"
       ]
      },
      {
       "output_type": "stream",
       "stream": "stdout",
       "text": [
        " 92  ntrees =  93 \n",
        "best loss =  0.312411412631 \n",
        "last loss =  0.312411412631\n",
        "learning_rate =  0.255\n",
        "sample_size 200\n",
        "\n",
        "iteration #"
       ]
      },
      {
       "output_type": "stream",
       "stream": "stdout",
       "text": [
        " 93  ntrees =  94 \n",
        "best loss =  0.312199116103 \n",
        "last loss =  0.312199116103\n",
        "learning_rate =  0.255\n",
        "sample_size 200\n",
        "\n",
        "iteration #"
       ]
      },
      {
       "output_type": "stream",
       "stream": "stdout",
       "text": [
        " 94  ntrees =  95 \n",
        "best loss =  0.312002639937 \n",
        "last loss =  0.312002639937\n",
        "learning_rate =  0.255\n",
        "sample_size 200\n",
        "\n",
        "iteration #"
       ]
      },
      {
       "output_type": "stream",
       "stream": "stdout",
       "text": [
        " 95  ntrees =  96 \n",
        "best loss =  0.311817143334 \n",
        "last loss =  0.311817143334\n",
        "learning_rate =  0.255\n",
        "sample_size 200\n",
        "\n",
        "iteration #"
       ]
      },
      {
       "output_type": "stream",
       "stream": "stdout",
       "text": [
        " 96  ntrees =  97 \n",
        "best loss =  0.311617859929 \n",
        "last loss =  0.311617859929\n",
        "learning_rate =  0.255\n",
        "sample_size 200\n",
        "\n",
        "iteration #"
       ]
      },
      {
       "output_type": "stream",
       "stream": "stdout",
       "text": [
        " 97  ntrees =  98 \n",
        "best loss =  0.311420868013 \n",
        "last loss =  0.311420868013\n",
        "learning_rate =  0.255\n",
        "sample_size 200\n",
        "\n",
        "iteration #"
       ]
      },
      {
       "output_type": "stream",
       "stream": "stdout",
       "text": [
        " 98  ntrees =  99 \n",
        "best loss =  0.311228129094 \n",
        "last loss =  0.311228129094\n",
        "learning_rate =  0.255\n",
        "sample_size 200\n",
        "\n",
        "iteration #"
       ]
      },
      {
       "output_type": "stream",
       "stream": "stdout",
       "text": [
        " 99  ntrees =  100 \n",
        "best loss =  0.311039701221 \n",
        "last loss =  0.311039701221\n",
        "learning_rate =  0.255\n",
        "sample_size 200\n",
        "Wall time: 7min 16s\n"
       ]
      }
     ],
     "prompt_number": 13
    },
    {
     "cell_type": "code",
     "collapsed": false,
     "input": [
      "%time\n",
      "#\u043a\u0430\u043a-\u0442\u043e \u043d\u0435 \u0437\u0430\u0442\u0430\u0449\u0438\u043b\u0430\n",
      "res_greedy_wheel = greedy.wheel_up_features_bfs (copy.copy(res_greedy),\n",
      "                           trees,\n",
      "                           trainFactory,\n",
      "                           loss = LogLoss,\n",
      "                           learning_rate = .256,\n",
      "                           nIters = 100,\n",
      "                           trees_sample_size = 200,\n",
      "                           verbose = True,\n",
      "                           regularizer = 0.000392156862745,\n",
      "                           random_walk = True,\n",
      "                           use_joblib = True)"
     ],
     "language": "python",
     "metadata": {},
     "outputs": [
      {
       "output_type": "stream",
       "stream": "stdout",
       "text": [
        "Wall time: 0 ns\n",
        "\n",
        "iteration #"
       ]
      },
      {
       "output_type": "stream",
       "stream": "stdout",
       "text": [
        " 0  ntrees =  100 \n",
        "best loss =  0.311039701221\n",
        "learning_rate =  0.256\n",
        "sample_size 200\n",
        "\n",
        "iteration #"
       ]
      }
     ]
    },
    {
     "cell_type": "code",
     "collapsed": false,
     "input": [
      "y_pred_stupid = greedy.predict(testFactory,trees[:100])\n",
      "y_pred_full = greedy.predict(testFactory,trees)"
     ],
     "language": "python",
     "metadata": {},
     "outputs": [],
     "prompt_number": 19
    },
    {
     "cell_type": "code",
     "collapsed": false,
     "input": [
      "y_pred_greedy = testFactory.predict(res_greedy)\n",
      "y_pred_wheel = testFactory.predict(res_greedy_wheel)"
     ],
     "language": "python",
     "metadata": {},
     "outputs": []
    },
    {
     "cell_type": "code",
     "collapsed": false,
     "input": [
      "w_test = testFactory.weights\n",
      "\n",
      "print metrics.roc_auc_score(Yts,y_pred_greedy,sample_weight=w_test),\n",
      "print metrics.roc_auc_score(Yts,y_pred_wheel,sample_weight=w_test),\n",
      "print metrics.roc_auc_score(Yts,y_pred_stupid,sample_weight=w_test),\n",
      "print metrics.roc_auc_score(Yts,y_pred_full,sample_weight=w_test)\n",
      "print \"well...\""
     ],
     "language": "python",
     "metadata": {},
     "outputs": []
    },
    {
     "cell_type": "code",
     "collapsed": false,
     "input": [
      "_ = joblib.dump(res_greedy,\"dumps/greedy 100 trees\")\n",
      "_ = joblib.dump(res_greedy_wheel,\"dumps/greedy 100 trees pod kol\u0451sami\")"
     ],
     "language": "python",
     "metadata": {},
     "outputs": [],
     "prompt_number": 115
    },
    {
     "cell_type": "markdown",
     "metadata": {},
     "source": [
      "# Upper level thresholds extraction"
     ]
    },
    {
     "cell_type": "code",
     "collapsed": false,
     "input": [
      "#usability distribution\n",
      "thresholds = mnet.get_thresholds(trees,30,0.001)"
     ],
     "language": "python",
     "metadata": {},
     "outputs": [],
     "prompt_number": 116
    },
    {
     "cell_type": "code",
     "collapsed": false,
     "input": [
      "plt.scatter(range(len(thresholds)),thresholds[:,2])\n",
      "print sum(thresholds[:,2] >150)"
     ],
     "language": "python",
     "metadata": {},
     "outputs": [
      {
       "output_type": "stream",
       "stream": "stdout",
       "text": [
        "96\n"
       ]
      },
      {
       "metadata": {},
       "output_type": "display_data",
       "png": "[encoded data removed]",
       "text": [
        "<matplotlib.figure.Figure at 0x22335470>"
       ]
      }
     ],
     "prompt_number": 117
    },
    {
     "cell_type": "markdown",
     "metadata": {},
     "source": [
      "# Criteria selection"
     ]
    },
    {
     "cell_type": "code",
     "collapsed": false,
     "input": [
      "import hierarchy"
     ],
     "language": "python",
     "metadata": {},
     "outputs": [],
     "prompt_number": 118
    },
    {
     "cell_type": "code",
     "collapsed": false,
     "input": [
      "#get them...\n",
      "thresholds_active = thresholds[thresholds[:,2]>100]\n",
      "print len(thresholds_active)\n",
      "criteria = hierarchy.select_criteria(trainFactory,thresholds_active,3,True)"
     ],
     "language": "python",
     "metadata": {},
     "outputs": [
      {
       "output_type": "stream",
       "stream": "stdout",
       "text": [
        "190\n",
        "s:"
       ]
      },
      {
       "output_type": "stream",
       "stream": "stdout",
       "text": [
        " [81387L, 46113L]\n",
        "w: [0.4995172311764362, 0.50048276882352416]\n",
        "s:"
       ]
      },
      {
       "output_type": "stream",
       "stream": "stdout",
       "text": [
        " [35853L, 45534L, 28287L, 17826L]\n",
        "w: [0.26914160839995621, 0.23037562277645596, 0.27439612166068927, 0.22608664716287472]\n",
        "s:"
       ]
      },
      {
       "output_type": "stream",
       "stream": "stdout",
       "text": [
        " [6226L, 11600L, 18312L, 9975L, 18579L, 17274L, 28399L, 17135L]\n",
        "w: [0.10092029004556231, 0.12516635711728766, 0.16975948409694844, 0.10463663756370174, 0.12697836451232206, 0.14216324388758639, 0.13573214315325532, 0.094643479623169297]\n"
       ]
      }
     ],
     "prompt_number": 119
    },
    {
     "cell_type": "code",
     "collapsed": false,
     "input": [
      "criteria"
     ],
     "language": "python",
     "metadata": {},
     "outputs": [
      {
       "metadata": {},
       "output_type": "pyout",
       "prompt_number": 120,
       "text": [
        "[array([  21.        ,  147.61599731,  136.        ]),\n",
        " array([   2.        ,   78.67050171,  131.        ]),\n",
        " array([   1.        ,   44.68050003,  153.        ])]"
       ]
      }
     ],
     "prompt_number": 120
    },
    {
     "cell_type": "code",
     "collapsed": false,
     "input": [
      "split = hierarchy.split_upper(trainFactory,criteria[:2],equalizeWeights=False,split_weights=.75,split_inclusion=0.5)\n",
      "print [split[i].events.shape[0] for i in split]\n",
      "print [sum(split[i].weights) for i in split]"
     ],
     "language": "python",
     "metadata": {},
     "outputs": [
      {
       "output_type": "stream",
       "stream": "stdout",
       "text": [
        "[74645L, 82019L, 69002L, 61208L]\n",
        "[0.47895943911275995, 0.46488655076558255, 0.48265218807690968, 0.46218326481273636]"
       ]
      },
      {
       "output_type": "stream",
       "stream": "stdout",
       "text": [
        "\n"
       ]
      }
     ],
     "prompt_number": 121
    },
    {
     "cell_type": "markdown",
     "metadata": {},
     "source": [
      "#Hierarchical stuff"
     ]
    },
    {
     "cell_type": "code",
     "collapsed": false,
     "input": [
      "%time\n",
      "trees_splitted = hierarchy.train_splitted_boosts(trees, trainFactory,criteria,LogLoss,0.26,1,\n",
      "                                                 100,400,regularizer =0.0004,\n",
      "                                                 verbose=True,use_joblib = True,n_jobs = -1,\n",
      "                                                 weights_outside_leaf = 0.75, inclusion_outside_leaf = 0.75) \n"
     ],
     "language": "python",
     "metadata": {},
     "outputs": [
      {
       "output_type": "stream",
       "stream": "stderr",
       "text": [
        "[Parallel(n_jobs=-1)]: Done   1 out of   8 | elapsed: 27.8min remaining: 194.3min\n",
        "[Parallel(n_jobs=-1)]: Done   8 out of   8 | elapsed: 65.9min finished\n"
       ]
      },
      {
       "output_type": "stream",
       "stream": "stdout",
       "text": [
        "Wall time: 0 ns\n"
       ]
      }
     ],
     "prompt_number": 122
    },
    {
     "cell_type": "code",
     "collapsed": false,
     "input": [
      "%time\n",
      "trees_splitted_wheel = hierarchy.wheel_splitted_boosts(trees_splitted,trees, trainFactory,criteria,LogLoss,0.26,1,\n",
      "                                                 300,400,regularizer =0.0004,\n",
      "                                                 verbose=True,use_joblib = True,n_jobs = -1,\n",
      "                                                 weights_outside_leaf = 0.75, inclusion_outside_leaf = 0.75) "
     ],
     "language": "python",
     "metadata": {},
     "outputs": [
      {
       "output_type": "stream",
       "stream": "stderr",
       "text": [
        "[Parallel(n_jobs=-1)]: Done   1 out of   8 | elapsed:   13.6s remaining:  1.6min\n",
        "[Parallel(n_jobs=-1)]: Done   8 out of   8 | elapsed:   31.9s finished\n"
       ]
      },
      {
       "output_type": "stream",
       "stream": "stdout",
       "text": [
        "Wall time: 0 ns\n"
       ]
      }
     ],
     "prompt_number": 123
    },
    {
     "cell_type": "code",
     "collapsed": false,
     "input": [
      "y_pred_splitted= hierarchy.predict_splitted(testFactory,criteria,trees_splitted)\n",
      "y_pred_splitted_wheel= hierarchy.predict_splitted(testFactory,criteria,trees_splitted_wheel)"
     ],
     "language": "python",
     "metadata": {},
     "outputs": [],
     "prompt_number": 124
    },
    {
     "cell_type": "code",
     "collapsed": false,
     "input": [
      "_= joblib.dump([criteria,trees_splitted],\"dumps/splitted 100_trees\")"
     ],
     "language": "python",
     "metadata": {},
     "outputs": [],
     "prompt_number": 125
    },
    {
     "cell_type": "code",
     "collapsed": false,
     "input": [
      "w_test = testFactory.weights\n",
      "Yts = testFactory.labels\n",
      "print 'spltd\\t',metrics.roc_auc_score(Yts,y_pred_splitted,sample_weight=w_test)\n",
      "print 'greedy\\t',metrics.roc_auc_score(Yts,y_pred_greedy,sample_weight=w_test)\n",
      "print 'stupid\\t',metrics.roc_auc_score(Yts,y_pred_stupid,sample_weight=w_test)\n",
      "print 'full\\t',metrics.roc_auc_score(Yts,y_pred_full,sample_weight=w_test)\n",
      "print \"well...\"\n"
     ],
     "language": "python",
     "metadata": {},
     "outputs": [
      {
       "output_type": "stream",
       "stream": "stdout",
       "text": [
        "spltd\t0.934223877097"
       ]
      },
      {
       "output_type": "stream",
       "stream": "stdout",
       "text": [
        "\n",
        "greedy\t0.933854919452"
       ]
      },
      {
       "output_type": "stream",
       "stream": "stdout",
       "text": [
        "\n",
        "stupid\t0.916904744001"
       ]
      },
      {
       "output_type": "stream",
       "stream": "stdout",
       "text": [
        "\n",
        "full\t0.935834322801"
       ]
      },
      {
       "output_type": "stream",
       "stream": "stdout",
       "text": [
        "\n",
        "well...\n"
       ]
      }
     ],
     "prompt_number": 126
    },
    {
     "cell_type": "markdown",
     "metadata": {},
     "source": [
      "#learning curves"
     ]
    },
    {
     "cell_type": "code",
     "collapsed": false,
     "input": [
      "#I know it could have been done without quadratic complexity over trees, but...\n",
      "#btw equalizing 1-0 weights for the training set is not optimal in terms of AUC, but it is close to being so.\n",
      "n_trees =100\n",
      "auc_stupid_lcurve = [(0.5,)]\n",
      "auc_greedy_lcurve = [(0.5,)]\n",
      "auc_splitted_lcurve = [(0.5,)]\n",
      "for i in range(1,n_trees):\n",
      "    #stpd\n",
      "    pred = testFactory.predict(trees[:i])\n",
      "    auc = metrics.roc_auc_score(testFactory.labels,pred,sample_weight=testFactory.weights),\n",
      "    auc_stupid_lcurve.append( auc)    \n",
      "    #grdy\n",
      "    pred = testFactory.predict(res_greedy[:i])#res_greedy_wheel is not optimized for this dissection \n",
      "    auc = metrics.roc_auc_score(testFactory.labels,pred,sample_weight=testFactory.weights),\n",
      "    auc_greedy_lcurve.append( auc)\n",
      "    #split\n",
      "    trees_i = {code:trees_splitted[code][:i] for code in trees_splitted}\n",
      "    pred = hierarchy.predict_splitted(testFactory,criteria,trees_i)\n",
      "\n",
      "    auc = metrics.roc_auc_score(testFactory.labels,pred,sample_weight=testFactory.weights),\n",
      "    auc_splitted_lcurve.append( auc)"
     ],
     "language": "python",
     "metadata": {},
     "outputs": [],
     "prompt_number": 127
    },
    {
     "cell_type": "code",
     "collapsed": false,
     "input": [
      "p = range(1,n_trees)\n",
      "plt.figure(figsize = [14,14])\n",
      "plt.plot(p,[0.935834322801 for i in range(1,n_trees)],label = \"full\")\n",
      "plt.plot(p,auc_stupid_lcurve[1:n_trees],label = \"stupid\")\n",
      "plt.plot(p,auc_greedy_lcurve[1:n_trees],label = \"greedy\")\n",
      "plt.plot(p,auc_splitted_lcurve[1:n_trees],label = \"splitted\")\n",
      "plt.title('learning curves')\n",
      "plt.legend(loc=\"lower right\")\n"
     ],
     "language": "python",
     "metadata": {},
     "outputs": [
      {
       "metadata": {},
       "output_type": "pyout",
       "prompt_number": 128,
       "text": [
        "<matplotlib.legend.Legend at 0x2a905630>"
       ]
      },
      {
       "metadata": {},
       "output_type": "display_data",
       "png": "[encoded data removed]",
       "text": [
        "<matplotlib.figure.Figure at 0x1850da58>"
       ]
      }
     ],
     "prompt_number": 128
    },
    {
     "cell_type": "markdown",
     "metadata": {},
     "source": [
      "#ROC at 10"
     ]
    },
    {
     "cell_type": "code",
     "collapsed": false,
     "input": [
      "y_pred_greedy_10 = testFactory.predict(res_greedy[:10])\n",
      "y_pred_stupid_10 = testFactory.predict(trees[:10])\n",
      "y_pred_splitted_10 =  hierarchy.predict_splitted(testFactory,criteria, {code:trees_splitted[code][:10] for code in trees_splitted})"
     ],
     "language": "python",
     "metadata": {},
     "outputs": [],
     "prompt_number": 129
    },
    {
     "cell_type": "code",
     "collapsed": false,
     "input": [
      "# Plot ROC curve\n",
      "plt.figure(figsize = [14,14])\n",
      "fpr, tpr, _ = metrics.roc_curve(Yts, y_pred_full,sample_weight=testFactory.weights)\n",
      "plt.plot(fpr, tpr,\n",
      "         label='Full boost classi 10k trees')\n",
      "fpr, tpr, _ = metrics.roc_curve(Yts, y_pred_stupid_10,sample_weight=testFactory.weights)\n",
      "plt.plot(fpr, tpr,\n",
      "         label='first N trees classi')\n",
      "fpr, tpr, _ = metrics.roc_curve(Yts, y_pred_greedy_10,sample_weight=testFactory.weights)\n",
      "plt.plot(fpr, tpr,\n",
      "         label='Greedy prune classi')\n",
      "fpr, tpr, _ = metrics.roc_curve(Yts, y_pred_splitted_10,sample_weight=testFactory.weights)\n",
      "plt.plot(fpr, tpr,\n",
      "         label='8-leaf split classi')\n",
      "\n",
      "\n",
      "plt.plot([0, 1], [0, 1], 'k--')\n",
      "plt.xlim([0.0, 1.0])\n",
      "plt.ylim([0.0, 1.05])\n",
      "plt.xlabel('False Positive Rate')\n",
      "plt.ylabel('True Positive Rate')\n",
      "plt.title('ROC curves at 10 trees')\n",
      "plt.legend(loc=\"lower right\")\n",
      "plt.show()"
     ],
     "language": "python",
     "metadata": {},
     "outputs": [
      {
       "metadata": {},
       "output_type": "display_data",
       "png": "[encoded data removed]",
       "text": [
        "<matplotlib.figure.Figure at 0x1850da20>"
       ]
      }
     ],
     "prompt_number": 130
    },
    {
     "cell_type": "markdown",
     "metadata": {},
     "source": [
      "#ROC at 30"
     ]
    },
    {
     "cell_type": "code",
     "collapsed": false,
     "input": [
      "y_pred_greedy_30 = testFactory.predict(res_greedy[:30])\n",
      "y_pred_stupid_30 = testFactory.predict(trees[:30])\n",
      "y_pred_splitted_30 =  hierarchy.predict_splitted(testFactory,criteria, {code:trees_splitted[code][:30] for code in trees_splitted})"
     ],
     "language": "python",
     "metadata": {},
     "outputs": [],
     "prompt_number": 131
    },
    {
     "cell_type": "code",
     "collapsed": false,
     "input": [
      "# Plot ROC curve\n",
      "plt.figure(figsize = [14,14])\n",
      "fpr, tpr, _ = metrics.roc_curve(Yts, y_pred_full,sample_weight=testFactory.weights)\n",
      "plt.plot(fpr, tpr,\n",
      "         label='Full boost classi 10k trees')\n",
      "fpr, tpr, _ = metrics.roc_curve(Yts, y_pred_stupid_30,sample_weight=testFactory.weights)\n",
      "plt.plot(fpr, tpr,\n",
      "         label='first N trees classi')\n",
      "fpr, tpr, _ = metrics.roc_curve(Yts, y_pred_greedy_30,sample_weight=testFactory.weights)\n",
      "plt.plot(fpr, tpr,\n",
      "         label='Greedy prune classi')\n",
      "fpr, tpr, _ = metrics.roc_curve(Yts, y_pred_splitted_30,sample_weight=testFactory.weights)\n",
      "plt.plot(fpr, tpr,\n",
      "         label='8-leaf split classi')\n",
      "\n",
      "\n",
      "plt.plot([0, 1], [0, 1], 'k--')\n",
      "plt.xlim([0.0, 1.0])\n",
      "plt.ylim([0.0, 1.05])\n",
      "plt.xlabel('False Positive Rate')\n",
      "plt.ylabel('True Positive Rate')\n",
      "plt.title('ROC curves at 30 trees')\n",
      "plt.legend(loc=\"lower right\")\n",
      "plt.show()"
     ],
     "language": "python",
     "metadata": {},
     "outputs": [
      {
       "metadata": {},
       "output_type": "display_data",
       "png": "[encoded data removed]",
       "text": [
        "<matplotlib.figure.Figure at 0x71f1d0f0>"
       ]
      }
     ],
     "prompt_number": 132
    },
    {
     "cell_type": "markdown",
     "metadata": {},
     "source": [
      "#ROC at 100"
     ]
    },
    {
     "cell_type": "code",
     "collapsed": false,
     "input": [
      "y_pred_greedy_100 = testFactory.predict(res_greedy_wheel)\n",
      "y_pred_stupid_100 = testFactory.predict(trees[:100])\n",
      "y_pred_splitted_100 =  hierarchy.predict_splitted(testFactory,criteria, trees_splitted_wheel)"
     ],
     "language": "python",
     "metadata": {},
     "outputs": [],
     "prompt_number": 133
    },
    {
     "cell_type": "code",
     "collapsed": false,
     "input": [
      "# Plot ROC curve\n",
      "plt.figure(figsize = [14,14])\n",
      "fpr, tpr, _ = metrics.roc_curve(Yts, y_pred_full,sample_weight=testFactory.weights)\n",
      "plt.plot(fpr, tpr,\n",
      "         label='Full boost classi 10k trees')\n",
      "fpr, tpr, _ = metrics.roc_curve(Yts, y_pred_stupid_100,sample_weight=testFactory.weights)\n",
      "plt.plot(fpr, tpr,\n",
      "         label='first N trees classi')\n",
      "fpr, tpr, _ = metrics.roc_curve(Yts, y_pred_greedy_100,sample_weight=testFactory.weights)\n",
      "plt.plot(fpr, tpr,\n",
      "         label='Greedy prune classi+wheel')\n",
      "fpr, tpr, _ = metrics.roc_curve(Yts, y_pred_splitted_100,sample_weight=testFactory.weights)\n",
      "plt.plot(fpr, tpr,\n",
      "         label='8-leaf split classi+wheel')\n",
      "\n",
      "\n",
      "plt.plot([0, 1], [0, 1], 'k--')\n",
      "plt.xlim([0.0, 1.0])\n",
      "plt.ylim([0.0, 1.05])\n",
      "plt.xlabel('False Positive Rate')\n",
      "plt.ylabel('True Positive Rate')\n",
      "plt.title('ROC curves at 100 trees')\n",
      "plt.legend(loc=\"lower right\")\n",
      "plt.show()"
     ],
     "language": "python",
     "metadata": {},
     "outputs": [
      {
       "metadata": {},
       "output_type": "display_data",
       "png": "[encoded data removed]",
       "text": [
        "<matplotlib.figure.Figure at 0x1f1b6a90>"
       ]
      }
     ],
     "prompt_number": 134
    },
    {
     "cell_type": "markdown",
     "metadata": {},
     "source": [
      "#kinda..."
     ]
    }
   ],
   "metadata": {}
  }
 ]
}