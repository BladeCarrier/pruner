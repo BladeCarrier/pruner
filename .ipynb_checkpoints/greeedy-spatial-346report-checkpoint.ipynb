{
 "metadata": {
  "name": "",
  "signature": "sha256:8f22c2b24ea3c59e315920ed3b625d1a81230f1b3bc0862b0de9ea5b892df13f"
 },
 "nbformat": 3,
 "nbformat_minor": 0,
 "worksheets": [
  {
   "cells": [
    {
     "cell_type": "code",
     "collapsed": false,
     "input": [
      "# I explore the cuts of the features\n",
      "%matplotlib inline\n",
      "#\u0442\u0430\u043a \u0442\u043e\u0436\u0435 \u043c\u043e\u0436\u043d\u043e \u0440\u0435\u0448\u0438\u0442\u044c \u043f\u0440\u043e\u0431\u043b\u0435\u043c\u0443 \u0438\u043d\u043b\u0430\u0439\u043b\u0430 \u043f\u043b\u043e\u0442\u043e\u0432\n",
      "\n",
      "import matplotlib.pyplot as plt\n",
      "import numpy as np\n",
      "\n",
      "import sklearn.metrics as metrics\n",
      "from sklearn.externals import joblib\n",
      "from sklearn import cross_validation as cv\n",
      "\n",
      "import _matrixnetapplier as mnet\n",
      "import copy\n",
      "import random\n"
     ],
     "language": "python",
     "metadata": {},
     "outputs": [],
     "prompt_number": 12
    },
    {
     "cell_type": "markdown",
     "metadata": {},
     "source": [
      "# Extracting the trained model"
     ]
    },
    {
     "cell_type": "code",
     "collapsed": false,
     "input": [
      "itr,trees = mnet.get_trees(\"formula/formula.mx\")\n",
      "n_features = 30\n",
      "print itr"
     ],
     "language": "python",
     "metadata": {},
     "outputs": [
      {
       "output_type": "stream",
       "stream": "stdout",
       "text": [
        "(6, 10000, <generator object _iterate_over_trees_with_fixed_depth at 0x000000002AA957E0>)\n"
       ]
      }
     ],
     "prompt_number": 13
    },
    {
     "cell_type": "markdown",
     "metadata": {},
     "source": [
      "# Loading dataset"
     ]
    },
    {
     "cell_type": "code",
     "collapsed": false,
     "input": [
      "#load training set\n",
      "def load_data(path):\n",
      "    print 'Loading training data...'\n",
      "    data = np.loadtxt(path, \\\n",
      "            delimiter=',', \\\n",
      "            skiprows=1, \\\n",
      "            converters={32: lambda x:int(x=='s'.encode('utf-8'))})\n",
      "\n",
      "    X = data[:,1:31]\n",
      "    Y = data[:,32]\n",
      "    W = data[:,31]\n",
      "    print \"Loaded.\"\n",
      "    return X,Y,W"
     ],
     "language": "python",
     "metadata": {},
     "outputs": [],
     "prompt_number": 14
    },
    {
     "cell_type": "code",
     "collapsed": false,
     "input": [
      "X,Y,W = load_data(\"data/training.csv\")"
     ],
     "language": "python",
     "metadata": {},
     "outputs": [
      {
       "output_type": "stream",
       "stream": "stdout",
       "text": [
        "Loading training data...\n",
        "Loaded."
       ]
      },
      {
       "output_type": "stream",
       "stream": "stdout",
       "text": [
        "\n"
       ]
      }
     ],
     "prompt_number": 15
    },
    {
     "cell_type": "code",
     "collapsed": false,
     "input": [
      "from sklearn.cross_validation import train_test_split\n",
      "Xtr,Xts,Ytr,Yts,Wtr,Wts = train_test_split(X, Y, W, train_size=0.51, random_state=42)"
     ],
     "language": "python",
     "metadata": {},
     "outputs": [],
     "prompt_number": 16
    },
    {
     "cell_type": "code",
     "collapsed": false,
     "input": [
      "from factory import DataFactory\n",
      "trainFactory = DataFactory(Xtr,Ytr,Wtr)\n",
      "testFactory = DataFactory(Xts,Yts,Wts)"
     ],
     "language": "python",
     "metadata": {},
     "outputs": [],
     "prompt_number": 17
    },
    {
     "cell_type": "code",
     "collapsed": false,
     "input": [
      "#equalize classes, normalize weights\n",
      "posclass_weight =.4\n",
      "trainFactory.equalizeWeights()\n",
      "trainFactory.weights[trainFactory.labels==1]*=posclass_weight/(1-posclass_weight)\n",
      "trainFactory.normalizeWeights()\n",
      "print sum(trainFactory.weights[trainFactory.labels==1]),\n",
      "print sum(trainFactory.weights[trainFactory.labels==0]),\n",
      "print sum(trainFactory.weights),"
     ],
     "language": "python",
     "metadata": {},
     "outputs": [
      {
       "output_type": "stream",
       "stream": "stdout",
       "text": [
        "0.4 0.6 "
       ]
      },
      {
       "output_type": "stream",
       "stream": "stdout",
       "text": [
        "1.0\n"
       ]
      }
     ],
     "prompt_number": 18
    },
    {
     "cell_type": "markdown",
     "metadata": {},
     "source": [
      "#sanity check"
     ]
    },
    {
     "cell_type": "code",
     "collapsed": false,
     "input": [
      "def compute_ams_on_cuts(answers, predictions, sample_weight):\n",
      "    \"\"\" Predictions are probabilities\"\"\"\n",
      "    b, s, thresholds = metrics.roc_curve(answers, predictions, sample_weight=sample_weight)\n",
      "    # normalization constants\n",
      "    real_s = 691.988607712\n",
      "    real_b = 410999.847322\n",
      "    s *= real_s\n",
      "    b *= real_b\n",
      "    br = 10.\n",
      "    radicands = 2 * ((s + b + br) * np.log(1.0 + s/(b + br)) - s)\n",
      "    return thresholds, radicands\n",
      "\n",
      "def optimal_AMS(answers, predictions, sample_weight):\n",
      "    \"\"\" Predictions are probabilities \"\"\"\n",
      "    cuts, radicands = compute_ams_on_cuts(answers, predictions, sample_weight)\n",
      "    return np.sqrt(np.max(radicands))\n",
      "\n",
      "\n",
      "def precisionAt15(answers, predictions, sample_weight, percent=0.15):\n",
      "    n_passed = int(len(answers) * percent)\n",
      "    RATIO = 50\n",
      "    weight = sample_weight.copy()\n",
      "    weight[answers == 0] /= weight[answers == 0].mean() / RATIO\n",
      "    weight[answers == 1] /= weight[answers == 1].mean()\n",
      "    order = np.argsort(-predictions)\n",
      "    passed = order[:n_passed]    \n",
      "    return np.average(answers[passed], weights=weight[passed])"
     ],
     "language": "python",
     "metadata": {},
     "outputs": [],
     "prompt_number": 19
    },
    {
     "cell_type": "code",
     "collapsed": false,
     "input": [
      "def print_control_metrics(proba_test, proba_train):\n",
      "    for name, metric in [('ROC', metrics.roc_auc_score), ('AMS', optimal_AMS), ('precision', precisionAt15)]:\n",
      "        print name,\n",
      "        print metric(Yts, proba_test, sample_weight=Wts), \n",
      "        print metric(Ytr, proba_train, sample_weight=Wtr)"
     ],
     "language": "python",
     "metadata": {},
     "outputs": [],
     "prompt_number": 20
    },
    {
     "cell_type": "code",
     "collapsed": false,
     "input": [
      "%%time\n",
      "print_control_metrics(testFactory.predict(trees),trainFactory.predict(trees))"
     ],
     "language": "python",
     "metadata": {},
     "outputs": [
      {
       "output_type": "stream",
       "stream": "stdout",
       "text": [
        "ROC 0.935834322801 "
       ]
      },
      {
       "output_type": "stream",
       "stream": "stdout",
       "text": [
        "0.96103180375\n",
        "AMS 3.71746365006 "
       ]
      },
      {
       "output_type": "stream",
       "stream": "stdout",
       "text": [
        "5.41899018231\n",
        "precision "
       ]
      },
      {
       "output_type": "stream",
       "stream": "stdout",
       "text": [
        "0.266316147498 0.394846517557\n",
        "Wall time: 32.2 s\n"
       ]
      }
     ],
     "prompt_number": 35
    },
    {
     "cell_type": "markdown",
     "metadata": {},
     "source": [
      "# greedy pruning for the whole data"
     ]
    },
    {
     "cell_type": "code",
     "collapsed": false,
     "input": [
      "import greedy\n",
      "import loss_functions\n"
     ],
     "language": "python",
     "metadata": {},
     "outputs": [],
     "prompt_number": 22
    },
    {
     "cell_type": "code",
     "collapsed": false,
     "input": [
      "print 50./trainFactory.n_events*sum(trainFactory.weights)"
     ],
     "language": "python",
     "metadata": {},
     "outputs": [
      {
       "output_type": "stream",
       "stream": "stdout",
       "text": [
        "0.000392156862745\n"
       ]
      }
     ],
     "prompt_number": 23
    },
    {
     "cell_type": "code",
     "collapsed": false,
     "input": [
      "%%time\n",
      "res_greedy_log = greedy.greed_up_features_bfs(trees,trainFactory,\n",
      "                                          loss = loss_functions.LogLoss,\n",
      "                                          learning_rate = .256,\n",
      "                                          breadth =1,\n",
      "                                          nTrees =100,\n",
      "                                          trees_sample_size =100,\n",
      "                                          verbose = True,\n",
      "                                          regularizer=0.000392156862745,\n",
      "                                          use_joblib=True)\n"
     ],
     "language": "python",
     "metadata": {},
     "outputs": [
      {
       "output_type": "stream",
       "stream": "stdout",
       "text": [
        "\n",
        "iteration # 0  ntrees =  1 \n",
        "best loss =  0.594155809581\n",
        "learning_rate =  0.256\n",
        "sample_size 100\n",
        "\n",
        "iteration #"
       ]
      },
      {
       "output_type": "stream",
       "stream": "stdout",
       "text": [
        " 1  ntrees =  2 \n",
        "best loss =  0.523858857837 \n",
        "last loss =  0.523858857837\n",
        "learning_rate =  0.256\n",
        "sample_size 100\n",
        "\n",
        "iteration #"
       ]
      },
      {
       "output_type": "stream",
       "stream": "stdout",
       "text": [
        " 2  ntrees =  3 \n",
        "best loss =  0.476205675335 \n",
        "last loss =  0.476205675335\n",
        "learning_rate =  0.256\n",
        "sample_size 100\n",
        "\n",
        "iteration #"
       ]
      },
      {
       "output_type": "stream",
       "stream": "stdout",
       "text": [
        " 3  ntrees =  4 \n",
        "best loss =  0.443000038124 \n",
        "last loss =  0.443000038124\n",
        "learning_rate =  0.256\n",
        "sample_size 100\n",
        "\n",
        "iteration #"
       ]
      },
      {
       "output_type": "stream",
       "stream": "stdout",
       "text": [
        " 4  ntrees =  5 \n",
        "best loss =  0.419860901601 \n",
        "last loss =  0.419860901601\n",
        "learning_rate =  0.256\n",
        "sample_size 100\n",
        "\n",
        "iteration #"
       ]
      },
      {
       "output_type": "stream",
       "stream": "stdout",
       "text": [
        " 5  ntrees =  6 \n",
        "best loss =  0.404900712945 \n",
        "last loss =  0.404900712945\n",
        "learning_rate =  0.256\n",
        "sample_size 100\n",
        "\n",
        "iteration #"
       ]
      },
      {
       "output_type": "stream",
       "stream": "stdout",
       "text": [
        " 6  ntrees =  7 \n",
        "best loss =  0.391821906584 \n",
        "last loss =  0.391821906584\n",
        "learning_rate =  0.256\n",
        "sample_size 100\n",
        "\n",
        "iteration #"
       ]
      },
      {
       "output_type": "stream",
       "stream": "stdout",
       "text": [
        " 7  ntrees =  8 \n",
        "best loss =  0.382734806005 \n",
        "last loss =  0.382734806005\n",
        "learning_rate =  0.256\n",
        "sample_size 100\n",
        "\n",
        "iteration #"
       ]
      },
      {
       "output_type": "stream",
       "stream": "stdout",
       "text": [
        " 8  ntrees =  9 \n",
        "best loss =  0.37394882996 \n",
        "last loss =  0.37394882996\n",
        "learning_rate =  0.256\n",
        "sample_size 100\n",
        "\n",
        "iteration #"
       ]
      },
      {
       "output_type": "stream",
       "stream": "stdout",
       "text": [
        " 9  ntrees =  10 \n",
        "best loss =  0.367567385837 \n",
        "last loss =  0.367567385837\n",
        "learning_rate =  0.256\n",
        "sample_size 100\n",
        "\n",
        "iteration #"
       ]
      },
      {
       "output_type": "stream",
       "stream": "stdout",
       "text": [
        " 10  ntrees =  11 \n",
        "best loss =  0.361888749663 \n",
        "last loss =  0.361888749663\n",
        "learning_rate =  0.256\n",
        "sample_size 100\n",
        "\n",
        "iteration #"
       ]
      },
      {
       "output_type": "stream",
       "stream": "stdout",
       "text": [
        " 11  ntrees =  12 \n",
        "best loss =  0.358240480211 \n",
        "last loss =  0.358240480211\n",
        "learning_rate =  0.256\n",
        "sample_size 100\n",
        "\n",
        "iteration #"
       ]
      },
      {
       "output_type": "stream",
       "stream": "stdout",
       "text": [
        " 12  ntrees =  13 \n",
        "best loss =  0.354736034675 \n",
        "last loss =  0.354736034675\n",
        "learning_rate =  0.256\n",
        "sample_size 100\n",
        "\n",
        "iteration #"
       ]
      },
      {
       "output_type": "stream",
       "stream": "stdout",
       "text": [
        " 13  ntrees =  14 \n",
        "best loss =  0.35225357213 \n",
        "last loss =  0.35225357213\n",
        "learning_rate =  0.256\n",
        "sample_size 100\n",
        "\n",
        "iteration #"
       ]
      },
      {
       "output_type": "stream",
       "stream": "stdout",
       "text": [
        " 14  ntrees =  15 \n",
        "best loss =  0.349278137753 \n",
        "last loss =  0.349278137753\n",
        "learning_rate =  0.256\n",
        "sample_size 100\n",
        "\n",
        "iteration #"
       ]
      },
      {
       "output_type": "stream",
       "stream": "stdout",
       "text": [
        " 15  ntrees =  16 \n",
        "best loss =  0.346818840927 \n",
        "last loss =  0.346818840927\n",
        "learning_rate =  0.256\n",
        "sample_size 100\n",
        "\n",
        "iteration #"
       ]
      },
      {
       "output_type": "stream",
       "stream": "stdout",
       "text": [
        " 16  ntrees =  17 \n",
        "best loss =  0.344753653713 \n",
        "last loss =  0.344753653713\n",
        "learning_rate =  0.256\n",
        "sample_size 100\n",
        "\n",
        "iteration #"
       ]
      },
      {
       "output_type": "stream",
       "stream": "stdout",
       "text": [
        " 17  ntrees =  18 \n",
        "best loss =  0.342658239488 \n",
        "last loss =  0.342658239488\n",
        "learning_rate =  0.256\n",
        "sample_size 100\n",
        "\n",
        "iteration #"
       ]
      },
      {
       "output_type": "stream",
       "stream": "stdout",
       "text": [
        " 18  ntrees =  19 \n",
        "best loss =  0.340733429612 \n",
        "last loss =  0.340733429612\n",
        "learning_rate =  0.256\n",
        "sample_size 100\n",
        "\n",
        "iteration #"
       ]
      },
      {
       "output_type": "stream",
       "stream": "stdout",
       "text": [
        " 19  ntrees =  20 \n",
        "best loss =  0.339216070082 \n",
        "last loss =  0.339216070082\n",
        "learning_rate =  0.256\n",
        "sample_size 100\n",
        "\n",
        "iteration #"
       ]
      },
      {
       "output_type": "stream",
       "stream": "stdout",
       "text": [
        " 20  ntrees =  21 \n",
        "best loss =  0.337853694012 \n",
        "last loss =  0.337853694012\n",
        "learning_rate =  0.256\n",
        "sample_size 100\n",
        "\n",
        "iteration #"
       ]
      },
      {
       "output_type": "stream",
       "stream": "stdout",
       "text": [
        " 21  ntrees =  22 \n",
        "best loss =  0.336586702677 \n",
        "last loss =  0.336586702677\n",
        "learning_rate =  0.256\n",
        "sample_size 100\n",
        "\n",
        "iteration #"
       ]
      },
      {
       "output_type": "stream",
       "stream": "stdout",
       "text": [
        " 22  ntrees =  23 \n",
        "best loss =  0.335322474007 \n",
        "last loss =  0.335322474007\n",
        "learning_rate =  0.256\n",
        "sample_size 100\n",
        "\n",
        "iteration #"
       ]
      },
      {
       "output_type": "stream",
       "stream": "stdout",
       "text": [
        " 23  ntrees =  24 \n",
        "best loss =  0.334177523962 \n",
        "last loss =  0.334177523962\n",
        "learning_rate =  0.256\n",
        "sample_size 100\n",
        "\n",
        "iteration #"
       ]
      },
      {
       "output_type": "stream",
       "stream": "stdout",
       "text": [
        " 24  ntrees =  25 \n",
        "best loss =  0.333286735182 \n",
        "last loss =  0.333286735182\n",
        "learning_rate =  0.256\n",
        "sample_size 100\n",
        "\n",
        "iteration #"
       ]
      },
      {
       "output_type": "stream",
       "stream": "stdout",
       "text": [
        " 25  ntrees =  26 \n",
        "best loss =  0.332417627755 \n",
        "last loss =  0.332417627755\n",
        "learning_rate =  0.256\n",
        "sample_size 100\n",
        "\n",
        "iteration #"
       ]
      },
      {
       "output_type": "stream",
       "stream": "stdout",
       "text": [
        " 26  ntrees =  27 \n",
        "best loss =  0.331640073545 \n",
        "last loss =  0.331640073545\n",
        "learning_rate =  0.256\n",
        "sample_size 100\n",
        "\n",
        "iteration #"
       ]
      },
      {
       "output_type": "stream",
       "stream": "stdout",
       "text": [
        " 27  ntrees =  28 \n",
        "best loss =  0.330857423144 \n",
        "last loss =  0.330857423144\n",
        "learning_rate =  0.256\n",
        "sample_size 100\n",
        "\n",
        "iteration #"
       ]
      },
      {
       "output_type": "stream",
       "stream": "stdout",
       "text": [
        " 28  ntrees =  29 \n",
        "best loss =  0.330168879239 \n",
        "last loss =  0.330168879239\n",
        "learning_rate =  0.256\n",
        "sample_size 100\n",
        "\n",
        "iteration #"
       ]
      },
      {
       "output_type": "stream",
       "stream": "stdout",
       "text": [
        " 29  ntrees =  30 \n",
        "best loss =  0.329467290084 \n",
        "last loss =  0.329467290084\n",
        "learning_rate =  0.256\n",
        "sample_size 100\n",
        "\n",
        "iteration #"
       ]
      },
      {
       "output_type": "stream",
       "stream": "stdout",
       "text": [
        " 30  ntrees =  31 \n",
        "best loss =  0.328849550725 \n",
        "last loss =  0.328849550725\n",
        "learning_rate =  0.256\n",
        "sample_size 100\n",
        "\n",
        "iteration #"
       ]
      },
      {
       "output_type": "stream",
       "stream": "stdout",
       "text": [
        " 31  ntrees =  32 \n",
        "best loss =  0.328181586261 \n",
        "last loss =  0.328181586261\n",
        "learning_rate =  0.256\n",
        "sample_size 100\n",
        "\n",
        "iteration #"
       ]
      },
      {
       "output_type": "stream",
       "stream": "stdout",
       "text": [
        " 32  ntrees =  33 \n",
        "best loss =  0.327627711966 \n",
        "last loss =  0.327627711966\n",
        "learning_rate =  0.256\n",
        "sample_size 100\n",
        "\n",
        "iteration #"
       ]
      },
      {
       "output_type": "stream",
       "stream": "stdout",
       "text": [
        " 33  ntrees =  34 \n",
        "best loss =  0.327075923598 \n",
        "last loss =  0.327075923598\n",
        "learning_rate =  0.256\n",
        "sample_size 100\n",
        "\n",
        "iteration #"
       ]
      },
      {
       "output_type": "stream",
       "stream": "stdout",
       "text": [
        " 34  ntrees =  35 \n",
        "best loss =  0.326574245488 \n",
        "last loss =  0.326574245488\n",
        "learning_rate =  0.256\n",
        "sample_size 100\n",
        "\n",
        "iteration #"
       ]
      },
      {
       "output_type": "stream",
       "stream": "stdout",
       "text": [
        " 35  ntrees =  36 \n",
        "best loss =  0.326077683484 \n",
        "last loss =  0.326077683484\n",
        "learning_rate =  0.256\n",
        "sample_size 100\n",
        "\n",
        "iteration #"
       ]
      },
      {
       "output_type": "stream",
       "stream": "stdout",
       "text": [
        " 36  ntrees =  37 \n",
        "best loss =  0.3254924826 \n",
        "last loss =  0.3254924826\n",
        "learning_rate =  0.256\n",
        "sample_size 100\n",
        "\n",
        "iteration #"
       ]
      },
      {
       "output_type": "stream",
       "stream": "stdout",
       "text": [
        " 37  ntrees =  38 \n",
        "best loss =  0.324999727071 \n",
        "last loss =  0.324999727071\n",
        "learning_rate =  0.256\n",
        "sample_size 100\n",
        "\n",
        "iteration #"
       ]
      },
      {
       "output_type": "stream",
       "stream": "stdout",
       "text": [
        " 38  ntrees =  39 \n",
        "best loss =  0.324565514782 \n",
        "last loss =  0.324565514782\n",
        "learning_rate =  0.256\n",
        "sample_size 100\n",
        "\n",
        "iteration #"
       ]
      },
      {
       "output_type": "stream",
       "stream": "stdout",
       "text": [
        " 39  ntrees =  40 \n",
        "best loss =  0.324123052624 \n",
        "last loss =  0.324123052624\n",
        "learning_rate =  0.256\n",
        "sample_size 100\n",
        "\n",
        "iteration #"
       ]
      },
      {
       "output_type": "stream",
       "stream": "stdout",
       "text": [
        " 40  ntrees =  41 \n",
        "best loss =  0.323686018256 \n",
        "last loss =  0.323686018256\n",
        "learning_rate =  0.256\n",
        "sample_size 100\n",
        "\n",
        "iteration #"
       ]
      },
      {
       "output_type": "stream",
       "stream": "stdout",
       "text": [
        " 41  ntrees =  42 \n",
        "best loss =  0.323204283783 \n",
        "last loss =  0.323204283783\n",
        "learning_rate =  0.256\n",
        "sample_size 100\n",
        "\n",
        "iteration #"
       ]
      },
      {
       "output_type": "stream",
       "stream": "stdout",
       "text": [
        " 42  ntrees =  43 \n",
        "best loss =  0.322802401932 \n",
        "last loss =  0.322802401932\n",
        "learning_rate =  0.256\n",
        "sample_size 100\n",
        "\n",
        "iteration #"
       ]
      },
      {
       "output_type": "stream",
       "stream": "stdout",
       "text": [
        " 43  ntrees =  44 \n",
        "best loss =  0.322423592163 \n",
        "last loss =  0.322423592163\n",
        "learning_rate =  0.256\n",
        "sample_size 100\n",
        "\n",
        "iteration #"
       ]
      },
      {
       "output_type": "stream",
       "stream": "stdout",
       "text": [
        " 44  ntrees =  45 \n",
        "best loss =  0.322056053504 \n",
        "last loss =  0.322056053504\n",
        "learning_rate =  0.256\n",
        "sample_size 100\n",
        "\n",
        "iteration #"
       ]
      },
      {
       "output_type": "stream",
       "stream": "stdout",
       "text": [
        " 45  ntrees =  46 \n",
        "best loss =  0.321688678397 \n",
        "last loss =  0.321688678397\n",
        "learning_rate =  0.256\n",
        "sample_size 100\n",
        "\n",
        "iteration #"
       ]
      },
      {
       "output_type": "stream",
       "stream": "stdout",
       "text": [
        " 46  ntrees =  47 \n",
        "best loss =  0.321320228548 \n",
        "last loss =  0.321320228548\n",
        "learning_rate =  0.256\n",
        "sample_size 100\n",
        "\n",
        "iteration #"
       ]
      },
      {
       "output_type": "stream",
       "stream": "stdout",
       "text": [
        " 47  ntrees =  48 \n",
        "best loss =  0.320922131298 \n",
        "last loss =  0.320922131298\n",
        "learning_rate =  0.256\n",
        "sample_size 100\n",
        "\n",
        "iteration #"
       ]
      },
      {
       "output_type": "stream",
       "stream": "stdout",
       "text": [
        " 48  ntrees =  49 \n",
        "best loss =  0.320522522753 \n",
        "last loss =  0.320522522753\n",
        "learning_rate =  0.256\n",
        "sample_size 100\n",
        "\n",
        "iteration #"
       ]
      },
      {
       "output_type": "stream",
       "stream": "stdout",
       "text": [
        " 49  ntrees =  50 \n",
        "best loss =  0.320176663759 \n",
        "last loss =  0.320176663759\n",
        "learning_rate =  0.256\n",
        "sample_size 100\n",
        "\n",
        "iteration #"
       ]
      },
      {
       "output_type": "stream",
       "stream": "stdout",
       "text": [
        " 50  ntrees =  51 \n",
        "best loss =  0.319865862939 \n",
        "last loss =  0.319865862939\n",
        "learning_rate =  0.256\n",
        "sample_size 100\n",
        "\n",
        "iteration #"
       ]
      },
      {
       "output_type": "stream",
       "stream": "stdout",
       "text": [
        " 51  ntrees =  52 \n",
        "best loss =  0.319557998968 \n",
        "last loss =  0.319557998968\n",
        "learning_rate =  0.256\n",
        "sample_size 100\n",
        "\n",
        "iteration #"
       ]
      },
      {
       "output_type": "stream",
       "stream": "stdout",
       "text": [
        " 52  ntrees =  53 \n",
        "best loss =  0.319195537837 \n",
        "last loss =  0.319195537837\n",
        "learning_rate =  0.256\n",
        "sample_size 100\n",
        "\n",
        "iteration #"
       ]
      },
      {
       "output_type": "stream",
       "stream": "stdout",
       "text": [
        " 53  ntrees =  54 \n",
        "best loss =  0.318866433265 \n",
        "last loss =  0.318866433265\n",
        "learning_rate =  0.256\n",
        "sample_size 100\n",
        "\n",
        "iteration #"
       ]
      },
      {
       "output_type": "stream",
       "stream": "stdout",
       "text": [
        " 54  ntrees =  55 \n",
        "best loss =  0.318558163133 \n",
        "last loss =  0.318558163133\n",
        "learning_rate =  0.256\n",
        "sample_size 100\n",
        "\n",
        "iteration #"
       ]
      },
      {
       "output_type": "stream",
       "stream": "stdout",
       "text": [
        " 55  ntrees =  56 \n",
        "best loss =  0.318214643588 \n",
        "last loss =  0.318214643588\n",
        "learning_rate =  0.256\n",
        "sample_size 100\n",
        "\n",
        "iteration #"
       ]
      },
      {
       "output_type": "stream",
       "stream": "stdout",
       "text": [
        " 56  ntrees =  57 \n",
        "best loss =  0.317882467471 \n",
        "last loss =  0.317882467471\n",
        "learning_rate =  0.256\n",
        "sample_size 100\n",
        "\n",
        "iteration #"
       ]
      },
      {
       "output_type": "stream",
       "stream": "stdout",
       "text": [
        " 57  ntrees =  58 \n",
        "best loss =  0.317595244947 \n",
        "last loss =  0.317595244947\n",
        "learning_rate =  0.256\n",
        "sample_size 100\n",
        "\n",
        "iteration #"
       ]
      },
      {
       "output_type": "stream",
       "stream": "stdout",
       "text": [
        " 58  ntrees =  59 \n",
        "best loss =  0.317332688105 \n",
        "last loss =  0.317332688105\n",
        "learning_rate =  0.256\n",
        "sample_size 100\n",
        "\n",
        "iteration #"
       ]
      },
      {
       "output_type": "stream",
       "stream": "stdout",
       "text": [
        " 59  ntrees =  60 \n",
        "best loss =  0.31704479143 \n",
        "last loss =  0.31704479143\n",
        "learning_rate =  0.256\n",
        "sample_size 100\n",
        "\n",
        "iteration #"
       ]
      },
      {
       "output_type": "stream",
       "stream": "stdout",
       "text": [
        " 60  ntrees =  61 \n",
        "best loss =  0.316738191906 \n",
        "last loss =  0.316738191906\n",
        "learning_rate =  0.256\n",
        "sample_size 100\n",
        "\n",
        "iteration #"
       ]
      },
      {
       "output_type": "stream",
       "stream": "stdout",
       "text": [
        " 61  ntrees =  62 \n",
        "best loss =  0.316461591854 \n",
        "last loss =  0.316461591854\n",
        "learning_rate =  0.256\n",
        "sample_size 100\n",
        "\n",
        "iteration #"
       ]
      },
      {
       "output_type": "stream",
       "stream": "stdout",
       "text": [
        " 62  ntrees =  63 \n",
        "best loss =  0.316187003947 \n",
        "last loss =  0.316187003947\n",
        "learning_rate =  0.256\n",
        "sample_size 100\n",
        "\n",
        "iteration #"
       ]
      },
      {
       "output_type": "stream",
       "stream": "stdout",
       "text": [
        " 63  ntrees =  64 \n",
        "best loss =  0.315942035292 \n",
        "last loss =  0.315942035292\n",
        "learning_rate =  0.256\n",
        "sample_size 100\n",
        "\n",
        "iteration #"
       ]
      },
      {
       "output_type": "stream",
       "stream": "stdout",
       "text": [
        " 64  ntrees =  65 \n",
        "best loss =  0.315690706744 \n",
        "last loss =  0.315690706744\n",
        "learning_rate =  0.256\n",
        "sample_size 100\n",
        "\n",
        "iteration #"
       ]
      },
      {
       "output_type": "stream",
       "stream": "stdout",
       "text": [
        " 65  ntrees =  66 \n",
        "best loss =  0.315422462978 \n",
        "last loss =  0.315422462978\n",
        "learning_rate =  0.256\n",
        "sample_size 100\n",
        "\n",
        "iteration #"
       ]
      },
      {
       "output_type": "stream",
       "stream": "stdout",
       "text": [
        " 66  ntrees =  67 \n",
        "best loss =  0.315174706269 \n",
        "last loss =  0.315174706269\n",
        "learning_rate =  0.256\n",
        "sample_size 100\n",
        "\n",
        "iteration #"
       ]
      },
      {
       "output_type": "stream",
       "stream": "stdout",
       "text": [
        " 67  ntrees =  68 \n",
        "best loss =  0.314926443396 \n",
        "last loss =  0.314926443396\n",
        "learning_rate =  0.256\n",
        "sample_size 100\n",
        "\n",
        "iteration #"
       ]
      },
      {
       "output_type": "stream",
       "stream": "stdout",
       "text": [
        " 68  ntrees =  69 \n",
        "best loss =  0.314690155914 \n",
        "last loss =  0.314690155914\n",
        "learning_rate =  0.256\n",
        "sample_size 100\n",
        "\n",
        "iteration #"
       ]
      },
      {
       "output_type": "stream",
       "stream": "stdout",
       "text": [
        " 69  ntrees =  70 \n",
        "best loss =  0.314436343817 \n",
        "last loss =  0.314436343817\n",
        "learning_rate =  0.256\n",
        "sample_size 100\n",
        "\n",
        "iteration #"
       ]
      },
      {
       "output_type": "stream",
       "stream": "stdout",
       "text": [
        " 70  ntrees =  71 \n",
        "best loss =  0.314214517469 \n",
        "last loss =  0.314214517469\n",
        "learning_rate =  0.256\n",
        "sample_size 100\n",
        "\n",
        "iteration #"
       ]
      },
      {
       "output_type": "stream",
       "stream": "stdout",
       "text": [
        " 71  ntrees =  72 \n",
        "best loss =  0.313954596023 \n",
        "last loss =  0.313954596023\n",
        "learning_rate =  0.256\n",
        "sample_size 100\n",
        "\n",
        "iteration #"
       ]
      },
      {
       "output_type": "stream",
       "stream": "stdout",
       "text": [
        " 72  ntrees =  73 \n",
        "best loss =  0.313711633977 \n",
        "last loss =  0.313711633977\n",
        "learning_rate =  0.256\n",
        "sample_size 100\n",
        "\n",
        "iteration #"
       ]
      },
      {
       "output_type": "stream",
       "stream": "stdout",
       "text": [
        " 73  ntrees =  74 \n",
        "best loss =  0.313461921223 \n",
        "last loss =  0.313461921223\n",
        "learning_rate =  0.256\n",
        "sample_size 100\n",
        "\n",
        "iteration #"
       ]
      },
      {
       "output_type": "stream",
       "stream": "stdout",
       "text": [
        " 74  ntrees =  75 \n",
        "best loss =  0.313235160853 \n",
        "last loss =  0.313235160853\n",
        "learning_rate =  0.256\n",
        "sample_size 100\n",
        "\n",
        "iteration #"
       ]
      },
      {
       "output_type": "stream",
       "stream": "stdout",
       "text": [
        " 75  ntrees =  76 \n",
        "best loss =  0.313011401379 \n",
        "last loss =  0.313011401379\n",
        "learning_rate =  0.256\n",
        "sample_size 100\n",
        "\n",
        "iteration #"
       ]
      },
      {
       "output_type": "stream",
       "stream": "stdout",
       "text": [
        " 76  ntrees =  77 \n",
        "best loss =  0.312811301568 \n",
        "last loss =  0.312811301568\n",
        "learning_rate =  0.256\n",
        "sample_size 100\n",
        "\n",
        "iteration #"
       ]
      },
      {
       "output_type": "stream",
       "stream": "stdout",
       "text": [
        " 77  ntrees =  78 \n",
        "best loss =  0.312567144118 \n",
        "last loss =  0.312567144118\n",
        "learning_rate =  0.256\n",
        "sample_size 100\n",
        "\n",
        "iteration #"
       ]
      },
      {
       "output_type": "stream",
       "stream": "stdout",
       "text": [
        " 78  ntrees =  79 \n",
        "best loss =  0.312334824086 \n",
        "last loss =  0.312334824086\n",
        "learning_rate =  0.256\n",
        "sample_size 100\n",
        "\n",
        "iteration #"
       ]
      },
      {
       "output_type": "stream",
       "stream": "stdout",
       "text": [
        " 79  ntrees =  80 \n",
        "best loss =  0.312110622022 \n",
        "last loss =  0.312110622022\n",
        "learning_rate =  0.256\n",
        "sample_size 100\n",
        "\n",
        "iteration #"
       ]
      },
      {
       "output_type": "stream",
       "stream": "stdout",
       "text": [
        " 80  ntrees =  81 \n",
        "best loss =  0.311893227284 \n",
        "last loss =  0.311893227284\n",
        "learning_rate =  0.256\n",
        "sample_size 100\n",
        "\n",
        "iteration #"
       ]
      },
      {
       "output_type": "stream",
       "stream": "stdout",
       "text": [
        " 81  ntrees =  82 \n",
        "best loss =  0.311679619045 \n",
        "last loss =  0.311679619045\n",
        "learning_rate =  0.256\n",
        "sample_size 100\n",
        "\n",
        "iteration #"
       ]
      },
      {
       "output_type": "stream",
       "stream": "stdout",
       "text": [
        " 82  ntrees =  83 \n",
        "best loss =  0.31149530858 \n",
        "last loss =  0.31149530858\n",
        "learning_rate =  0.256\n",
        "sample_size 100\n",
        "\n",
        "iteration #"
       ]
      },
      {
       "output_type": "stream",
       "stream": "stdout",
       "text": [
        " 83  ntrees =  84 \n",
        "best loss =  0.311292527374 \n",
        "last loss =  0.311292527374\n",
        "learning_rate =  0.256\n",
        "sample_size 100\n",
        "\n",
        "iteration #"
       ]
      },
      {
       "output_type": "stream",
       "stream": "stdout",
       "text": [
        " 84  ntrees =  85 \n",
        "best loss =  0.311079628919 \n",
        "last loss =  0.311079628919\n",
        "learning_rate =  0.256\n",
        "sample_size 100\n",
        "\n",
        "iteration #"
       ]
      },
      {
       "output_type": "stream",
       "stream": "stdout",
       "text": [
        " 85  ntrees =  86 \n",
        "best loss =  0.310889068917 \n",
        "last loss =  0.310889068917\n",
        "learning_rate =  0.256\n",
        "sample_size 100\n",
        "\n",
        "iteration #"
       ]
      },
      {
       "output_type": "stream",
       "stream": "stdout",
       "text": [
        " 86  ntrees =  87 \n",
        "best loss =  0.310655132663 \n",
        "last loss =  0.310655132663\n",
        "learning_rate =  0.256\n",
        "sample_size 100\n",
        "\n",
        "iteration #"
       ]
      },
      {
       "output_type": "stream",
       "stream": "stdout",
       "text": [
        " 87  ntrees =  88 \n",
        "best loss =  0.310421050371 \n",
        "last loss =  0.310421050371\n",
        "learning_rate =  0.256\n",
        "sample_size 100\n",
        "\n",
        "iteration #"
       ]
      },
      {
       "output_type": "stream",
       "stream": "stdout",
       "text": [
        " 88  ntrees =  89 \n",
        "best loss =  0.310225163991 \n",
        "last loss =  0.310225163991\n",
        "learning_rate =  0.256\n",
        "sample_size 100\n",
        "\n",
        "iteration #"
       ]
      },
      {
       "output_type": "stream",
       "stream": "stdout",
       "text": [
        " 89  ntrees =  90 \n",
        "best loss =  0.310032412152 \n",
        "last loss =  0.310032412152\n",
        "learning_rate =  0.256\n",
        "sample_size 100\n",
        "\n",
        "iteration #"
       ]
      },
      {
       "output_type": "stream",
       "stream": "stdout",
       "text": [
        " 90  ntrees =  91 \n",
        "best loss =  0.309816891667 \n",
        "last loss =  0.309816891667\n",
        "learning_rate =  0.256\n",
        "sample_size 100\n",
        "\n",
        "iteration #"
       ]
      },
      {
       "output_type": "stream",
       "stream": "stdout",
       "text": [
        " 91  ntrees =  92 \n",
        "best loss =  0.309587794032 \n",
        "last loss =  0.309587794032\n",
        "learning_rate =  0.256\n",
        "sample_size 100\n",
        "\n",
        "iteration #"
       ]
      },
      {
       "output_type": "stream",
       "stream": "stdout",
       "text": [
        " 92  ntrees =  93 \n",
        "best loss =  0.309375724772 \n",
        "last loss =  0.309375724772\n",
        "learning_rate =  0.256\n",
        "sample_size 100\n",
        "\n",
        "iteration #"
       ]
      },
      {
       "output_type": "stream",
       "stream": "stdout",
       "text": [
        " 93  ntrees =  94 \n",
        "best loss =  0.309166921207 \n",
        "last loss =  0.309166921207\n",
        "learning_rate =  0.256\n",
        "sample_size 100\n",
        "\n",
        "iteration #"
       ]
      },
      {
       "output_type": "stream",
       "stream": "stdout",
       "text": [
        " 94  ntrees =  95 \n",
        "best loss =  0.308943738844 \n",
        "last loss =  0.308943738844\n",
        "learning_rate =  0.256\n",
        "sample_size 100\n",
        "\n",
        "iteration #"
       ]
      },
      {
       "output_type": "stream",
       "stream": "stdout",
       "text": [
        " 95  ntrees =  96 \n",
        "best loss =  0.308737048768 \n",
        "last loss =  0.308737048768\n",
        "learning_rate =  0.256\n",
        "sample_size 100\n",
        "\n",
        "iteration #"
       ]
      },
      {
       "output_type": "stream",
       "stream": "stdout",
       "text": [
        " 96  ntrees =  97 \n",
        "best loss =  0.308541308648 \n",
        "last loss =  0.308541308648\n",
        "learning_rate =  0.256\n",
        "sample_size 100\n",
        "\n",
        "iteration #"
       ]
      },
      {
       "output_type": "stream",
       "stream": "stdout",
       "text": [
        " 97  ntrees =  98 \n",
        "best loss =  0.3083408725 \n",
        "last loss =  0.3083408725\n",
        "learning_rate =  0.256\n",
        "sample_size 100\n",
        "\n",
        "iteration #"
       ]
      },
      {
       "output_type": "stream",
       "stream": "stdout",
       "text": [
        " 98  ntrees =  99 \n",
        "best loss =  0.308148337925 \n",
        "last loss =  0.308148337925\n",
        "learning_rate =  0.256\n",
        "sample_size 100\n",
        "\n",
        "iteration #"
       ]
      },
      {
       "output_type": "stream",
       "stream": "stdout",
       "text": [
        " 99  ntrees =  100 \n",
        "best loss =  0.30796752593 \n",
        "last loss =  0.30796752593\n",
        "learning_rate =  0.256\n",
        "sample_size 100\n",
        "Wall time: 3min 1s\n"
       ]
      }
     ],
     "prompt_number": 24
    },
    {
     "cell_type": "code",
     "collapsed": false,
     "input": [
      "%time\n",
      "res_greedy_logauc = greedy.greed_up_features_bfs(trees,trainFactory,\n",
      "                                          loss = loss_functions.LogLossAuc,\n",
      "                                          learning_rate = .256,\n",
      "                                          breadth =1,\n",
      "                                          nTrees =100,\n",
      "                                          trees_sample_size =100,\n",
      "                                          verbose = True,\n",
      "                                          regularizer=0.000392156862745,\n",
      "                                          use_joblib=True)"
     ],
     "language": "python",
     "metadata": {},
     "outputs": [
      {
       "output_type": "stream",
       "stream": "stdout",
       "text": [
        "Wall time: 1e+03 \u00b5s\n",
        "\n",
        "iteration #"
       ]
      },
      {
       "output_type": "stream",
       "stream": "stdout",
       "text": [
        " 0  ntrees =  1 \n",
        "best loss =  0.651620276589\n",
        "learning_rate =  0.256\n",
        "sample_size 100\n",
        "\n",
        "iteration #"
       ]
      },
      {
       "output_type": "stream",
       "stream": "stdout",
       "text": [
        " 1  ntrees =  2 \n",
        "best loss =  0.588222582338 \n",
        "last loss =  0.588222582338\n",
        "learning_rate =  0.256\n",
        "sample_size 100\n",
        "\n",
        "iteration #"
       ]
      },
      {
       "output_type": "stream",
       "stream": "stdout",
       "text": [
        " 2  ntrees =  3 \n",
        "best loss =  0.527692426892 \n",
        "last loss =  0.527692426892\n",
        "learning_rate =  0.256\n",
        "sample_size 100\n",
        "\n",
        "iteration #"
       ]
      },
      {
       "output_type": "stream",
       "stream": "stdout",
       "text": [
        " 3  ntrees =  4 \n",
        "best loss =  0.487375663272 \n",
        "last loss =  0.487375663272\n",
        "learning_rate =  0.256\n",
        "sample_size 100\n",
        "\n",
        "iteration #"
       ]
      },
      {
       "output_type": "stream",
       "stream": "stdout",
       "text": [
        " 4  ntrees =  5 \n",
        "best loss =  0.4648616196 \n",
        "last loss =  0.4648616196\n",
        "learning_rate =  0.256\n",
        "sample_size 100\n",
        "\n",
        "iteration #"
       ]
      },
      {
       "output_type": "stream",
       "stream": "stdout",
       "text": [
        " 5  ntrees =  6 \n",
        "best loss =  0.443873778264 \n",
        "last loss =  0.443873778264\n",
        "learning_rate =  0.256\n",
        "sample_size 100\n",
        "\n",
        "iteration #"
       ]
      },
      {
       "output_type": "stream",
       "stream": "stdout",
       "text": [
        " 6  ntrees =  7 \n",
        "best loss =  0.427745388336 \n",
        "last loss =  0.427745388336\n",
        "learning_rate =  0.256\n",
        "sample_size 100\n",
        "\n",
        "iteration #"
       ]
      },
      {
       "output_type": "stream",
       "stream": "stdout",
       "text": [
        " 7  ntrees =  8 \n",
        "best loss =  0.415868128644 \n",
        "last loss =  0.415868128644\n",
        "learning_rate =  0.256\n",
        "sample_size 100\n",
        "\n",
        "iteration #"
       ]
      },
      {
       "output_type": "stream",
       "stream": "stdout",
       "text": [
        " 8  ntrees =  9 \n",
        "best loss =  0.407120210392 \n",
        "last loss =  0.407120210392\n",
        "learning_rate =  0.256\n",
        "sample_size 100\n",
        "\n",
        "iteration #"
       ]
      },
      {
       "output_type": "stream",
       "stream": "stdout",
       "text": [
        " 9  ntrees =  10 \n",
        "best loss =  0.400113949333 \n",
        "last loss =  0.400113949333\n",
        "learning_rate =  0.256\n",
        "sample_size 100\n",
        "\n",
        "iteration #"
       ]
      },
      {
       "output_type": "stream",
       "stream": "stdout",
       "text": [
        " 10  ntrees =  11 \n",
        "best loss =  0.394599074425 \n",
        "last loss =  0.394599074425\n",
        "learning_rate =  0.256\n",
        "sample_size 100\n",
        "\n",
        "iteration #"
       ]
      },
      {
       "output_type": "stream",
       "stream": "stdout",
       "text": [
        " 11  ntrees =  12 \n",
        "best loss =  0.389712452148 \n",
        "last loss =  0.389712452148\n",
        "learning_rate =  0.256\n",
        "sample_size 100\n",
        "\n",
        "iteration #"
       ]
      },
      {
       "output_type": "stream",
       "stream": "stdout",
       "text": [
        " 12  ntrees =  13 \n",
        "best loss =  0.385160674062 \n",
        "last loss =  0.385160674062\n",
        "learning_rate =  0.256\n",
        "sample_size 100\n",
        "\n",
        "iteration #"
       ]
      },
      {
       "output_type": "stream",
       "stream": "stdout",
       "text": [
        " 13  ntrees =  14 \n",
        "best loss =  0.38175901499 \n",
        "last loss =  0.38175901499\n",
        "learning_rate =  0.256\n",
        "sample_size 100\n",
        "\n",
        "iteration #"
       ]
      },
      {
       "output_type": "stream",
       "stream": "stdout",
       "text": [
        " 14  ntrees =  15 \n",
        "best loss =  0.378777272215 \n",
        "last loss =  0.378777272215\n",
        "learning_rate =  0.256\n",
        "sample_size 100\n",
        "\n",
        "iteration #"
       ]
      },
      {
       "output_type": "stream",
       "stream": "stdout",
       "text": [
        " 15  ntrees =  16 \n",
        "best loss =  0.375671607554 \n",
        "last loss =  0.375671607554\n",
        "learning_rate =  0.256\n",
        "sample_size 100\n",
        "\n",
        "iteration #"
       ]
      },
      {
       "output_type": "stream",
       "stream": "stdout",
       "text": [
        " 16  ntrees =  17 \n",
        "best loss =  0.373391030812 \n",
        "last loss =  0.373391030812\n",
        "learning_rate =  0.256\n",
        "sample_size 100\n",
        "\n",
        "iteration #"
       ]
      },
      {
       "output_type": "stream",
       "stream": "stdout",
       "text": [
        " 17  ntrees =  18 \n",
        "best loss =  0.370747465404 \n",
        "last loss =  0.370747465404\n",
        "learning_rate =  0.256\n",
        "sample_size 100\n",
        "\n",
        "iteration #"
       ]
      },
      {
       "output_type": "stream",
       "stream": "stdout",
       "text": [
        " 18  ntrees =  19 \n",
        "best loss =  0.368668627789 \n",
        "last loss =  0.368668627789\n",
        "learning_rate =  0.256\n",
        "sample_size 100\n",
        "\n",
        "iteration #"
       ]
      },
      {
       "output_type": "stream",
       "stream": "stdout",
       "text": [
        " 19  ntrees =  20 \n",
        "best loss =  0.366738038933 \n",
        "last loss =  0.366738038933\n",
        "learning_rate =  0.256\n",
        "sample_size 100\n",
        "\n",
        "iteration #"
       ]
      },
      {
       "output_type": "stream",
       "stream": "stdout",
       "text": [
        " 20  ntrees =  21 \n",
        "best loss =  0.365280526213 \n",
        "last loss =  0.365280526213\n",
        "learning_rate =  0.256\n",
        "sample_size 100\n",
        "\n",
        "iteration #"
       ]
      },
      {
       "output_type": "stream",
       "stream": "stdout",
       "text": [
        " 21  ntrees =  22 \n",
        "best loss =  0.364013292385 \n",
        "last loss =  0.364013292385\n",
        "learning_rate =  0.256\n",
        "sample_size 100\n",
        "\n",
        "iteration #"
       ]
      },
      {
       "output_type": "stream",
       "stream": "stdout",
       "text": [
        " 22  ntrees =  23 \n",
        "best loss =  0.362770590979 \n",
        "last loss =  0.362770590979\n",
        "learning_rate =  0.256\n",
        "sample_size 100\n",
        "\n",
        "iteration #"
       ]
      },
      {
       "output_type": "stream",
       "stream": "stdout",
       "text": [
        " 23  ntrees =  24 \n",
        "best loss =  0.361710657004 \n",
        "last loss =  0.361710657004\n",
        "learning_rate =  0.256\n",
        "sample_size 100\n",
        "\n",
        "iteration #"
       ]
      },
      {
       "output_type": "stream",
       "stream": "stdout",
       "text": [
        " 24  ntrees =  25 \n",
        "best loss =  0.36056890299 \n",
        "last loss =  0.36056890299\n",
        "learning_rate =  0.256\n",
        "sample_size 100\n",
        "\n",
        "iteration #"
       ]
      },
      {
       "output_type": "stream",
       "stream": "stdout",
       "text": [
        " 25  ntrees =  26 \n",
        "best loss =  0.359404364244 \n",
        "last loss =  0.359404364244\n",
        "learning_rate =  0.256\n",
        "sample_size 100\n",
        "\n",
        "iteration #"
       ]
      },
      {
       "output_type": "stream",
       "stream": "stdout",
       "text": [
        " 26  ntrees =  27 \n",
        "best loss =  0.358513208813 \n",
        "last loss =  0.358513208813\n",
        "learning_rate =  0.256\n",
        "sample_size 100\n",
        "\n",
        "iteration #"
       ]
      },
      {
       "output_type": "stream",
       "stream": "stdout",
       "text": [
        " 27  ntrees =  28 \n",
        "best loss =  0.357339361735 \n",
        "last loss =  0.357339361735\n",
        "learning_rate =  0.256\n",
        "sample_size 100\n",
        "\n",
        "iteration #"
       ]
      },
      {
       "output_type": "stream",
       "stream": "stdout",
       "text": [
        " 28  ntrees =  29 \n",
        "best loss =  0.356375902645 \n",
        "last loss =  0.356375902645\n",
        "learning_rate =  0.256\n",
        "sample_size 100\n",
        "\n",
        "iteration #"
       ]
      },
      {
       "output_type": "stream",
       "stream": "stdout",
       "text": [
        " 29  ntrees =  30 \n",
        "best loss =  0.355461068899 \n",
        "last loss =  0.355461068899\n",
        "learning_rate =  0.256\n",
        "sample_size 100\n",
        "\n",
        "iteration #"
       ]
      },
      {
       "output_type": "stream",
       "stream": "stdout",
       "text": [
        " 30  ntrees =  31 \n",
        "best loss =  0.354618042604 \n",
        "last loss =  0.354618042604\n",
        "learning_rate =  0.256\n",
        "sample_size 100\n",
        "\n",
        "iteration #"
       ]
      },
      {
       "output_type": "stream",
       "stream": "stdout",
       "text": [
        " 31  ntrees =  32 \n",
        "best loss =  0.35376591705 \n",
        "last loss =  0.35376591705\n",
        "learning_rate =  0.256\n",
        "sample_size 100\n",
        "\n",
        "iteration #"
       ]
      },
      {
       "output_type": "stream",
       "stream": "stdout",
       "text": [
        " 32  ntrees =  33 \n",
        "best loss =  0.35303616208 \n",
        "last loss =  0.35303616208\n",
        "learning_rate =  0.256\n",
        "sample_size 100\n",
        "\n",
        "iteration #"
       ]
      },
      {
       "output_type": "stream",
       "stream": "stdout",
       "text": [
        " 33  ntrees =  34 \n",
        "best loss =  0.35233089355 \n",
        "last loss =  0.35233089355\n",
        "learning_rate =  0.256\n",
        "sample_size 100\n",
        "\n",
        "iteration #"
       ]
      },
      {
       "output_type": "stream",
       "stream": "stdout",
       "text": [
        " 34  ntrees =  35 \n",
        "best loss =  0.35170879951 \n",
        "last loss =  0.35170879951\n",
        "learning_rate =  0.256\n",
        "sample_size 100\n",
        "\n",
        "iteration #"
       ]
      },
      {
       "output_type": "stream",
       "stream": "stdout",
       "text": [
        " 35  ntrees =  36 \n",
        "best loss =  0.351044381964 \n",
        "last loss =  0.351044381964\n",
        "learning_rate =  0.256\n",
        "sample_size 100\n",
        "\n",
        "iteration #"
       ]
      },
      {
       "output_type": "stream",
       "stream": "stdout",
       "text": [
        " 36  ntrees =  37 \n",
        "best loss =  0.350445517559 \n",
        "last loss =  0.350445517559\n",
        "learning_rate =  0.256\n",
        "sample_size 100\n",
        "\n",
        "iteration #"
       ]
      },
      {
       "output_type": "stream",
       "stream": "stdout",
       "text": [
        " 37  ntrees =  38 \n",
        "best loss =  0.349870087009 \n",
        "last loss =  0.349870087009\n",
        "learning_rate =  0.256\n",
        "sample_size 100\n",
        "\n",
        "iteration #"
       ]
      },
      {
       "output_type": "stream",
       "stream": "stdout",
       "text": [
        " 38  ntrees =  39 \n",
        "best loss =  0.349286063134 \n",
        "last loss =  0.349286063134\n",
        "learning_rate =  0.256\n",
        "sample_size 100\n",
        "\n",
        "iteration #"
       ]
      },
      {
       "output_type": "stream",
       "stream": "stdout",
       "text": [
        " 39  ntrees =  40 \n",
        "best loss =  0.348752754624 \n",
        "last loss =  0.348752754624\n",
        "learning_rate =  0.256\n",
        "sample_size 100\n",
        "\n",
        "iteration #"
       ]
      },
      {
       "output_type": "stream",
       "stream": "stdout",
       "text": [
        " 40  ntrees =  41 \n",
        "best loss =  0.348245107732 \n",
        "last loss =  0.348245107732\n",
        "learning_rate =  0.256\n",
        "sample_size 100\n",
        "\n",
        "iteration #"
       ]
      },
      {
       "output_type": "stream",
       "stream": "stdout",
       "text": [
        " 41  ntrees =  42 \n",
        "best loss =  0.347656064761 \n",
        "last loss =  0.347656064761\n",
        "learning_rate =  0.256\n",
        "sample_size 100\n",
        "\n",
        "iteration #"
       ]
      },
      {
       "output_type": "stream",
       "stream": "stdout",
       "text": [
        " 42  ntrees =  43 \n",
        "best loss =  0.347152540457 \n",
        "last loss =  0.347152540457\n",
        "learning_rate =  0.256\n",
        "sample_size 100\n",
        "\n",
        "iteration #"
       ]
      },
      {
       "output_type": "stream",
       "stream": "stdout",
       "text": [
        " 43  ntrees =  44 \n",
        "best loss =  0.34666702105 \n",
        "last loss =  0.34666702105\n",
        "learning_rate =  0.256\n",
        "sample_size 100\n",
        "\n",
        "iteration #"
       ]
      },
      {
       "output_type": "stream",
       "stream": "stdout",
       "text": [
        " 44  ntrees =  45 \n",
        "best loss =  0.346155093572 \n",
        "last loss =  0.346155093572\n",
        "learning_rate =  0.256\n",
        "sample_size 100\n",
        "\n",
        "iteration #"
       ]
      },
      {
       "output_type": "stream",
       "stream": "stdout",
       "text": [
        " 45  ntrees =  46 \n",
        "best loss =  0.345658262586 \n",
        "last loss =  0.345658262586\n",
        "learning_rate =  0.256\n",
        "sample_size 100\n",
        "\n",
        "iteration #"
       ]
      },
      {
       "output_type": "stream",
       "stream": "stdout",
       "text": [
        " 46  ntrees =  47 \n",
        "best loss =  0.345129888338 \n",
        "last loss =  0.345129888338\n",
        "learning_rate =  0.256\n",
        "sample_size 100\n",
        "\n",
        "iteration #"
       ]
      },
      {
       "output_type": "stream",
       "stream": "stdout",
       "text": [
        " 47  ntrees =  48 \n",
        "best loss =  0.344696769368 \n",
        "last loss =  0.344696769368\n",
        "learning_rate =  0.256\n",
        "sample_size 100\n",
        "\n",
        "iteration #"
       ]
      },
      {
       "output_type": "stream",
       "stream": "stdout",
       "text": [
        " 48  ntrees =  49 \n",
        "best loss =  0.34424132972 \n",
        "last loss =  0.34424132972\n",
        "learning_rate =  0.256\n",
        "sample_size 100\n",
        "\n",
        "iteration #"
       ]
      },
      {
       "output_type": "stream",
       "stream": "stdout",
       "text": [
        " 49  ntrees =  50 \n",
        "best loss =  0.343818795367 \n",
        "last loss =  0.343818795367\n",
        "learning_rate =  0.256\n",
        "sample_size 100\n",
        "\n",
        "iteration #"
       ]
      },
      {
       "output_type": "stream",
       "stream": "stdout",
       "text": [
        " 50  ntrees =  51 \n",
        "best loss =  0.343431936324 \n",
        "last loss =  0.343431936324\n",
        "learning_rate =  0.256\n",
        "sample_size 100\n",
        "\n",
        "iteration #"
       ]
      },
      {
       "output_type": "stream",
       "stream": "stdout",
       "text": [
        " 51  ntrees =  52 \n",
        "best loss =  0.343026505416 \n",
        "last loss =  0.343026505416\n",
        "learning_rate =  0.256\n",
        "sample_size 100\n",
        "\n",
        "iteration #"
       ]
      },
      {
       "output_type": "stream",
       "stream": "stdout",
       "text": [
        " 52  ntrees =  53 \n",
        "best loss =  0.342637997184 \n",
        "last loss =  0.342637997184\n",
        "learning_rate =  0.256\n",
        "sample_size 100\n",
        "\n",
        "iteration #"
       ]
      },
      {
       "output_type": "stream",
       "stream": "stdout",
       "text": [
        " 53  ntrees =  54 \n",
        "best loss =  0.342218338608 \n",
        "last loss =  0.342218338608\n",
        "learning_rate =  0.256\n",
        "sample_size 100\n",
        "\n",
        "iteration #"
       ]
      },
      {
       "output_type": "stream",
       "stream": "stdout",
       "text": [
        " 54  ntrees =  55 \n",
        "best loss =  0.341838457784 \n",
        "last loss =  0.341838457784\n",
        "learning_rate =  0.256\n",
        "sample_size 100\n",
        "\n",
        "iteration #"
       ]
      },
      {
       "output_type": "stream",
       "stream": "stdout",
       "text": [
        " 55  ntrees =  56 \n",
        "best loss =  0.341455908833 \n",
        "last loss =  0.341455908833\n",
        "learning_rate =  0.256\n",
        "sample_size 100\n",
        "\n",
        "iteration #"
       ]
      },
      {
       "output_type": "stream",
       "stream": "stdout",
       "text": [
        " 56  ntrees =  57 \n",
        "best loss =  0.341026843927 \n",
        "last loss =  0.341026843927\n",
        "learning_rate =  0.256\n",
        "sample_size 100\n",
        "\n",
        "iteration #"
       ]
      },
      {
       "output_type": "stream",
       "stream": "stdout",
       "text": [
        " 57  ntrees =  58 \n",
        "best loss =  0.340689363827 \n",
        "last loss =  0.340689363827\n",
        "learning_rate =  0.256\n",
        "sample_size 100\n",
        "\n",
        "iteration #"
       ]
      },
      {
       "output_type": "stream",
       "stream": "stdout",
       "text": [
        " 58  ntrees =  59 \n",
        "best loss =  0.340292778124 \n",
        "last loss =  0.340292778124\n",
        "learning_rate =  0.256\n",
        "sample_size 100\n",
        "\n",
        "iteration #"
       ]
      },
      {
       "output_type": "stream",
       "stream": "stdout",
       "text": [
        " 59  ntrees =  60 \n",
        "best loss =  0.339897381124 \n",
        "last loss =  0.339897381124\n",
        "learning_rate =  0.256\n",
        "sample_size 100\n",
        "\n",
        "iteration #"
       ]
      },
      {
       "output_type": "stream",
       "stream": "stdout",
       "text": [
        " 60  ntrees =  61 \n",
        "best loss =  0.339571689442 \n",
        "last loss =  0.339571689442\n",
        "learning_rate =  0.256\n",
        "sample_size 100\n",
        "\n",
        "iteration #"
       ]
      },
      {
       "output_type": "stream",
       "stream": "stdout",
       "text": [
        " 61  ntrees =  62 \n",
        "best loss =  0.33926537803 \n",
        "last loss =  0.33926537803\n",
        "learning_rate =  0.256\n",
        "sample_size 100\n",
        "\n",
        "iteration #"
       ]
      },
      {
       "output_type": "stream",
       "stream": "stdout",
       "text": [
        " 62  ntrees =  63 \n",
        "best loss =  0.338918534763 \n",
        "last loss =  0.338918534763\n",
        "learning_rate =  0.256\n",
        "sample_size 100\n",
        "\n",
        "iteration #"
       ]
      },
      {
       "output_type": "stream",
       "stream": "stdout",
       "text": [
        " 63  ntrees =  64 \n",
        "best loss =  0.338592805849 \n",
        "last loss =  0.338592805849\n",
        "learning_rate =  0.256\n",
        "sample_size 100\n",
        "\n",
        "iteration #"
       ]
      },
      {
       "output_type": "stream",
       "stream": "stdout",
       "text": [
        " 64  ntrees =  65 \n",
        "best loss =  0.338275081504 \n",
        "last loss =  0.338275081504\n",
        "learning_rate =  0.256\n",
        "sample_size 100\n",
        "\n",
        "iteration #"
       ]
      },
      {
       "output_type": "stream",
       "stream": "stdout",
       "text": [
        " 65  ntrees =  66 \n",
        "best loss =  0.337947499846 \n",
        "last loss =  0.337947499846\n",
        "learning_rate =  0.256\n",
        "sample_size 100\n",
        "\n",
        "iteration #"
       ]
      },
      {
       "output_type": "stream",
       "stream": "stdout",
       "text": [
        " 66  ntrees =  67 \n",
        "best loss =  0.33760610501 \n",
        "last loss =  0.33760610501\n",
        "learning_rate =  0.256\n",
        "sample_size 100\n",
        "\n",
        "iteration #"
       ]
      },
      {
       "output_type": "stream",
       "stream": "stdout",
       "text": [
        " 67  ntrees =  68 \n",
        "best loss =  0.337287316714 \n",
        "last loss =  0.337287316714\n",
        "learning_rate =  0.256\n",
        "sample_size 100\n",
        "\n",
        "iteration #"
       ]
      },
      {
       "output_type": "stream",
       "stream": "stdout",
       "text": [
        " 68  ntrees =  69 \n",
        "best loss =  0.336999106773 \n",
        "last loss =  0.336999106773\n",
        "learning_rate =  0.256\n",
        "sample_size 100\n",
        "\n",
        "iteration #"
       ]
      },
      {
       "output_type": "stream",
       "stream": "stdout",
       "text": [
        " 69  ntrees =  70 \n",
        "best loss =  0.33671552782 \n",
        "last loss =  0.33671552782\n",
        "learning_rate =  0.256\n",
        "sample_size 100\n",
        "\n",
        "iteration #"
       ]
      },
      {
       "output_type": "stream",
       "stream": "stdout",
       "text": [
        " 70  ntrees =  71 \n",
        "best loss =  0.336410175302 \n",
        "last loss =  0.336410175302\n",
        "learning_rate =  0.256\n",
        "sample_size 100\n",
        "\n",
        "iteration #"
       ]
      },
      {
       "output_type": "stream",
       "stream": "stdout",
       "text": [
        " 71  ntrees =  72 \n",
        "best loss =  0.336103119599 \n",
        "last loss =  0.336103119599\n",
        "learning_rate =  0.256\n",
        "sample_size 100\n",
        "\n",
        "iteration #"
       ]
      },
      {
       "output_type": "stream",
       "stream": "stdout",
       "text": [
        " 72  ntrees =  73 \n",
        "best loss =  0.335850985966 \n",
        "last loss =  0.335850985966\n",
        "learning_rate =  0.256\n",
        "sample_size 100\n",
        "\n",
        "iteration #"
       ]
      },
      {
       "output_type": "stream",
       "stream": "stdout",
       "text": [
        " 73  ntrees =  74 \n",
        "best loss =  0.335561196004 \n",
        "last loss =  0.335561196004\n",
        "learning_rate =  0.256\n",
        "sample_size 100\n",
        "\n",
        "iteration #"
       ]
      },
      {
       "output_type": "stream",
       "stream": "stdout",
       "text": [
        " 74  ntrees =  75 \n",
        "best loss =  0.335221980467 \n",
        "last loss =  0.335221980467\n",
        "learning_rate =  0.256\n",
        "sample_size 100\n",
        "\n",
        "iteration #"
       ]
      },
      {
       "output_type": "stream",
       "stream": "stdout",
       "text": [
        " 75  ntrees =  76 \n",
        "best loss =  0.334907586117 \n",
        "last loss =  0.334907586117\n",
        "learning_rate =  0.256\n",
        "sample_size 100\n",
        "\n",
        "iteration #"
       ]
      },
      {
       "output_type": "stream",
       "stream": "stdout",
       "text": [
        " 76  ntrees =  77 \n",
        "best loss =  0.334620257504 \n",
        "last loss =  0.334620257504\n",
        "learning_rate =  0.256\n",
        "sample_size 100\n",
        "\n",
        "iteration #"
       ]
      },
      {
       "output_type": "stream",
       "stream": "stdout",
       "text": [
        " 77  ntrees =  78 \n",
        "best loss =  0.334324539169 \n",
        "last loss =  0.334324539169\n",
        "learning_rate =  0.256\n",
        "sample_size 100\n",
        "\n",
        "iteration #"
       ]
      },
      {
       "output_type": "stream",
       "stream": "stdout",
       "text": [
        " 78  ntrees =  79 \n",
        "best loss =  0.334040868837 \n",
        "last loss =  0.334040868837\n",
        "learning_rate =  0.256\n",
        "sample_size 100\n",
        "\n",
        "iteration #"
       ]
      },
      {
       "output_type": "stream",
       "stream": "stdout",
       "text": [
        " 79  ntrees =  80 \n",
        "best loss =  0.333785448061 \n",
        "last loss =  0.333785448061\n",
        "learning_rate =  0.256\n",
        "sample_size 100\n",
        "\n",
        "iteration #"
       ]
      },
      {
       "output_type": "stream",
       "stream": "stdout",
       "text": [
        " 80  ntrees =  81 \n",
        "best loss =  0.333530947958 \n",
        "last loss =  0.333530947958\n",
        "learning_rate =  0.256\n",
        "sample_size 100\n",
        "\n",
        "iteration #"
       ]
      },
      {
       "output_type": "stream",
       "stream": "stdout",
       "text": [
        " 81  ntrees =  82 \n",
        "best loss =  0.33324289862 \n",
        "last loss =  0.33324289862\n",
        "learning_rate =  0.256\n",
        "sample_size 100\n",
        "\n",
        "iteration #"
       ]
      },
      {
       "output_type": "stream",
       "stream": "stdout",
       "text": [
        " 82  ntrees =  83 \n",
        "best loss =  0.332984053483 \n",
        "last loss =  0.332984053483\n",
        "learning_rate =  0.256\n",
        "sample_size 100\n",
        "\n",
        "iteration #"
       ]
      },
      {
       "output_type": "stream",
       "stream": "stdout",
       "text": [
        " 83  ntrees =  84 \n",
        "best loss =  0.332733798626 \n",
        "last loss =  0.332733798626\n",
        "learning_rate =  0.256\n",
        "sample_size 100\n",
        "\n",
        "iteration #"
       ]
      },
      {
       "output_type": "stream",
       "stream": "stdout",
       "text": [
        " 84  ntrees =  85 \n",
        "best loss =  0.332467233749 \n",
        "last loss =  0.332467233749\n",
        "learning_rate =  0.256\n",
        "sample_size 100\n",
        "\n",
        "iteration #"
       ]
      },
      {
       "output_type": "stream",
       "stream": "stdout",
       "text": [
        " 85  ntrees =  86 \n",
        "best loss =  0.332205897713 \n",
        "last loss =  0.332205897713\n",
        "learning_rate =  0.256\n",
        "sample_size 100\n",
        "\n",
        "iteration #"
       ]
      },
      {
       "output_type": "stream",
       "stream": "stdout",
       "text": [
        " 86  ntrees =  87 \n",
        "best loss =  0.331970960003 \n",
        "last loss =  0.331970960003\n",
        "learning_rate =  0.256\n",
        "sample_size 100\n",
        "\n",
        "iteration #"
       ]
      },
      {
       "output_type": "stream",
       "stream": "stdout",
       "text": [
        " 87  ntrees =  88 \n",
        "best loss =  0.33171428672 \n",
        "last loss =  0.33171428672\n",
        "learning_rate =  0.256\n",
        "sample_size 100\n",
        "\n",
        "iteration #"
       ]
      },
      {
       "output_type": "stream",
       "stream": "stdout",
       "text": [
        " 88  ntrees =  89 \n",
        "best loss =  0.331448826825 \n",
        "last loss =  0.331448826825\n",
        "learning_rate =  0.256\n",
        "sample_size 100\n",
        "\n",
        "iteration #"
       ]
      },
      {
       "output_type": "stream",
       "stream": "stdout",
       "text": [
        " 89  ntrees =  90 \n",
        "best loss =  0.331216404323 \n",
        "last loss =  0.331216404323\n",
        "learning_rate =  0.256\n",
        "sample_size 100\n",
        "\n",
        "iteration #"
       ]
      },
      {
       "output_type": "stream",
       "stream": "stdout",
       "text": [
        " 90  ntrees =  91 \n",
        "best loss =  0.330968363313 \n",
        "last loss =  0.330968363313\n",
        "learning_rate =  0.256\n",
        "sample_size 100\n",
        "\n",
        "iteration #"
       ]
      },
      {
       "output_type": "stream",
       "stream": "stdout",
       "text": [
        " 91  ntrees =  92 \n",
        "best loss =  0.33072942302 \n",
        "last loss =  0.33072942302\n",
        "learning_rate =  0.256\n",
        "sample_size 100\n",
        "\n",
        "iteration #"
       ]
      },
      {
       "output_type": "stream",
       "stream": "stdout",
       "text": [
        " 92  ntrees =  93 \n",
        "best loss =  0.330491239742 \n",
        "last loss =  0.330491239742\n",
        "learning_rate =  0.256\n",
        "sample_size 100\n",
        "\n",
        "iteration #"
       ]
      },
      {
       "output_type": "stream",
       "stream": "stdout",
       "text": [
        " 93  ntrees =  94 \n",
        "best loss =  0.330231043297 \n",
        "last loss =  0.330231043297\n",
        "learning_rate =  0.256\n",
        "sample_size 100\n",
        "\n",
        "iteration #"
       ]
      },
      {
       "output_type": "stream",
       "stream": "stdout",
       "text": [
        " 94  ntrees =  95 \n",
        "best loss =  0.329986323303 \n",
        "last loss =  0.329986323303\n",
        "learning_rate =  0.256\n",
        "sample_size 100\n",
        "\n",
        "iteration #"
       ]
      },
      {
       "output_type": "stream",
       "stream": "stdout",
       "text": [
        " 95  ntrees =  96 \n",
        "best loss =  0.329689848637 \n",
        "last loss =  0.329689848637\n",
        "learning_rate =  0.256\n",
        "sample_size 100\n",
        "\n",
        "iteration #"
       ]
      },
      {
       "output_type": "stream",
       "stream": "stdout",
       "text": [
        " 96  ntrees =  97 \n",
        "best loss =  0.32948470003 \n",
        "last loss =  0.32948470003\n",
        "learning_rate =  0.256\n",
        "sample_size 100\n",
        "\n",
        "iteration #"
       ]
      },
      {
       "output_type": "stream",
       "stream": "stdout",
       "text": [
        " 97  ntrees =  98 \n",
        "best loss =  0.329252663063 \n",
        "last loss =  0.329252663063\n",
        "learning_rate =  0.256\n",
        "sample_size 100\n",
        "\n",
        "iteration #"
       ]
      },
      {
       "output_type": "stream",
       "stream": "stdout",
       "text": [
        " 98  ntrees =  99 \n",
        "best loss =  0.328986839637 \n",
        "last loss =  0.328986839637\n",
        "learning_rate =  0.256\n",
        "sample_size 100\n",
        "\n",
        "iteration #"
       ]
      },
      {
       "output_type": "stream",
       "stream": "stdout",
       "text": [
        " 99  ntrees =  100 \n",
        "best loss =  0.328778103579 \n",
        "last loss =  0.328778103579\n",
        "learning_rate =  0.256\n",
        "sample_size 100\n"
       ]
      }
     ],
     "prompt_number": 25
    },
    {
     "cell_type": "code",
     "collapsed": false,
     "input": [
      "%time\n",
      "res_greedy_explog = greedy.greed_up_features_bfs(trees,trainFactory,\n",
      "                                          loss = loss_functions.ExpLogLoss,\n",
      "                                          learning_rate = .256,\n",
      "                                          breadth =1,\n",
      "                                          nTrees =100,\n",
      "                                          trees_sample_size =100,\n",
      "                                          verbose = True,\n",
      "                                          regularizer=0.000392156862745,\n",
      "                                          use_joblib=True)"
     ],
     "language": "python",
     "metadata": {},
     "outputs": [
      {
       "output_type": "stream",
       "stream": "stdout",
       "text": [
        "Wall time: 0 ns\n",
        "\n",
        "iteration #"
       ]
      },
      {
       "output_type": "stream",
       "stream": "stdout",
       "text": [
        " 0  ntrees =  1 \n",
        "best loss =  0.771930587911\n",
        "learning_rate =  0.256\n",
        "sample_size 100\n",
        "\n",
        "iteration #"
       ]
      },
      {
       "output_type": "stream",
       "stream": "stdout",
       "text": [
        " 1  ntrees =  2 \n",
        "best loss =  0.697664731231 \n",
        "last loss =  0.697664731231\n",
        "learning_rate =  0.256\n",
        "sample_size 100\n",
        "\n",
        "iteration #"
       ]
      },
      {
       "output_type": "stream",
       "stream": "stdout",
       "text": [
        " 2  ntrees =  3 \n",
        "best loss =  0.645332461461 \n",
        "last loss =  0.645332461461\n",
        "learning_rate =  0.256\n",
        "sample_size 100\n",
        "\n",
        "iteration #"
       ]
      },
      {
       "output_type": "stream",
       "stream": "stdout",
       "text": [
        " 3  ntrees =  4 \n",
        "best loss =  0.603487228224 \n",
        "last loss =  0.603487228224\n",
        "learning_rate =  0.256\n",
        "sample_size 100\n",
        "\n",
        "iteration #"
       ]
      },
      {
       "output_type": "stream",
       "stream": "stdout",
       "text": [
        " 4  ntrees =  5 \n",
        "best loss =  0.570569650359 \n",
        "last loss =  0.570569650359\n",
        "learning_rate =  0.256\n",
        "sample_size 100\n",
        "\n",
        "iteration #"
       ]
      },
      {
       "output_type": "stream",
       "stream": "stdout",
       "text": [
        " 5  ntrees =  6 \n",
        "best loss =  0.546209226969 \n",
        "last loss =  0.546209226969\n",
        "learning_rate =  0.256\n",
        "sample_size 100\n",
        "\n",
        "iteration #"
       ]
      },
      {
       "output_type": "stream",
       "stream": "stdout",
       "text": [
        " 6  ntrees =  7 \n",
        "best loss =  0.528461033078 \n",
        "last loss =  0.528461033078\n",
        "learning_rate =  0.256\n",
        "sample_size 100\n",
        "\n",
        "iteration #"
       ]
      },
      {
       "output_type": "stream",
       "stream": "stdout",
       "text": [
        " 7  ntrees =  8 \n",
        "best loss =  0.514935504114 \n",
        "last loss =  0.514935504114\n",
        "learning_rate =  0.256\n",
        "sample_size 100\n",
        "\n",
        "iteration #"
       ]
      },
      {
       "output_type": "stream",
       "stream": "stdout",
       "text": [
        " 8  ntrees =  9 \n",
        "best loss =  0.502419633409 \n",
        "last loss =  0.502419633409\n",
        "learning_rate =  0.256\n",
        "sample_size 100\n",
        "\n",
        "iteration #"
       ]
      },
      {
       "output_type": "stream",
       "stream": "stdout",
       "text": [
        " 9  ntrees =  10 \n",
        "best loss =  0.493849183385 \n",
        "last loss =  0.493849183385\n",
        "learning_rate =  0.256\n",
        "sample_size 100\n",
        "\n",
        "iteration #"
       ]
      },
      {
       "output_type": "stream",
       "stream": "stdout",
       "text": [
        " 10  ntrees =  11 \n",
        "best loss =  0.486378066718 \n",
        "last loss =  0.486378066718\n",
        "learning_rate =  0.256\n",
        "sample_size 100\n",
        "\n",
        "iteration #"
       ]
      },
      {
       "output_type": "stream",
       "stream": "stdout",
       "text": [
        " 11  ntrees =  12 \n",
        "best loss =  0.480269749339 \n",
        "last loss =  0.480269749339\n",
        "learning_rate =  0.256\n",
        "sample_size 100\n",
        "\n",
        "iteration #"
       ]
      },
      {
       "output_type": "stream",
       "stream": "stdout",
       "text": [
        " 12  ntrees =  13 \n",
        "best loss =  0.475237785362 \n",
        "last loss =  0.475237785362\n",
        "learning_rate =  0.256\n",
        "sample_size 100\n",
        "\n",
        "iteration #"
       ]
      },
      {
       "output_type": "stream",
       "stream": "stdout",
       "text": [
        " 13  ntrees =  14 \n",
        "best loss =  0.470953352831 \n",
        "last loss =  0.470953352831\n",
        "learning_rate =  0.256\n",
        "sample_size 100\n",
        "\n",
        "iteration #"
       ]
      },
      {
       "output_type": "stream",
       "stream": "stdout",
       "text": [
        " 14  ntrees =  15 \n",
        "best loss =  0.467412540873 \n",
        "last loss =  0.467412540873\n",
        "learning_rate =  0.256\n",
        "sample_size 100\n",
        "\n",
        "iteration #"
       ]
      },
      {
       "output_type": "stream",
       "stream": "stdout",
       "text": [
        " 15  ntrees =  16 \n",
        "best loss =  0.464537649746 \n",
        "last loss =  0.464537649746\n",
        "learning_rate =  0.256\n",
        "sample_size 100\n",
        "\n",
        "iteration #"
       ]
      },
      {
       "output_type": "stream",
       "stream": "stdout",
       "text": [
        " 16  ntrees =  17 \n",
        "best loss =  0.461841766925 \n",
        "last loss =  0.461841766925\n",
        "learning_rate =  0.256\n",
        "sample_size 100\n",
        "\n",
        "iteration #"
       ]
      },
      {
       "output_type": "stream",
       "stream": "stdout",
       "text": [
        " 17  ntrees =  18 \n",
        "best loss =  0.459257211455 \n",
        "last loss =  0.459257211455\n",
        "learning_rate =  0.256\n",
        "sample_size 100\n",
        "\n",
        "iteration #"
       ]
      },
      {
       "output_type": "stream",
       "stream": "stdout",
       "text": [
        " 18  ntrees =  19 \n",
        "best loss =  0.45732624302 \n",
        "last loss =  0.45732624302\n",
        "learning_rate =  0.256\n",
        "sample_size 100\n",
        "\n",
        "iteration #"
       ]
      },
      {
       "output_type": "stream",
       "stream": "stdout",
       "text": [
        " 19  ntrees =  20 \n",
        "best loss =  0.455604581781 \n",
        "last loss =  0.455604581781\n",
        "learning_rate =  0.256\n",
        "sample_size 100\n",
        "\n",
        "iteration #"
       ]
      },
      {
       "output_type": "stream",
       "stream": "stdout",
       "text": [
        " 20  ntrees =  21 \n",
        "best loss =  0.453763970216 \n",
        "last loss =  0.453763970216\n",
        "learning_rate =  0.256\n",
        "sample_size 100\n",
        "\n",
        "iteration #"
       ]
      },
      {
       "output_type": "stream",
       "stream": "stdout",
       "text": [
        " 21  ntrees =  22 \n",
        "best loss =  0.4523289578 \n",
        "last loss =  0.4523289578\n",
        "learning_rate =  0.256\n",
        "sample_size 100\n",
        "\n",
        "iteration #"
       ]
      },
      {
       "output_type": "stream",
       "stream": "stdout",
       "text": [
        " 22  ntrees =  23 \n",
        "best loss =  0.45064130519 \n",
        "last loss =  0.45064130519\n",
        "learning_rate =  0.256\n",
        "sample_size 100\n",
        "\n",
        "iteration #"
       ]
      },
      {
       "output_type": "stream",
       "stream": "stdout",
       "text": [
        " 23  ntrees =  24 \n",
        "best loss =  0.449329971691 \n",
        "last loss =  0.449329971691\n",
        "learning_rate =  0.256\n",
        "sample_size 100\n",
        "\n",
        "iteration #"
       ]
      },
      {
       "output_type": "stream",
       "stream": "stdout",
       "text": [
        " 24  ntrees =  25 \n",
        "best loss =  0.448070394865 \n",
        "last loss =  0.448070394865\n",
        "learning_rate =  0.256\n",
        "sample_size 100\n",
        "\n",
        "iteration #"
       ]
      },
      {
       "output_type": "stream",
       "stream": "stdout",
       "text": [
        " 25  ntrees =  26 \n",
        "best loss =  0.446954640108 \n",
        "last loss =  0.446954640108\n",
        "learning_rate =  0.256\n",
        "sample_size 100\n",
        "\n",
        "iteration #"
       ]
      },
      {
       "output_type": "stream",
       "stream": "stdout",
       "text": [
        " 26  ntrees =  27 \n",
        "best loss =  0.445833845212 \n",
        "last loss =  0.445833845212\n",
        "learning_rate =  0.256\n",
        "sample_size 100\n",
        "\n",
        "iteration #"
       ]
      },
      {
       "output_type": "stream",
       "stream": "stdout",
       "text": [
        " 27  ntrees =  28 \n",
        "best loss =  0.444792696414 \n",
        "last loss =  0.444792696414\n",
        "learning_rate =  0.256\n",
        "sample_size 100\n",
        "\n",
        "iteration #"
       ]
      },
      {
       "output_type": "stream",
       "stream": "stdout",
       "text": [
        " 28  ntrees =  29 \n",
        "best loss =  0.44391244547 \n",
        "last loss =  0.44391244547\n",
        "learning_rate =  0.256\n",
        "sample_size 100\n",
        "\n",
        "iteration #"
       ]
      },
      {
       "output_type": "stream",
       "stream": "stdout",
       "text": [
        " 29  ntrees =  30 \n",
        "best loss =  0.442861688977 \n",
        "last loss =  0.442861688977\n",
        "learning_rate =  0.256\n",
        "sample_size 100\n",
        "\n",
        "iteration #"
       ]
      },
      {
       "output_type": "stream",
       "stream": "stdout",
       "text": [
        " 30  ntrees =  31 \n",
        "best loss =  0.442051865988 \n",
        "last loss =  0.442051865988\n",
        "learning_rate =  0.256\n",
        "sample_size 100\n",
        "\n",
        "iteration #"
       ]
      },
      {
       "output_type": "stream",
       "stream": "stdout",
       "text": [
        " 31  ntrees =  32 \n",
        "best loss =  0.441257497344 \n",
        "last loss =  0.441257497344\n",
        "learning_rate =  0.256\n",
        "sample_size 100\n",
        "\n",
        "iteration #"
       ]
      },
      {
       "output_type": "stream",
       "stream": "stdout",
       "text": [
        " 32  ntrees =  33 \n",
        "best loss =  0.440579701826 \n",
        "last loss =  0.440579701826\n",
        "learning_rate =  0.256\n",
        "sample_size 100\n",
        "\n",
        "iteration #"
       ]
      },
      {
       "output_type": "stream",
       "stream": "stdout",
       "text": [
        " 33  ntrees =  34 \n",
        "best loss =  0.43982503645 \n",
        "last loss =  0.43982503645\n",
        "learning_rate =  0.256\n",
        "sample_size 100\n",
        "\n",
        "iteration #"
       ]
      },
      {
       "output_type": "stream",
       "stream": "stdout",
       "text": [
        " 34  ntrees =  35 \n",
        "best loss =  0.439188059581 \n",
        "last loss =  0.439188059581\n",
        "learning_rate =  0.256\n",
        "sample_size 100\n",
        "\n",
        "iteration #"
       ]
      },
      {
       "output_type": "stream",
       "stream": "stdout",
       "text": [
        " 35  ntrees =  36 \n",
        "best loss =  0.43849112338 \n",
        "last loss =  0.43849112338\n",
        "learning_rate =  0.256\n",
        "sample_size 100\n",
        "\n",
        "iteration #"
       ]
      },
      {
       "output_type": "stream",
       "stream": "stdout",
       "text": [
        " 36  ntrees =  37 \n",
        "best loss =  0.437908755347 \n",
        "last loss =  0.437908755347\n",
        "learning_rate =  0.256\n",
        "sample_size 100\n",
        "\n",
        "iteration #"
       ]
      },
      {
       "output_type": "stream",
       "stream": "stdout",
       "text": [
        " 37  ntrees =  38 \n",
        "best loss =  0.437341369595 \n",
        "last loss =  0.437341369595\n",
        "learning_rate =  0.256\n",
        "sample_size 100\n",
        "\n",
        "iteration #"
       ]
      },
      {
       "output_type": "stream",
       "stream": "stdout",
       "text": [
        " 38  ntrees =  39 \n",
        "best loss =  0.436729111263 \n",
        "last loss =  0.436729111263\n",
        "learning_rate =  0.256\n",
        "sample_size 100\n",
        "\n",
        "iteration #"
       ]
      },
      {
       "output_type": "stream",
       "stream": "stdout",
       "text": [
        " 39  ntrees =  40 \n",
        "best loss =  0.436192530906 \n",
        "last loss =  0.436192530906\n",
        "learning_rate =  0.256\n",
        "sample_size 100\n",
        "\n",
        "iteration #"
       ]
      },
      {
       "output_type": "stream",
       "stream": "stdout",
       "text": [
        " 40  ntrees =  41 \n",
        "best loss =  0.435666391614 \n",
        "last loss =  0.435666391614\n",
        "learning_rate =  0.256\n",
        "sample_size 100\n",
        "\n",
        "iteration #"
       ]
      },
      {
       "output_type": "stream",
       "stream": "stdout",
       "text": [
        " 41  ntrees =  42 \n",
        "best loss =  0.43510527103 \n",
        "last loss =  0.43510527103\n",
        "learning_rate =  0.256\n",
        "sample_size 100\n",
        "\n",
        "iteration #"
       ]
      },
      {
       "output_type": "stream",
       "stream": "stdout",
       "text": [
        " 42  ntrees =  43 \n",
        "best loss =  0.43461574793 \n",
        "last loss =  0.43461574793\n",
        "learning_rate =  0.256\n",
        "sample_size 100\n",
        "\n",
        "iteration #"
       ]
      },
      {
       "output_type": "stream",
       "stream": "stdout",
       "text": [
        " 43  ntrees =  44 \n",
        "best loss =  0.434018231038 \n",
        "last loss =  0.434018231038\n",
        "learning_rate =  0.256\n",
        "sample_size 100\n",
        "\n",
        "iteration #"
       ]
      },
      {
       "output_type": "stream",
       "stream": "stdout",
       "text": [
        " 44  ntrees =  45 \n",
        "best loss =  0.433549881217 \n",
        "last loss =  0.433549881217\n",
        "learning_rate =  0.256\n",
        "sample_size 100\n",
        "\n",
        "iteration #"
       ]
      },
      {
       "output_type": "stream",
       "stream": "stdout",
       "text": [
        " 45  ntrees =  46 \n",
        "best loss =  0.432967391128 \n",
        "last loss =  0.432967391128\n",
        "learning_rate =  0.256\n",
        "sample_size 100\n",
        "\n",
        "iteration #"
       ]
      },
      {
       "output_type": "stream",
       "stream": "stdout",
       "text": [
        " 46  ntrees =  47 \n",
        "best loss =  0.432476987777 \n",
        "last loss =  0.432476987777\n",
        "learning_rate =  0.256\n",
        "sample_size 100\n",
        "\n",
        "iteration #"
       ]
      },
      {
       "output_type": "stream",
       "stream": "stdout",
       "text": [
        " 47  ntrees =  48 \n",
        "best loss =  0.431994130694 \n",
        "last loss =  0.431994130694\n",
        "learning_rate =  0.256\n",
        "sample_size 100\n",
        "\n",
        "iteration #"
       ]
      },
      {
       "output_type": "stream",
       "stream": "stdout",
       "text": [
        " 48  ntrees =  49 \n",
        "best loss =  0.431594745497 \n",
        "last loss =  0.431594745497\n",
        "learning_rate =  0.256\n",
        "sample_size 100\n",
        "\n",
        "iteration #"
       ]
      },
      {
       "output_type": "stream",
       "stream": "stdout",
       "text": [
        " 49  ntrees =  50 \n",
        "best loss =  0.431174368746 \n",
        "last loss =  0.431174368746\n",
        "learning_rate =  0.256\n",
        "sample_size 100\n",
        "\n",
        "iteration #"
       ]
      },
      {
       "output_type": "stream",
       "stream": "stdout",
       "text": [
        " 50  ntrees =  51 \n",
        "best loss =  0.43076740699 \n",
        "last loss =  0.43076740699\n",
        "learning_rate =  0.256\n",
        "sample_size 100\n",
        "\n",
        "iteration #"
       ]
      },
      {
       "output_type": "stream",
       "stream": "stdout",
       "text": [
        " 51  ntrees =  52 \n",
        "best loss =  0.430393038542 \n",
        "last loss =  0.430393038542\n",
        "learning_rate =  0.256\n",
        "sample_size 100\n",
        "\n",
        "iteration #"
       ]
      },
      {
       "output_type": "stream",
       "stream": "stdout",
       "text": [
        " 52  ntrees =  53 \n",
        "best loss =  0.429919836971 \n",
        "last loss =  0.429919836971\n",
        "learning_rate =  0.256\n",
        "sample_size 100\n",
        "\n",
        "iteration #"
       ]
      },
      {
       "output_type": "stream",
       "stream": "stdout",
       "text": [
        " 53  ntrees =  54 \n",
        "best loss =  0.42957146077 \n",
        "last loss =  0.42957146077\n",
        "learning_rate =  0.256\n",
        "sample_size 100\n",
        "\n",
        "iteration #"
       ]
      },
      {
       "output_type": "stream",
       "stream": "stdout",
       "text": [
        " 54  ntrees =  55 \n",
        "best loss =  0.429197921416 \n",
        "last loss =  0.429197921416\n",
        "learning_rate =  0.256\n",
        "sample_size 100\n",
        "\n",
        "iteration #"
       ]
      },
      {
       "output_type": "stream",
       "stream": "stdout",
       "text": [
        " 55  ntrees =  56 \n",
        "best loss =  0.42877623634 \n",
        "last loss =  0.42877623634\n",
        "learning_rate =  0.256\n",
        "sample_size 100\n",
        "\n",
        "iteration #"
       ]
      },
      {
       "output_type": "stream",
       "stream": "stdout",
       "text": [
        " 56  ntrees =  57 \n",
        "best loss =  0.428360503583 \n",
        "last loss =  0.428360503583\n",
        "learning_rate =  0.256\n",
        "sample_size 100\n",
        "\n",
        "iteration #"
       ]
      },
      {
       "output_type": "stream",
       "stream": "stdout",
       "text": [
        " 57  ntrees =  58 \n",
        "best loss =  0.428026982717 \n",
        "last loss =  0.428026982717\n",
        "learning_rate =  0.256\n",
        "sample_size 100\n",
        "\n",
        "iteration #"
       ]
      },
      {
       "output_type": "stream",
       "stream": "stdout",
       "text": [
        " 58  ntrees =  59 \n",
        "best loss =  0.427706418037 \n",
        "last loss =  0.427706418037\n",
        "learning_rate =  0.256\n",
        "sample_size 100\n",
        "\n",
        "iteration #"
       ]
      },
      {
       "output_type": "stream",
       "stream": "stdout",
       "text": [
        " 59  ntrees =  60 \n",
        "best loss =  0.427343262469 \n",
        "last loss =  0.427343262469\n",
        "learning_rate =  0.256\n",
        "sample_size 100\n",
        "\n",
        "iteration #"
       ]
      },
      {
       "output_type": "stream",
       "stream": "stdout",
       "text": [
        " 60  ntrees =  61 \n",
        "best loss =  0.427004336334 \n",
        "last loss =  0.427004336334\n",
        "learning_rate =  0.256\n",
        "sample_size 100\n",
        "\n",
        "iteration #"
       ]
      },
      {
       "output_type": "stream",
       "stream": "stdout",
       "text": [
        " 61  ntrees =  62 \n",
        "best loss =  0.426664157469 \n",
        "last loss =  0.426664157469\n",
        "learning_rate =  0.256\n",
        "sample_size 100\n",
        "\n",
        "iteration #"
       ]
      },
      {
       "output_type": "stream",
       "stream": "stdout",
       "text": [
        " 62  ntrees =  63 \n",
        "best loss =  0.426341088229 \n",
        "last loss =  0.426341088229\n",
        "learning_rate =  0.256\n",
        "sample_size 100\n",
        "\n",
        "iteration #"
       ]
      },
      {
       "output_type": "stream",
       "stream": "stdout",
       "text": [
        " 63  ntrees =  64 \n",
        "best loss =  0.426026600984 \n",
        "last loss =  0.426026600984\n",
        "learning_rate =  0.256\n",
        "sample_size 100\n",
        "\n",
        "iteration #"
       ]
      },
      {
       "output_type": "stream",
       "stream": "stdout",
       "text": [
        " 64  ntrees =  65 \n",
        "best loss =  0.425696250876 \n",
        "last loss =  0.425696250876\n",
        "learning_rate =  0.256\n",
        "sample_size 100\n",
        "\n",
        "iteration #"
       ]
      },
      {
       "output_type": "stream",
       "stream": "stdout",
       "text": [
        " 65  ntrees =  66 \n",
        "best loss =  0.425390253557 \n",
        "last loss =  0.425390253557\n",
        "learning_rate =  0.256\n",
        "sample_size 100\n",
        "\n",
        "iteration #"
       ]
      },
      {
       "output_type": "stream",
       "stream": "stdout",
       "text": [
        " 66  ntrees =  67 \n",
        "best loss =  0.425054259673 \n",
        "last loss =  0.425054259673\n",
        "learning_rate =  0.256\n",
        "sample_size 100\n",
        "\n",
        "iteration #"
       ]
      },
      {
       "output_type": "stream",
       "stream": "stdout",
       "text": [
        " 67  ntrees =  68 \n",
        "best loss =  0.424758969421 \n",
        "last loss =  0.424758969421\n",
        "learning_rate =  0.256\n",
        "sample_size 100\n",
        "\n",
        "iteration #"
       ]
      },
      {
       "output_type": "stream",
       "stream": "stdout",
       "text": [
        " 68  ntrees =  69 \n",
        "best loss =  0.424422266029 \n",
        "last loss =  0.424422266029\n",
        "learning_rate =  0.256\n",
        "sample_size 100\n",
        "\n",
        "iteration #"
       ]
      },
      {
       "output_type": "stream",
       "stream": "stdout",
       "text": [
        " 69  ntrees =  70 \n",
        "best loss =  0.424115497389 \n",
        "last loss =  0.424115497389\n",
        "learning_rate =  0.256\n",
        "sample_size 100\n",
        "\n",
        "iteration #"
       ]
      },
      {
       "output_type": "stream",
       "stream": "stdout",
       "text": [
        " 70  ntrees =  71 \n",
        "best loss =  0.42383444597 \n",
        "last loss =  0.42383444597\n",
        "learning_rate =  0.256\n",
        "sample_size 100\n",
        "\n",
        "iteration #"
       ]
      },
      {
       "output_type": "stream",
       "stream": "stdout",
       "text": [
        " 71  ntrees =  72 \n",
        "best loss =  0.423527807351 \n",
        "last loss =  0.423527807351\n",
        "learning_rate =  0.256\n",
        "sample_size 100\n",
        "\n",
        "iteration #"
       ]
      },
      {
       "output_type": "stream",
       "stream": "stdout",
       "text": [
        " 72  ntrees =  73 \n",
        "best loss =  0.42327154168 \n",
        "last loss =  0.42327154168\n",
        "learning_rate =  0.256\n",
        "sample_size 100\n",
        "\n",
        "iteration #"
       ]
      },
      {
       "output_type": "stream",
       "stream": "stdout",
       "text": [
        " 73  ntrees =  74 \n",
        "best loss =  0.422967544669 \n",
        "last loss =  0.422967544669\n",
        "learning_rate =  0.256\n",
        "sample_size 100\n",
        "\n",
        "iteration #"
       ]
      },
      {
       "output_type": "stream",
       "stream": "stdout",
       "text": [
        " 74  ntrees =  75 \n",
        "best loss =  0.422661043017 \n",
        "last loss =  0.422661043017\n",
        "learning_rate =  0.256\n",
        "sample_size 100\n",
        "\n",
        "iteration #"
       ]
      },
      {
       "output_type": "stream",
       "stream": "stdout",
       "text": [
        " 75  ntrees =  76 \n",
        "best loss =  0.422366532798 \n",
        "last loss =  0.422366532798\n",
        "learning_rate =  0.256\n",
        "sample_size 100\n",
        "\n",
        "iteration #"
       ]
      },
      {
       "output_type": "stream",
       "stream": "stdout",
       "text": [
        " 76  ntrees =  77 \n",
        "best loss =  0.422118440408 \n",
        "last loss =  0.422118440408\n",
        "learning_rate =  0.256\n",
        "sample_size 100\n",
        "\n",
        "iteration #"
       ]
      },
      {
       "output_type": "stream",
       "stream": "stdout",
       "text": [
        " 77  ntrees =  78 \n",
        "best loss =  0.421813437043 \n",
        "last loss =  0.421813437043\n",
        "learning_rate =  0.256\n",
        "sample_size 100\n",
        "\n",
        "iteration #"
       ]
      },
      {
       "output_type": "stream",
       "stream": "stdout",
       "text": [
        " 78  ntrees =  79 \n",
        "best loss =  0.421547890341 \n",
        "last loss =  0.421547890341\n",
        "learning_rate =  0.256\n",
        "sample_size 100\n",
        "\n",
        "iteration #"
       ]
      },
      {
       "output_type": "stream",
       "stream": "stdout",
       "text": [
        " 79  ntrees =  80 \n",
        "best loss =  0.421266145141 \n",
        "last loss =  0.421266145141\n",
        "learning_rate =  0.256\n",
        "sample_size 100\n",
        "\n",
        "iteration #"
       ]
      },
      {
       "output_type": "stream",
       "stream": "stdout",
       "text": [
        " 80  ntrees =  81 \n",
        "best loss =  0.421013741664 \n",
        "last loss =  0.421013741664\n",
        "learning_rate =  0.256\n",
        "sample_size 100\n",
        "\n",
        "iteration #"
       ]
      },
      {
       "output_type": "stream",
       "stream": "stdout",
       "text": [
        " 81  ntrees =  82 \n",
        "best loss =  0.420735975201 \n",
        "last loss =  0.420735975201\n",
        "learning_rate =  0.256\n",
        "sample_size 100\n",
        "\n",
        "iteration #"
       ]
      },
      {
       "output_type": "stream",
       "stream": "stdout",
       "text": [
        " 82  ntrees =  83 \n",
        "best loss =  0.420485441483 \n",
        "last loss =  0.420485441483\n",
        "learning_rate =  0.256\n",
        "sample_size 100\n",
        "\n",
        "iteration #"
       ]
      },
      {
       "output_type": "stream",
       "stream": "stdout",
       "text": [
        " 83  ntrees =  84 \n",
        "best loss =  0.420240105213 \n",
        "last loss =  0.420240105213\n",
        "learning_rate =  0.256\n",
        "sample_size 100\n",
        "\n",
        "iteration #"
       ]
      },
      {
       "output_type": "stream",
       "stream": "stdout",
       "text": [
        " 84  ntrees =  85 \n",
        "best loss =  0.419969786992 \n",
        "last loss =  0.419969786992\n",
        "learning_rate =  0.256\n",
        "sample_size 100\n",
        "\n",
        "iteration #"
       ]
      },
      {
       "output_type": "stream",
       "stream": "stdout",
       "text": [
        " 85  ntrees =  86 \n",
        "best loss =  0.419704298893 \n",
        "last loss =  0.419704298893\n",
        "learning_rate =  0.256\n",
        "sample_size 100\n",
        "\n",
        "iteration #"
       ]
      },
      {
       "output_type": "stream",
       "stream": "stdout",
       "text": [
        " 86  ntrees =  87 \n",
        "best loss =  0.419447719255 \n",
        "last loss =  0.419447719255\n",
        "learning_rate =  0.256\n",
        "sample_size 100\n",
        "\n",
        "iteration #"
       ]
      },
      {
       "output_type": "stream",
       "stream": "stdout",
       "text": [
        " 87  ntrees =  88 \n",
        "best loss =  0.419201958476 \n",
        "last loss =  0.419201958476\n",
        "learning_rate =  0.256\n",
        "sample_size 100\n",
        "\n",
        "iteration #"
       ]
      },
      {
       "output_type": "stream",
       "stream": "stdout",
       "text": [
        " 88  ntrees =  89 \n",
        "best loss =  0.418946312663 \n",
        "last loss =  0.418946312663\n",
        "learning_rate =  0.256\n",
        "sample_size 100\n",
        "\n",
        "iteration #"
       ]
      },
      {
       "output_type": "stream",
       "stream": "stdout",
       "text": [
        " 89  ntrees =  90 \n",
        "best loss =  0.418716505051 \n",
        "last loss =  0.418716505051\n",
        "learning_rate =  0.256\n",
        "sample_size 100\n",
        "\n",
        "iteration #"
       ]
      },
      {
       "output_type": "stream",
       "stream": "stdout",
       "text": [
        " 90  ntrees =  91 \n",
        "best loss =  0.418453651429 \n",
        "last loss =  0.418453651429\n",
        "learning_rate =  0.256\n",
        "sample_size 100\n",
        "\n",
        "iteration #"
       ]
      },
      {
       "output_type": "stream",
       "stream": "stdout",
       "text": [
        " 91  ntrees =  92 \n",
        "best loss =  0.418196149937 \n",
        "last loss =  0.418196149937\n",
        "learning_rate =  0.256\n",
        "sample_size 100\n",
        "\n",
        "iteration #"
       ]
      },
      {
       "output_type": "stream",
       "stream": "stdout",
       "text": [
        " 92  ntrees =  93 \n",
        "best loss =  0.41792159874 \n",
        "last loss =  0.41792159874\n",
        "learning_rate =  0.256\n",
        "sample_size 100\n",
        "\n",
        "iteration #"
       ]
      },
      {
       "output_type": "stream",
       "stream": "stdout",
       "text": [
        " 93  ntrees =  94 \n",
        "best loss =  0.417681816776 \n",
        "last loss =  0.417681816776\n",
        "learning_rate =  0.256\n",
        "sample_size 100\n",
        "\n",
        "iteration #"
       ]
      },
      {
       "output_type": "stream",
       "stream": "stdout",
       "text": [
        " 94  ntrees =  95 \n",
        "best loss =  0.417358171801 \n",
        "last loss =  0.417358171801\n",
        "learning_rate =  0.256\n",
        "sample_size 100\n",
        "\n",
        "iteration #"
       ]
      },
      {
       "output_type": "stream",
       "stream": "stdout",
       "text": [
        " 95  ntrees =  96 \n",
        "best loss =  0.417103729514 \n",
        "last loss =  0.417103729514\n",
        "learning_rate =  0.256\n",
        "sample_size 100\n",
        "\n",
        "iteration #"
       ]
      },
      {
       "output_type": "stream",
       "stream": "stdout",
       "text": [
        " 96  ntrees =  97 \n",
        "best loss =  0.416880539921 \n",
        "last loss =  0.416880539921\n",
        "learning_rate =  0.256\n",
        "sample_size 100\n",
        "\n",
        "iteration #"
       ]
      },
      {
       "output_type": "stream",
       "stream": "stdout",
       "text": [
        " 97  ntrees =  98 \n",
        "best loss =  0.416638127186 \n",
        "last loss =  0.416638127186\n",
        "learning_rate =  0.256\n",
        "sample_size 100\n",
        "\n",
        "iteration #"
       ]
      },
      {
       "output_type": "stream",
       "stream": "stdout",
       "text": [
        " 98  ntrees =  99 \n",
        "best loss =  0.416402913515 \n",
        "last loss =  0.416402913515\n",
        "learning_rate =  0.256\n",
        "sample_size 100\n",
        "\n",
        "iteration #"
       ]
      },
      {
       "output_type": "stream",
       "stream": "stdout",
       "text": [
        " 99  ntrees =  100 \n",
        "best loss =  0.41618088386 \n",
        "last loss =  0.41618088386\n",
        "learning_rate =  0.256\n",
        "sample_size 100\n"
       ]
      }
     ],
     "prompt_number": 26
    },
    {
     "cell_type": "code",
     "collapsed": false,
     "input": [
      "%time\n",
      "res_greedy_explogauc = greedy.greed_up_features_bfs(trees,trainFactory,\n",
      "                                          loss = loss_functions.ExpLogLossAuc,\n",
      "                                          learning_rate = .256,\n",
      "                                          breadth =1,\n",
      "                                          nTrees =100,\n",
      "                                          trees_sample_size =100,\n",
      "                                          verbose = True,\n",
      "                                          regularizer=0.000392156862745,\n",
      "                                          use_joblib=True)"
     ],
     "language": "python",
     "metadata": {},
     "outputs": [
      {
       "output_type": "stream",
       "stream": "stdout",
       "text": [
        "Wall time: 0 ns\n",
        "\n",
        "iteration #"
       ]
      },
      {
       "output_type": "stream",
       "stream": "stdout",
       "text": [
        " 0  ntrees =  1 \n",
        "best loss =  0.868636578605\n",
        "learning_rate =  0.256\n",
        "sample_size 100\n",
        "\n",
        "iteration #"
       ]
      },
      {
       "output_type": "stream",
       "stream": "stdout",
       "text": [
        " 1  ntrees =  2 \n",
        "best loss =  0.770089978719 \n",
        "last loss =  0.770089978719\n",
        "learning_rate =  0.256\n",
        "sample_size 100\n",
        "\n",
        "iteration #"
       ]
      },
      {
       "output_type": "stream",
       "stream": "stdout",
       "text": [
        " 2  ntrees =  3 \n",
        "best loss =  0.701957866515 \n",
        "last loss =  0.701957866515\n",
        "learning_rate =  0.256\n",
        "sample_size 100\n",
        "\n",
        "iteration #"
       ]
      },
      {
       "output_type": "stream",
       "stream": "stdout",
       "text": [
        " 3  ntrees =  4 \n",
        "best loss =  0.655161195985 \n",
        "last loss =  0.655161195985\n",
        "learning_rate =  0.256\n",
        "sample_size 100\n",
        "\n",
        "iteration #"
       ]
      },
      {
       "output_type": "stream",
       "stream": "stdout",
       "text": [
        " 4  ntrees =  5 \n",
        "best loss =  0.619216702846 \n",
        "last loss =  0.619216702846\n",
        "learning_rate =  0.256\n",
        "sample_size 100\n",
        "\n",
        "iteration #"
       ]
      },
      {
       "output_type": "stream",
       "stream": "stdout",
       "text": [
        " 5  ntrees =  6 \n",
        "best loss =  0.592979046094 \n",
        "last loss =  0.592979046094\n",
        "learning_rate =  0.256\n",
        "sample_size 100\n",
        "\n",
        "iteration #"
       ]
      },
      {
       "output_type": "stream",
       "stream": "stdout",
       "text": [
        " 6  ntrees =  7 \n",
        "best loss =  0.573107476149 \n",
        "last loss =  0.573107476149\n",
        "learning_rate =  0.256\n",
        "sample_size 100\n",
        "\n",
        "iteration #"
       ]
      },
      {
       "output_type": "stream",
       "stream": "stdout",
       "text": [
        " 7  ntrees =  8 \n",
        "best loss =  0.558227351729 \n",
        "last loss =  0.558227351729\n",
        "learning_rate =  0.256\n",
        "sample_size 100\n",
        "\n",
        "iteration #"
       ]
      },
      {
       "output_type": "stream",
       "stream": "stdout",
       "text": [
        " 8  ntrees =  9 \n",
        "best loss =  0.544946799221 \n",
        "last loss =  0.544946799221\n",
        "learning_rate =  0.256\n",
        "sample_size 100\n",
        "\n",
        "iteration #"
       ]
      },
      {
       "output_type": "stream",
       "stream": "stdout",
       "text": [
        " 9  ntrees =  10 \n",
        "best loss =  0.534193606645 \n",
        "last loss =  0.534193606645\n",
        "learning_rate =  0.256\n",
        "sample_size 100\n",
        "\n",
        "iteration #"
       ]
      },
      {
       "output_type": "stream",
       "stream": "stdout",
       "text": [
        " 10  ntrees =  11 \n",
        "best loss =  0.526660143349 \n",
        "last loss =  0.526660143349\n",
        "learning_rate =  0.256\n",
        "sample_size 100\n",
        "\n",
        "iteration #"
       ]
      },
      {
       "output_type": "stream",
       "stream": "stdout",
       "text": [
        " 11  ntrees =  12 \n",
        "best loss =  0.519919932276 \n",
        "last loss =  0.519919932276\n",
        "learning_rate =  0.256\n",
        "sample_size 100\n",
        "\n",
        "iteration #"
       ]
      },
      {
       "output_type": "stream",
       "stream": "stdout",
       "text": [
        " 12  ntrees =  13 \n",
        "best loss =  0.514195006279 \n",
        "last loss =  0.514195006279\n",
        "learning_rate =  0.256\n",
        "sample_size 100\n",
        "\n",
        "iteration #"
       ]
      },
      {
       "output_type": "stream",
       "stream": "stdout",
       "text": [
        " 13  ntrees =  14 \n",
        "best loss =  0.509797463427 \n",
        "last loss =  0.509797463427\n",
        "learning_rate =  0.256\n",
        "sample_size 100\n",
        "\n",
        "iteration #"
       ]
      },
      {
       "output_type": "stream",
       "stream": "stdout",
       "text": [
        " 14  ntrees =  15 \n",
        "best loss =  0.505707555403 \n",
        "last loss =  0.505707555403\n",
        "learning_rate =  0.256\n",
        "sample_size 100\n",
        "\n",
        "iteration #"
       ]
      },
      {
       "output_type": "stream",
       "stream": "stdout",
       "text": [
        " 15  ntrees =  16 \n",
        "best loss =  0.502099831852 \n",
        "last loss =  0.502099831852\n",
        "learning_rate =  0.256\n",
        "sample_size 100\n",
        "\n",
        "iteration #"
       ]
      },
      {
       "output_type": "stream",
       "stream": "stdout",
       "text": [
        " 16  ntrees =  17 \n",
        "best loss =  0.49889739431 \n",
        "last loss =  0.49889739431\n",
        "learning_rate =  0.256\n",
        "sample_size 100\n",
        "\n",
        "iteration #"
       ]
      },
      {
       "output_type": "stream",
       "stream": "stdout",
       "text": [
        " 17  ntrees =  18 \n",
        "best loss =  0.495434447658 \n",
        "last loss =  0.495434447658\n",
        "learning_rate =  0.256\n",
        "sample_size 100\n",
        "\n",
        "iteration #"
       ]
      },
      {
       "output_type": "stream",
       "stream": "stdout",
       "text": [
        " 18  ntrees =  19 \n",
        "best loss =  0.493085107007 \n",
        "last loss =  0.493085107007\n",
        "learning_rate =  0.256\n",
        "sample_size 100\n",
        "\n",
        "iteration #"
       ]
      },
      {
       "output_type": "stream",
       "stream": "stdout",
       "text": [
        " 19  ntrees =  20 \n",
        "best loss =  0.490936667544 \n",
        "last loss =  0.490936667544\n",
        "learning_rate =  0.256\n",
        "sample_size 100\n",
        "\n",
        "iteration #"
       ]
      },
      {
       "output_type": "stream",
       "stream": "stdout",
       "text": [
        " 20  ntrees =  21 \n",
        "best loss =  0.488819089083 \n",
        "last loss =  0.488819089083\n",
        "learning_rate =  0.256\n",
        "sample_size 100\n",
        "\n",
        "iteration #"
       ]
      },
      {
       "output_type": "stream",
       "stream": "stdout",
       "text": [
        " 21  ntrees =  22 \n",
        "best loss =  0.486985799041 \n",
        "last loss =  0.486985799041\n",
        "learning_rate =  0.256\n",
        "sample_size 100\n",
        "\n",
        "iteration #"
       ]
      },
      {
       "output_type": "stream",
       "stream": "stdout",
       "text": [
        " 22  ntrees =  23 \n",
        "best loss =  0.484989980997 \n",
        "last loss =  0.484989980997\n",
        "learning_rate =  0.256\n",
        "sample_size 100\n",
        "\n",
        "iteration #"
       ]
      },
      {
       "output_type": "stream",
       "stream": "stdout",
       "text": [
        " 23  ntrees =  24 \n",
        "best loss =  0.483190467323 \n",
        "last loss =  0.483190467323\n",
        "learning_rate =  0.256\n",
        "sample_size 100\n",
        "\n",
        "iteration #"
       ]
      },
      {
       "output_type": "stream",
       "stream": "stdout",
       "text": [
        " 24  ntrees =  25 \n",
        "best loss =  0.481557838973 \n",
        "last loss =  0.481557838973\n",
        "learning_rate =  0.256\n",
        "sample_size 100\n",
        "\n",
        "iteration #"
       ]
      },
      {
       "output_type": "stream",
       "stream": "stdout",
       "text": [
        " 25  ntrees =  26 \n",
        "best loss =  0.480196598757 \n",
        "last loss =  0.480196598757\n",
        "learning_rate =  0.256\n",
        "sample_size 100\n",
        "\n",
        "iteration #"
       ]
      },
      {
       "output_type": "stream",
       "stream": "stdout",
       "text": [
        " 26  ntrees =  27 \n",
        "best loss =  0.478830726295 \n",
        "last loss =  0.478830726295\n",
        "learning_rate =  0.256\n",
        "sample_size 100\n",
        "\n",
        "iteration #"
       ]
      },
      {
       "output_type": "stream",
       "stream": "stdout",
       "text": [
        " 27  ntrees =  28 \n",
        "best loss =  0.477550601616 \n",
        "last loss =  0.477550601616\n",
        "learning_rate =  0.256\n",
        "sample_size 100\n",
        "\n",
        "iteration #"
       ]
      },
      {
       "output_type": "stream",
       "stream": "stdout",
       "text": [
        " 28  ntrees =  29 \n",
        "best loss =  0.476430126842 \n",
        "last loss =  0.476430126842\n",
        "learning_rate =  0.256\n",
        "sample_size 100\n",
        "\n",
        "iteration #"
       ]
      },
      {
       "output_type": "stream",
       "stream": "stdout",
       "text": [
        " 29  ntrees =  30 \n",
        "best loss =  0.475398951836 \n",
        "last loss =  0.475398951836\n",
        "learning_rate =  0.256\n",
        "sample_size 100\n",
        "\n",
        "iteration #"
       ]
      },
      {
       "output_type": "stream",
       "stream": "stdout",
       "text": [
        " 30  ntrees =  31 \n",
        "best loss =  0.474384025975 \n",
        "last loss =  0.474384025975\n",
        "learning_rate =  0.256\n",
        "sample_size 100\n",
        "\n",
        "iteration #"
       ]
      },
      {
       "output_type": "stream",
       "stream": "stdout",
       "text": [
        " 31  ntrees =  32 \n",
        "best loss =  0.473421566936 \n",
        "last loss =  0.473421566936\n",
        "learning_rate =  0.256\n",
        "sample_size 100\n",
        "\n",
        "iteration #"
       ]
      },
      {
       "output_type": "stream",
       "stream": "stdout",
       "text": [
        " 32  ntrees =  33 \n",
        "best loss =  0.472440998392 \n",
        "last loss =  0.472440998392\n",
        "learning_rate =  0.256\n",
        "sample_size 100\n",
        "\n",
        "iteration #"
       ]
      },
      {
       "output_type": "stream",
       "stream": "stdout",
       "text": [
        " 33  ntrees =  34 \n",
        "best loss =  0.471498398545 \n",
        "last loss =  0.471498398545\n",
        "learning_rate =  0.256\n",
        "sample_size 100\n",
        "\n",
        "iteration #"
       ]
      },
      {
       "output_type": "stream",
       "stream": "stdout",
       "text": [
        " 34  ntrees =  35 \n",
        "best loss =  0.470770754787 \n",
        "last loss =  0.470770754787\n",
        "learning_rate =  0.256\n",
        "sample_size 100\n",
        "\n",
        "iteration #"
       ]
      },
      {
       "output_type": "stream",
       "stream": "stdout",
       "text": [
        " 35  ntrees =  36 \n",
        "best loss =  0.469974750124 \n",
        "last loss =  0.469974750124\n",
        "learning_rate =  0.256\n",
        "sample_size 100\n",
        "\n",
        "iteration #"
       ]
      },
      {
       "output_type": "stream",
       "stream": "stdout",
       "text": [
        " 36  ntrees =  37 \n",
        "best loss =  0.469196618117 \n",
        "last loss =  0.469196618117\n",
        "learning_rate =  0.256\n",
        "sample_size 100\n",
        "\n",
        "iteration #"
       ]
      },
      {
       "output_type": "stream",
       "stream": "stdout",
       "text": [
        " 37  ntrees =  38 \n",
        "best loss =  0.468267723252 \n",
        "last loss =  0.468267723252\n",
        "learning_rate =  0.256\n",
        "sample_size 100\n",
        "\n",
        "iteration #"
       ]
      },
      {
       "output_type": "stream",
       "stream": "stdout",
       "text": [
        " 38  ntrees =  39 \n",
        "best loss =  0.467582776996 \n",
        "last loss =  0.467582776996\n",
        "learning_rate =  0.256\n",
        "sample_size 100\n",
        "\n",
        "iteration #"
       ]
      },
      {
       "output_type": "stream",
       "stream": "stdout",
       "text": [
        " 39  ntrees =  40 \n",
        "best loss =  0.46685454723 \n",
        "last loss =  0.46685454723\n",
        "learning_rate =  0.256\n",
        "sample_size 100\n",
        "\n",
        "iteration #"
       ]
      },
      {
       "output_type": "stream",
       "stream": "stdout",
       "text": [
        " 40  ntrees =  41 \n",
        "best loss =  0.466157933357 \n",
        "last loss =  0.466157933357\n",
        "learning_rate =  0.256\n",
        "sample_size 100\n",
        "\n",
        "iteration #"
       ]
      },
      {
       "output_type": "stream",
       "stream": "stdout",
       "text": [
        " 41  ntrees =  42 \n",
        "best loss =  0.465419996939 \n",
        "last loss =  0.465419996939\n",
        "learning_rate =  0.256\n",
        "sample_size 100\n",
        "\n",
        "iteration #"
       ]
      },
      {
       "output_type": "stream",
       "stream": "stdout",
       "text": [
        " 42  ntrees =  43 \n",
        "best loss =  0.464852936186 \n",
        "last loss =  0.464852936186\n",
        "learning_rate =  0.256\n",
        "sample_size 100\n",
        "\n",
        "iteration #"
       ]
      },
      {
       "output_type": "stream",
       "stream": "stdout",
       "text": [
        " 43  ntrees =  44 \n",
        "best loss =  0.4642893767 \n",
        "last loss =  0.4642893767\n",
        "learning_rate =  0.256\n",
        "sample_size 100\n",
        "\n",
        "iteration #"
       ]
      },
      {
       "output_type": "stream",
       "stream": "stdout",
       "text": [
        " 44  ntrees =  45 \n",
        "best loss =  0.463740770479 \n",
        "last loss =  0.463740770479\n",
        "learning_rate =  0.256\n",
        "sample_size 100\n",
        "\n",
        "iteration #"
       ]
      },
      {
       "output_type": "stream",
       "stream": "stdout",
       "text": [
        " 45  ntrees =  46 \n",
        "best loss =  0.463199599081 \n",
        "last loss =  0.463199599081\n",
        "learning_rate =  0.256\n",
        "sample_size 100\n",
        "\n",
        "iteration #"
       ]
      },
      {
       "output_type": "stream",
       "stream": "stdout",
       "text": [
        " 46  ntrees =  47 \n",
        "best loss =  0.462656257798 \n",
        "last loss =  0.462656257798\n",
        "learning_rate =  0.256\n",
        "sample_size 100\n",
        "\n",
        "iteration #"
       ]
      },
      {
       "output_type": "stream",
       "stream": "stdout",
       "text": [
        " 47  ntrees =  48 \n",
        "best loss =  0.462100966959 \n",
        "last loss =  0.462100966959\n",
        "learning_rate =  0.256\n",
        "sample_size 100\n",
        "\n",
        "iteration #"
       ]
      },
      {
       "output_type": "stream",
       "stream": "stdout",
       "text": [
        " 48  ntrees =  49 \n",
        "best loss =  0.461571444018 \n",
        "last loss =  0.461571444018\n",
        "learning_rate =  0.256\n",
        "sample_size 100\n",
        "\n",
        "iteration #"
       ]
      },
      {
       "output_type": "stream",
       "stream": "stdout",
       "text": [
        " 49  ntrees =  50 \n",
        "best loss =  0.461093047624 \n",
        "last loss =  0.461093047624\n",
        "learning_rate =  0.256\n",
        "sample_size 100\n",
        "\n",
        "iteration #"
       ]
      },
      {
       "output_type": "stream",
       "stream": "stdout",
       "text": [
        " 50  ntrees =  51 \n",
        "best loss =  0.460631772746 \n",
        "last loss =  0.460631772746\n",
        "learning_rate =  0.256\n",
        "sample_size 100\n",
        "\n",
        "iteration #"
       ]
      },
      {
       "output_type": "stream",
       "stream": "stdout",
       "text": [
        " 51  ntrees =  52 \n",
        "best loss =  0.460181234443 \n",
        "last loss =  0.460181234443\n",
        "learning_rate =  0.256\n",
        "sample_size 100\n",
        "\n",
        "iteration #"
       ]
      },
      {
       "output_type": "stream",
       "stream": "stdout",
       "text": [
        " 52  ntrees =  53 \n",
        "best loss =  0.459604285643 \n",
        "last loss =  0.459604285643\n",
        "learning_rate =  0.256\n",
        "sample_size 100\n",
        "\n",
        "iteration #"
       ]
      },
      {
       "output_type": "stream",
       "stream": "stdout",
       "text": [
        " 53  ntrees =  54 \n",
        "best loss =  0.459197562826 \n",
        "last loss =  0.459197562826\n",
        "learning_rate =  0.256\n",
        "sample_size 100\n",
        "\n",
        "iteration #"
       ]
      },
      {
       "output_type": "stream",
       "stream": "stdout",
       "text": [
        " 54  ntrees =  55 \n",
        "best loss =  0.458657381139 \n",
        "last loss =  0.458657381139\n",
        "learning_rate =  0.256\n",
        "sample_size 100\n",
        "\n",
        "iteration #"
       ]
      },
      {
       "output_type": "stream",
       "stream": "stdout",
       "text": [
        " 55  ntrees =  56 \n",
        "best loss =  0.458268607133 \n",
        "last loss =  0.458268607133\n",
        "learning_rate =  0.256\n",
        "sample_size 100\n",
        "\n",
        "iteration #"
       ]
      },
      {
       "output_type": "stream",
       "stream": "stdout",
       "text": [
        " 56  ntrees =  57 \n",
        "best loss =  0.457841327748 \n",
        "last loss =  0.457841327748\n",
        "learning_rate =  0.256\n",
        "sample_size 100\n",
        "\n",
        "iteration #"
       ]
      },
      {
       "output_type": "stream",
       "stream": "stdout",
       "text": [
        " 57  ntrees =  58 \n",
        "best loss =  0.457455296077 \n",
        "last loss =  0.457455296077\n",
        "learning_rate =  0.256\n",
        "sample_size 100\n",
        "\n",
        "iteration #"
       ]
      },
      {
       "output_type": "stream",
       "stream": "stdout",
       "text": [
        " 58  ntrees =  59 \n",
        "best loss =  0.456986755619 \n",
        "last loss =  0.456986755619\n",
        "learning_rate =  0.256\n",
        "sample_size 100\n",
        "\n",
        "iteration #"
       ]
      },
      {
       "output_type": "stream",
       "stream": "stdout",
       "text": [
        " 59  ntrees =  60 \n",
        "best loss =  0.45659881647 \n",
        "last loss =  0.45659881647\n",
        "learning_rate =  0.256\n",
        "sample_size 100\n",
        "\n",
        "iteration #"
       ]
      },
      {
       "output_type": "stream",
       "stream": "stdout",
       "text": [
        " 60  ntrees =  61 \n",
        "best loss =  0.456183627433 \n",
        "last loss =  0.456183627433\n",
        "learning_rate =  0.256\n",
        "sample_size 100\n",
        "\n",
        "iteration #"
       ]
      },
      {
       "output_type": "stream",
       "stream": "stdout",
       "text": [
        " 61  ntrees =  62 \n",
        "best loss =  0.455773826533 \n",
        "last loss =  0.455773826533\n",
        "learning_rate =  0.256\n",
        "sample_size 100\n",
        "\n",
        "iteration #"
       ]
      },
      {
       "output_type": "stream",
       "stream": "stdout",
       "text": [
        " 62  ntrees =  63 \n",
        "best loss =  0.455365713629 \n",
        "last loss =  0.455365713629\n",
        "learning_rate =  0.256\n",
        "sample_size 100\n",
        "\n",
        "iteration #"
       ]
      },
      {
       "output_type": "stream",
       "stream": "stdout",
       "text": [
        " 63  ntrees =  64 \n",
        "best loss =  0.454971995456 \n",
        "last loss =  0.454971995456\n",
        "learning_rate =  0.256\n",
        "sample_size 100\n",
        "\n",
        "iteration #"
       ]
      },
      {
       "output_type": "stream",
       "stream": "stdout",
       "text": [
        " 64  ntrees =  65 \n",
        "best loss =  0.454592843835 \n",
        "last loss =  0.454592843835\n",
        "learning_rate =  0.256\n",
        "sample_size 100\n",
        "\n",
        "iteration #"
       ]
      },
      {
       "output_type": "stream",
       "stream": "stdout",
       "text": [
        " 65  ntrees =  66 \n",
        "best loss =  0.454191208616 \n",
        "last loss =  0.454191208616\n",
        "learning_rate =  0.256\n",
        "sample_size 100\n",
        "\n",
        "iteration #"
       ]
      },
      {
       "output_type": "stream",
       "stream": "stdout",
       "text": [
        " 66  ntrees =  67 \n",
        "best loss =  0.45380990637 \n",
        "last loss =  0.45380990637\n",
        "learning_rate =  0.256\n",
        "sample_size 100\n",
        "\n",
        "iteration #"
       ]
      },
      {
       "output_type": "stream",
       "stream": "stdout",
       "text": [
        " 67  ntrees =  68 \n",
        "best loss =  0.453406328688 \n",
        "last loss =  0.453406328688\n",
        "learning_rate =  0.256\n",
        "sample_size 100\n",
        "\n",
        "iteration #"
       ]
      },
      {
       "output_type": "stream",
       "stream": "stdout",
       "text": [
        " 68  ntrees =  69 \n",
        "best loss =  0.45302786982 \n",
        "last loss =  0.45302786982\n",
        "learning_rate =  0.256\n",
        "sample_size 100\n",
        "\n",
        "iteration #"
       ]
      },
      {
       "output_type": "stream",
       "stream": "stdout",
       "text": [
        " 69  ntrees =  70 \n",
        "best loss =  0.452524337116 \n",
        "last loss =  0.452524337116\n",
        "learning_rate =  0.256\n",
        "sample_size 100\n",
        "\n",
        "iteration #"
       ]
      },
      {
       "output_type": "stream",
       "stream": "stdout",
       "text": [
        " 70  ntrees =  71 \n",
        "best loss =  0.452120937618 \n",
        "last loss =  0.452120937618\n",
        "learning_rate =  0.256\n",
        "sample_size 100\n",
        "\n",
        "iteration #"
       ]
      },
      {
       "output_type": "stream",
       "stream": "stdout",
       "text": [
        " 71  ntrees =  72 \n",
        "best loss =  0.451759528451 \n",
        "last loss =  0.451759528451\n",
        "learning_rate =  0.256\n",
        "sample_size 100\n",
        "\n",
        "iteration #"
       ]
      },
      {
       "output_type": "stream",
       "stream": "stdout",
       "text": [
        " 72  ntrees =  73 \n",
        "best loss =  0.451395451195 \n",
        "last loss =  0.451395451195\n",
        "learning_rate =  0.256\n",
        "sample_size 100\n",
        "\n",
        "iteration #"
       ]
      },
      {
       "output_type": "stream",
       "stream": "stdout",
       "text": [
        " 73  ntrees =  74 \n",
        "best loss =  0.45106375756 \n",
        "last loss =  0.45106375756\n",
        "learning_rate =  0.256\n",
        "sample_size 100\n",
        "\n",
        "iteration #"
       ]
      },
      {
       "output_type": "stream",
       "stream": "stdout",
       "text": [
        " 74  ntrees =  75 \n",
        "best loss =  0.45061523619 \n",
        "last loss =  0.45061523619\n",
        "learning_rate =  0.256\n",
        "sample_size 100\n",
        "\n",
        "iteration #"
       ]
      },
      {
       "output_type": "stream",
       "stream": "stdout",
       "text": [
        " 75  ntrees =  76 \n",
        "best loss =  0.450252791088 \n",
        "last loss =  0.450252791088\n",
        "learning_rate =  0.256\n",
        "sample_size 100\n",
        "\n",
        "iteration #"
       ]
      },
      {
       "output_type": "stream",
       "stream": "stdout",
       "text": [
        " 76  ntrees =  77 \n",
        "best loss =  0.449930024274 \n",
        "last loss =  0.449930024274\n",
        "learning_rate =  0.256\n",
        "sample_size 100\n",
        "\n",
        "iteration #"
       ]
      },
      {
       "output_type": "stream",
       "stream": "stdout",
       "text": [
        " 77  ntrees =  78 \n",
        "best loss =  0.4495745413 \n",
        "last loss =  0.4495745413\n",
        "learning_rate =  0.256\n",
        "sample_size 100\n",
        "\n",
        "iteration #"
       ]
      },
      {
       "output_type": "stream",
       "stream": "stdout",
       "text": [
        " 78  ntrees =  79 \n",
        "best loss =  0.449182730843 \n",
        "last loss =  0.449182730843\n",
        "learning_rate =  0.256\n",
        "sample_size 100\n",
        "\n",
        "iteration #"
       ]
      },
      {
       "output_type": "stream",
       "stream": "stdout",
       "text": [
        " 79  ntrees =  80 \n",
        "best loss =  0.448847879625 \n",
        "last loss =  0.448847879625\n",
        "learning_rate =  0.256\n",
        "sample_size 100\n",
        "\n",
        "iteration #"
       ]
      },
      {
       "output_type": "stream",
       "stream": "stdout",
       "text": [
        " 80  ntrees =  81 \n",
        "best loss =  0.448533616018 \n",
        "last loss =  0.448533616018\n",
        "learning_rate =  0.256\n",
        "sample_size 100\n",
        "\n",
        "iteration #"
       ]
      },
      {
       "output_type": "stream",
       "stream": "stdout",
       "text": [
        " 81  ntrees =  82 \n",
        "best loss =  0.448177158355 \n",
        "last loss =  0.448177158355\n",
        "learning_rate =  0.256\n",
        "sample_size 100\n",
        "\n",
        "iteration #"
       ]
      },
      {
       "output_type": "stream",
       "stream": "stdout",
       "text": [
        " 82  ntrees =  83 \n",
        "best loss =  0.447829080215 \n",
        "last loss =  0.447829080215\n",
        "learning_rate =  0.256\n",
        "sample_size 100\n",
        "\n",
        "iteration #"
       ]
      },
      {
       "output_type": "stream",
       "stream": "stdout",
       "text": [
        " 83  ntrees =  84 \n",
        "best loss =  0.447498802796 \n",
        "last loss =  0.447498802796\n",
        "learning_rate =  0.256\n",
        "sample_size 100\n",
        "\n",
        "iteration #"
       ]
      },
      {
       "output_type": "stream",
       "stream": "stdout",
       "text": [
        " 84  ntrees =  85 \n",
        "best loss =  0.447180111795 \n",
        "last loss =  0.447180111795\n",
        "learning_rate =  0.256\n",
        "sample_size 100\n",
        "\n",
        "iteration #"
       ]
      },
      {
       "output_type": "stream",
       "stream": "stdout",
       "text": [
        " 85  ntrees =  86 \n",
        "best loss =  0.446833123039 \n",
        "last loss =  0.446833123039\n",
        "learning_rate =  0.256\n",
        "sample_size 100\n",
        "\n",
        "iteration #"
       ]
      },
      {
       "output_type": "stream",
       "stream": "stdout",
       "text": [
        " 86  ntrees =  87 \n",
        "best loss =  0.446426523406 \n",
        "last loss =  0.446426523406\n",
        "learning_rate =  0.256\n",
        "sample_size 100\n",
        "\n",
        "iteration #"
       ]
      },
      {
       "output_type": "stream",
       "stream": "stdout",
       "text": [
        " 87  ntrees =  88 \n",
        "best loss =  0.446073162307 \n",
        "last loss =  0.446073162307\n",
        "learning_rate =  0.256\n",
        "sample_size 100\n",
        "\n",
        "iteration #"
       ]
      },
      {
       "output_type": "stream",
       "stream": "stdout",
       "text": [
        " 88  ntrees =  89 \n",
        "best loss =  0.445693103483 \n",
        "last loss =  0.445693103483\n",
        "learning_rate =  0.256\n",
        "sample_size 100\n",
        "\n",
        "iteration #"
       ]
      },
      {
       "output_type": "stream",
       "stream": "stdout",
       "text": [
        " 89  ntrees =  90 \n",
        "best loss =  0.445376721652 \n",
        "last loss =  0.445376721652\n",
        "learning_rate =  0.256\n",
        "sample_size 100\n",
        "\n",
        "iteration #"
       ]
      },
      {
       "output_type": "stream",
       "stream": "stdout",
       "text": [
        " 90  ntrees =  91 \n",
        "best loss =  0.445031341625 \n",
        "last loss =  0.445031341625\n",
        "learning_rate =  0.256\n",
        "sample_size 100\n",
        "\n",
        "iteration #"
       ]
      },
      {
       "output_type": "stream",
       "stream": "stdout",
       "text": [
        " 91  ntrees =  92 \n",
        "best loss =  0.444709464908 \n",
        "last loss =  0.444709464908\n",
        "learning_rate =  0.256\n",
        "sample_size 100\n",
        "\n",
        "iteration #"
       ]
      },
      {
       "output_type": "stream",
       "stream": "stdout",
       "text": [
        " 92  ntrees =  93 \n",
        "best loss =  0.444368888483 \n",
        "last loss =  0.444368888483\n",
        "learning_rate =  0.256\n",
        "sample_size 100\n",
        "\n",
        "iteration #"
       ]
      },
      {
       "output_type": "stream",
       "stream": "stdout",
       "text": [
        " 93  ntrees =  94 \n",
        "best loss =  0.444067257852 \n",
        "last loss =  0.444067257852\n",
        "learning_rate =  0.256\n",
        "sample_size 100\n",
        "\n",
        "iteration #"
       ]
      },
      {
       "output_type": "stream",
       "stream": "stdout",
       "text": [
        " 94  ntrees =  95 \n",
        "best loss =  0.443781291112 \n",
        "last loss =  0.443781291112\n",
        "learning_rate =  0.256\n",
        "sample_size 100\n",
        "\n",
        "iteration #"
       ]
      },
      {
       "output_type": "stream",
       "stream": "stdout",
       "text": [
        " 95  ntrees =  96 \n",
        "best loss =  0.44350017195 \n",
        "last loss =  0.44350017195\n",
        "learning_rate =  0.256\n",
        "sample_size 100\n",
        "\n",
        "iteration #"
       ]
      },
      {
       "output_type": "stream",
       "stream": "stdout",
       "text": [
        " 96  ntrees =  97 \n",
        "best loss =  0.443179769132 \n",
        "last loss =  0.443179769132\n",
        "learning_rate =  0.256\n",
        "sample_size 100\n",
        "\n",
        "iteration #"
       ]
      },
      {
       "output_type": "stream",
       "stream": "stdout",
       "text": [
        " 97  ntrees =  98 \n",
        "best loss =  0.442848266192 \n",
        "last loss =  0.442848266192\n",
        "learning_rate =  0.256\n",
        "sample_size 100\n",
        "\n",
        "iteration #"
       ]
      },
      {
       "output_type": "stream",
       "stream": "stdout",
       "text": [
        " 98  ntrees =  99 \n",
        "best loss =  0.442549124095 \n",
        "last loss =  0.442549124095\n",
        "learning_rate =  0.256\n",
        "sample_size 100\n",
        "\n",
        "iteration #"
       ]
      },
      {
       "output_type": "stream",
       "stream": "stdout",
       "text": [
        " 99  ntrees =  100 \n",
        "best loss =  0.442213561834 \n",
        "last loss =  0.442213561834\n",
        "learning_rate =  0.256\n",
        "sample_size 100\n"
       ]
      }
     ],
     "prompt_number": 27
    },
    {
     "cell_type": "code",
     "collapsed": false,
     "input": [
      "y_pred_stupid = greedy.predict(testFactory,trees[:100])\n",
      "y_pred_full = greedy.predict(testFactory,trees)"
     ],
     "language": "python",
     "metadata": {},
     "outputs": [],
     "prompt_number": 29
    },
    {
     "cell_type": "code",
     "collapsed": false,
     "input": [
      "y_pred_greedy_log = testFactory.predict(res_greedy_log)\n",
      "y_pred_greedy_logauc = testFactory.predict(res_greedy_logauc)\n",
      "y_pred_greedy_explog = testFactory.predict(res_greedy_explog)\n",
      "y_pred_greedy_explogauc = testFactory.predict(res_greedy_explogauc)"
     ],
     "language": "python",
     "metadata": {},
     "outputs": [],
     "prompt_number": 30
    },
    {
     "cell_type": "code",
     "collapsed": false,
     "input": [
      "w_test = testFactory.weights\n",
      "\n",
      "print 'log:',metrics.roc_auc_score(Yts,y_pred_greedy_log,sample_weight=w_test),\n",
      "print 'logauc:',metrics.roc_auc_score(Yts,y_pred_greedy_logauc,sample_weight=w_test),\n",
      "print 'explog:',metrics.roc_auc_score(Yts,y_pred_greedy_explog,sample_weight=w_test),\n",
      "print 'explogauc:',metrics.roc_auc_score(Yts,y_pred_greedy_explogauc,sample_weight=w_test),\n",
      "print 'stupid:',metrics.roc_auc_score(Yts,y_pred_stupid,sample_weight=w_test),\n",
      "print 'full:',metrics.roc_auc_score(Yts,y_pred_full,sample_weight=w_test)\n",
      "print \"well...\""
     ],
     "language": "python",
     "metadata": {},
     "outputs": [
      {
       "output_type": "stream",
       "stream": "stdout",
       "text": [
        "log: "
       ]
      },
      {
       "output_type": "stream",
       "stream": "stdout",
       "text": [
        "0.933983981342 logauc: "
       ]
      },
      {
       "output_type": "stream",
       "stream": "stdout",
       "text": [
        "0.934276073801 explog: 0.934088966165 explogauc: "
       ]
      },
      {
       "output_type": "stream",
       "stream": "stdout",
       "text": [
        "0.93425897799 stupid: 0.916904744001 full: "
       ]
      },
      {
       "output_type": "stream",
       "stream": "stdout",
       "text": [
        "0.935834322801\n",
        "well...\n"
       ]
      }
     ],
     "prompt_number": 63
    },
    {
     "cell_type": "code",
     "collapsed": false,
     "input": [
      "greedies = {\"log\":res_greedy_log,\"logauc\":res_greedy_logauc,\"explog\":res_greedy_explog,\"explogauc\":res_greedy_explogauc,\"stupid\":trees[:100]}"
     ],
     "language": "python",
     "metadata": {},
     "outputs": [],
     "prompt_number": 34
    },
    {
     "cell_type": "code",
     "collapsed": false,
     "input": [
      "ams_curves= {}\n",
      "factory = testFactory\n",
      "for ens_name in greedies:\n",
      "    print \"processing\",ens_name\n",
      "    ams_curves[ens_name] = []\n",
      "    for n_trees in xrange(1,101):\n",
      "        pred_i= factory.predict(greedies[ens_name][:n_trees])\n",
      "        ams_score = optimal_AMS(factory.labels,pred_i,factory.weights)\n",
      "        ams_curves[ens_name].append(ams_score)"
     ],
     "language": "python",
     "metadata": {},
     "outputs": [
      {
       "output_type": "stream",
       "stream": "stdout",
       "text": [
        "processing logauc\n",
        "processing"
       ]
      },
      {
       "output_type": "stream",
       "stream": "stdout",
       "text": [
        " explog\n",
        "processing"
       ]
      },
      {
       "output_type": "stream",
       "stream": "stdout",
       "text": [
        " stupid\n",
        "processing"
       ]
      },
      {
       "output_type": "stream",
       "stream": "stdout",
       "text": [
        " log\n",
        "processing"
       ]
      },
      {
       "output_type": "stream",
       "stream": "stdout",
       "text": [
        " explogauc\n"
       ]
      }
     ],
     "prompt_number": 36
    },
    {
     "cell_type": "code",
     "collapsed": false,
     "input": [
      "plt.figure(figsize=[14,14])\n",
      "for ens_name in ams_curves:\n",
      "    plt.plot(range(1,101),ams_curves[ens_name],label = ens_name)\n",
      "ams_full= optimal_AMS(testFactory.labels,y_pred_full,testFactory.weights)\n",
      "plt.plot(range(1,101),[ams_full for i in range(1,101)],label = \"full\")\n",
      "plt.title('learning curves: AMS')\n",
      "plt.legend(loc=\"lower right\")\n",
      "\n",
      "    "
     ],
     "language": "python",
     "metadata": {},
     "outputs": [
      {
       "metadata": {},
       "output_type": "pyout",
       "prompt_number": 65,
       "text": [
        "<matplotlib.legend.Legend at 0x18d745c0>"
       ]
      },
      {
       "metadata": {},
       "output_type": "display_data",
       "png": "[encoded data removed]",
       "text": [
        "<matplotlib.figure.Figure at 0x1c155438>"
       ]
      }
     ],
     "prompt_number": 65
    },
    {
     "cell_type": "code",
     "collapsed": false,
     "input": [
      "auc_curves= {}\n",
      "factory = testFactory\n",
      "for ens_name in greedies:\n",
      "    print \"processing\",ens_name\n",
      "    auc_curves[ens_name] = []\n",
      "    for n_trees in xrange(1,101):\n",
      "        pred_i= factory.predict(greedies[ens_name][:n_trees])\n",
      "        auc_score = metrics.roc_auc_score(factory.labels,pred_i,sample_weight=factory.weights)\n",
      "        auc_curves[ens_name].append(auc_score)"
     ],
     "language": "python",
     "metadata": {},
     "outputs": [
      {
       "output_type": "stream",
       "stream": "stdout",
       "text": [
        "processing logauc\n",
        "processing explog\n",
        "processing stupid\n",
        "processing log\n",
        "processing explogauc\n"
       ]
      }
     ],
     "prompt_number": 58
    },
    {
     "cell_type": "code",
     "collapsed": false,
     "input": [
      "plt.figure(figsize=[14,14])\n",
      "for ens_name in ams_curves:\n",
      "    plt.plot(range(1,101),auc_curves[ens_name],label = ens_name)\n",
      "auc_full= metrics.roc_auc_score(testFactory.labels,y_pred_full,sample_weight=testFactory.weights)\n",
      "plt.plot(range(1,101),[auc_full for i in range(1,101)],label = \"full\")\n",
      "plt.title('learning curves: AUC')\n",
      "plt.legend(loc=\"lower right\")"
     ],
     "language": "python",
     "metadata": {},
     "outputs": [
      {
       "metadata": {},
       "output_type": "pyout",
       "prompt_number": 67,
       "text": [
        "<matplotlib.legend.Legend at 0x1ad14ba8>"
       ]
      },
      {
       "metadata": {},
       "output_type": "display_data",
       "png": "[encoded data removed]",
       "text": [
        "<matplotlib.figure.Figure at 0x265a7a90>"
       ]
      }
     ],
     "prompt_number": 67
    },
    {
     "cell_type": "code",
     "collapsed": false,
     "input": [
      "_ = joblib.dump(res_greedy,\"dumps/greedy 100 trees black AUC magic\")"
     ],
     "language": "python",
     "metadata": {},
     "outputs": [],
     "prompt_number": 37
    },
    {
     "cell_type": "markdown",
     "metadata": {},
     "source": [
      "# Upper level thresholds extraction"
     ]
    },
    {
     "cell_type": "code",
     "collapsed": false,
     "input": [
      "#usability distribution\n",
      "thresholds = mnet.get_thresholds(trees,30,0.001)"
     ],
     "language": "python",
     "metadata": {},
     "outputs": []
    },
    {
     "cell_type": "code",
     "collapsed": false,
     "input": [
      "plt.scatter(range(len(thresholds)),thresholds[:,2])\n",
      "print sum(thresholds[:,2] >150)"
     ],
     "language": "python",
     "metadata": {},
     "outputs": []
    },
    {
     "cell_type": "markdown",
     "metadata": {},
     "source": [
      "# Criteria selection"
     ]
    },
    {
     "cell_type": "code",
     "collapsed": false,
     "input": [
      "import hierarchy"
     ],
     "language": "python",
     "metadata": {},
     "outputs": []
    },
    {
     "cell_type": "code",
     "collapsed": false,
     "input": [
      "#get them...\n",
      "thresholds_active = thresholds[thresholds[:,2]>100]\n",
      "print len(thresholds_active)\n",
      "criteria = hierarchy.select_criteria(trainFactory,thresholds_active,6,True)"
     ],
     "language": "python",
     "metadata": {},
     "outputs": []
    },
    {
     "cell_type": "code",
     "collapsed": false,
     "input": [
      "criteria"
     ],
     "language": "python",
     "metadata": {},
     "outputs": []
    },
    {
     "cell_type": "code",
     "collapsed": false,
     "input": [
      "split = hierarchy.split_upper(trainFactory,criteria,equalizeWeights=False,split_weights=1.,split_inclusion=.67)\n",
      "samples_split =  [split[i].events.shape[0] for i in split]\n",
      "weights_split =  [sum(split[i].weights) for i in split]\n",
      "print samples_split,sum(samples_split)\n",
      "print weights_split,sum(weights_split)"
     ],
     "language": "python",
     "metadata": {},
     "outputs": []
    },
    {
     "cell_type": "markdown",
     "metadata": {},
     "source": [
      "#Hierarchical stuff"
     ]
    },
    {
     "cell_type": "code",
     "collapsed": false,
     "input": [
      "%time\n",
      "trees_splitted = hierarchy.train_splitted_boosts(trees, trainFactory,criteria,loss_functions.LogLossAuc,0.255,1,\n",
      "                                                 100,100,regularizer =0.00039,\n",
      "                                                 verbose=True,\n",
      "                                                 use_joblib = True,joblib_method = \"threads\",\n",
      "                                                 weights_outside_leaf = 1., inclusion_outside_leaf = .67) "
     ],
     "language": "python",
     "metadata": {},
     "outputs": []
    },
    {
     "cell_type": "code",
     "collapsed": false,
     "input": [
      "y_pred_splitted= hierarchy.predict_splitted(testFactory,criteria,trees_splitted)"
     ],
     "language": "python",
     "metadata": {},
     "outputs": []
    },
    {
     "cell_type": "code",
     "collapsed": false,
     "input": [
      "_= joblib.dump([criteria,trees_splitted],\"dumps/splitted 100 trees\")"
     ],
     "language": "python",
     "metadata": {},
     "outputs": []
    },
    {
     "cell_type": "code",
     "collapsed": false,
     "input": [
      "w_test = testFactory.weights\n",
      "Yts = testFactory.labels\n",
      "print 'spltd\\t',metrics.roc_auc_score(Yts,y_pred_splitted,sample_weight=w_test)\n",
      "print 'greedy\\t',metrics.roc_auc_score(Yts,y_pred_greedy,sample_weight=w_test)\n",
      "print 'stupid\\t',metrics.roc_auc_score(Yts,y_pred_stupid,sample_weight=w_test)\n",
      "print 'full\\t',metrics.roc_auc_score(Yts,y_pred_full,sample_weight=w_test)\n",
      "print \"well...\""
     ],
     "language": "python",
     "metadata": {},
     "outputs": []
    },
    {
     "cell_type": "code",
     "collapsed": false,
     "input": [
      "w_test = testFactory.weights\n",
      "Yts = testFactory.labels\n",
      "print 'spltd\\t',metrics.roc_auc_score(Yts,y_pred_splitted,sample_weight=w_test)\n",
      "print 'greedy\\t',metrics.roc_auc_score(Yts,y_pred_greedy,sample_weight=w_test)\n",
      "print 'stupid\\t',metrics.roc_auc_score(Yts,y_pred_stupid,sample_weight=w_test)\n",
      "print 'full\\t',metrics.roc_auc_score(Yts,y_pred_full,sample_weight=w_test)\n",
      "print \"well...\"\n"
     ],
     "language": "python",
     "metadata": {},
     "outputs": []
    },
    {
     "cell_type": "markdown",
     "metadata": {},
     "source": [
      "#learning curves"
     ]
    },
    {
     "cell_type": "code",
     "collapsed": false,
     "input": [
      "#I know it could have been done without quadratic complexity over trees, but...\n",
      "#btw equalizing 1-0 weights for the training set is not optimal in terms of AUC, but it is close to being so.\n",
      "n_trees =100\n",
      "auc_stupid_lcurve = [(0.5,)]\n",
      "auc_greedy_lcurve = [(0.5,)]\n",
      "auc_splitted_lcurve = [(0.5,)]\n",
      "for i in range(1,n_trees):\n",
      "    #stpd\n",
      "    pred = testFactory.predict(trees[:i])\n",
      "    auc = metrics.roc_auc_score(testFactory.labels,pred,sample_weight=testFactory.weights),\n",
      "    auc_stupid_lcurve.append( auc)    \n",
      "    #grdy\n",
      "    pred = testFactory.predict(res_greedy[:i])#res_greedy_wheel is not optimized for this dissection \n",
      "    auc = metrics.roc_auc_score(testFactory.labels,pred,sample_weight=testFactory.weights),\n",
      "    auc_greedy_lcurve.append( auc)\n",
      "    #split\n",
      "    trees_i = {code:trees_splitted[code][:i] for code in trees_splitted}\n",
      "    pred = hierarchy.predict_splitted(testFactory,criteria,trees_i)\n",
      "\n",
      "    auc = metrics.roc_auc_score(testFactory.labels,pred,sample_weight=testFactory.weights),\n",
      "    auc_splitted_lcurve.append( auc)"
     ],
     "language": "python",
     "metadata": {},
     "outputs": []
    },
    {
     "cell_type": "code",
     "collapsed": false,
     "input": [
      "p = range(1,n_trees)\n",
      "plt.figure(figsize = [14,14])\n",
      "plt.plot(p,[0.935834322801 for i in range(1,n_trees)],label = \"full\")\n",
      "plt.plot(p,auc_stupid_lcurve[1:n_trees],label = \"stupid\")\n",
      "plt.plot(p,auc_greedy_lcurve[1:n_trees],label = \"greedy\")\n",
      "plt.plot(p,auc_splitted_lcurve[1:n_trees],label = \"splitted\")\n",
      "plt.title('learning curves')\n",
      "plt.legend(loc=\"lower right\")\n"
     ],
     "language": "python",
     "metadata": {},
     "outputs": []
    },
    {
     "cell_type": "markdown",
     "metadata": {},
     "source": [
      "#ROC at 100"
     ]
    },
    {
     "cell_type": "code",
     "collapsed": false,
     "input": [
      "y_pred_greedy_100 = testFactory.predict(res_greedy)\n",
      "y_pred_stupid_100 = testFactory.predict(trees[:100])\n",
      "y_pred_splitted_100 =  hierarchy.predict_splitted(testFactory,criteria, trees_splitted)"
     ],
     "language": "python",
     "metadata": {},
     "outputs": []
    },
    {
     "cell_type": "code",
     "collapsed": false,
     "input": [
      "# Plot ROC curve\n",
      "plt.figure(figsize = [14,14])\n",
      "fpr, tpr, _ = metrics.roc_curve(Yts, y_pred_full,sample_weight=testFactory.weights)\n",
      "plt.plot(fpr, tpr,\n",
      "         label='Full boost classi 10k trees')\n",
      "fpr, tpr, _ = metrics.roc_curve(Yts, y_pred_stupid_100,sample_weight=testFactory.weights)\n",
      "plt.plot(fpr, tpr,\n",
      "         label='first N trees classi')\n",
      "fpr, tpr, _ = metrics.roc_curve(Yts, y_pred_greedy_100,sample_weight=testFactory.weights)\n",
      "plt.plot(fpr, tpr,\n",
      "         label='Greedy prune classi+wheel')\n",
      "fpr, tpr, _ = metrics.roc_curve(Yts, y_pred_splitted_100,sample_weight=testFactory.weights)\n",
      "plt.plot(fpr, tpr,\n",
      "         label='8-leaf split classi+wheel')\n",
      "\n",
      "\n",
      "plt.plot([0, 1], [0, 1], 'k--')\n",
      "plt.xlim([0.0, 1.0])\n",
      "plt.ylim([0.0, 1.05])\n",
      "plt.xlabel('False Positive Rate')\n",
      "plt.ylabel('True Positive Rate')\n",
      "plt.title('ROC curves at 100 trees')\n",
      "plt.legend(loc=\"lower right\")\n",
      "plt.show()"
     ],
     "language": "python",
     "metadata": {},
     "outputs": []
    },
    {
     "cell_type": "markdown",
     "metadata": {},
     "source": [
      "#kinda..."
     ]
    },
    {
     "cell_type": "code",
     "collapsed": false,
     "input": [
      "factory = testFactory\n",
      "factories, indices =  hierarchy.split_upper(factory,criteria,True)\n",
      "y_pred = np.zeros(factory.n_events)\n",
      "for leaf in factories.keys():\n",
      "    y_pred[indices[leaf]] = factories[leaf].predict(trees_splitted[leaf])\n",
      "    print leaf, \"mu:\",np.mean(y_pred[indices[leaf]]),\"var:\", np.var(y_pred[indices[leaf]])\n",
      "    plt.hist(y_pred[indices[leaf]])\n",
      "    plt.show()\n",
      "\n",
      "    \n",
      "print metrics.roc_auc_score(factory.labels,y_pred,sample_weight=factory.weights)"
     ],
     "language": "python",
     "metadata": {},
     "outputs": [
      {
       "ename": "NameError",
       "evalue": "name 'testFactory' is not defined",
       "output_type": "pyerr",
       "traceback": [
        "\u001b[1;31m---------------------------------------------------------------------------\u001b[0m\n\u001b[1;31mNameError\u001b[0m                                 Traceback (most recent call last)",
        "\u001b[1;32m<ipython-input-5-5d136cb0e439>\u001b[0m in \u001b[0;36m<module>\u001b[1;34m()\u001b[0m\n\u001b[1;32m----> 1\u001b[1;33m \u001b[0mfactory\u001b[0m \u001b[1;33m=\u001b[0m \u001b[0mtestFactory\u001b[0m\u001b[1;33m\u001b[0m\u001b[0m\n\u001b[0m\u001b[0;32m      2\u001b[0m \u001b[0mfactories\u001b[0m\u001b[1;33m,\u001b[0m \u001b[0mindices\u001b[0m \u001b[1;33m=\u001b[0m  \u001b[0mhierarchy\u001b[0m\u001b[1;33m.\u001b[0m\u001b[0msplit_upper\u001b[0m\u001b[1;33m(\u001b[0m\u001b[0mfactory\u001b[0m\u001b[1;33m,\u001b[0m\u001b[0mcriteria\u001b[0m\u001b[1;33m,\u001b[0m\u001b[0mTrue\u001b[0m\u001b[1;33m)\u001b[0m\u001b[1;33m\u001b[0m\u001b[0m\n\u001b[0;32m      3\u001b[0m \u001b[0my_pred\u001b[0m \u001b[1;33m=\u001b[0m \u001b[0mnp\u001b[0m\u001b[1;33m.\u001b[0m\u001b[0mzeros\u001b[0m\u001b[1;33m(\u001b[0m\u001b[0mfactory\u001b[0m\u001b[1;33m.\u001b[0m\u001b[0mn_events\u001b[0m\u001b[1;33m)\u001b[0m\u001b[1;33m\u001b[0m\u001b[0m\n\u001b[0;32m      4\u001b[0m \u001b[1;32mfor\u001b[0m \u001b[0mleaf\u001b[0m \u001b[1;32min\u001b[0m \u001b[0mfactories\u001b[0m\u001b[1;33m.\u001b[0m\u001b[0mkeys\u001b[0m\u001b[1;33m(\u001b[0m\u001b[1;33m)\u001b[0m\u001b[1;33m:\u001b[0m\u001b[1;33m\u001b[0m\u001b[0m\n\u001b[0;32m      5\u001b[0m     \u001b[0my_pred\u001b[0m\u001b[1;33m[\u001b[0m\u001b[0mindices\u001b[0m\u001b[1;33m[\u001b[0m\u001b[0mleaf\u001b[0m\u001b[1;33m]\u001b[0m\u001b[1;33m]\u001b[0m \u001b[1;33m=\u001b[0m \u001b[0mfactories\u001b[0m\u001b[1;33m[\u001b[0m\u001b[0mleaf\u001b[0m\u001b[1;33m]\u001b[0m\u001b[1;33m.\u001b[0m\u001b[0mpredict\u001b[0m\u001b[1;33m(\u001b[0m\u001b[0mtrees_splitted\u001b[0m\u001b[1;33m[\u001b[0m\u001b[0mleaf\u001b[0m\u001b[1;33m]\u001b[0m\u001b[1;33m)\u001b[0m\u001b[1;33m\u001b[0m\u001b[0m\n",
        "\u001b[1;31mNameError\u001b[0m: name 'testFactory' is not defined"
       ]
      }
     ],
     "prompt_number": 5
    },
    {
     "cell_type": "code",
     "collapsed": false,
     "input": [
      "factories[leaf]"
     ],
     "language": "python",
     "metadata": {},
     "outputs": []
    },
    {
     "cell_type": "code",
     "collapsed": false,
     "input": [],
     "language": "python",
     "metadata": {},
     "outputs": []
    }
   ],
   "metadata": {}
  }
 ]
}