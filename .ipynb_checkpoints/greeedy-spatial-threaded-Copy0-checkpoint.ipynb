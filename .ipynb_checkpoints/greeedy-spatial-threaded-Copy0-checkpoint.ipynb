{
 "metadata": {
  "name": "",
  "signature": "sha256:2150d9f0f4bf84dca6a7839c6cfe9b5f7269adee59e36940a1531a9f73d2dd7c"
 },
 "nbformat": 3,
 "nbformat_minor": 0,
 "worksheets": [
  {
   "cells": [
    {
     "cell_type": "code",
     "collapsed": false,
     "input": [
      "# I explore the cuts of the features\n",
      "%matplotlib inline\n",
      "#\u0442\u0430\u043a \u0442\u043e\u0436\u0435 \u043c\u043e\u0436\u043d\u043e \u0440\u0435\u0448\u0438\u0442\u044c \u043f\u0440\u043e\u0431\u043b\u0435\u043c\u0443 \u0438\u043d\u043b\u0430\u0439\u043b\u0430 \u043f\u043b\u043e\u0442\u043e\u0432\n",
      "\n",
      "import matplotlib.pyplot as plt\n",
      "import numpy as np\n",
      "\n",
      "import sklearn.metrics as metrics\n",
      "from sklearn.externals import joblib\n",
      "from sklearn import cross_validation as cv\n",
      "\n",
      "import _matrixnetapplier as mnet\n",
      "import copy\n",
      "import random\n"
     ],
     "language": "python",
     "metadata": {},
     "outputs": [],
     "prompt_number": 2
    },
    {
     "cell_type": "markdown",
     "metadata": {},
     "source": [
      "# Extracting the trained model"
     ]
    },
    {
     "cell_type": "code",
     "collapsed": false,
     "input": [
      "itr,trees = mnet.get_trees(\"formula/formula.mx\")\n",
      "n_features = 30\n",
      "print itr"
     ],
     "language": "python",
     "metadata": {},
     "outputs": [
      {
       "output_type": "stream",
       "stream": "stdout",
       "text": [
        "(6, 10000, <generator object _iterate_over_trees_with_fixed_depth at 0x0000000013BE0AB0>)\n"
       ]
      }
     ],
     "prompt_number": 3
    },
    {
     "cell_type": "markdown",
     "metadata": {},
     "source": [
      "# Loading dataset"
     ]
    },
    {
     "cell_type": "code",
     "collapsed": false,
     "input": [
      "#load training set\n",
      "def load_data(path):\n",
      "    print 'Loading training data...'\n",
      "    data = np.loadtxt(path, \\\n",
      "            delimiter=',', \\\n",
      "            skiprows=1, \\\n",
      "            converters={32: lambda x:int(x=='s'.encode('utf-8'))})\n",
      "\n",
      "    X = data[:,1:31]\n",
      "    Y = data[:,32]\n",
      "    W = data[:,31]\n",
      "    print \"Loaded.\"\n",
      "    return X,Y,W"
     ],
     "language": "python",
     "metadata": {},
     "outputs": [],
     "prompt_number": 4
    },
    {
     "cell_type": "code",
     "collapsed": false,
     "input": [
      "X,Y,W = load_data(\"data/training.csv\")"
     ],
     "language": "python",
     "metadata": {},
     "outputs": [
      {
       "output_type": "stream",
       "stream": "stdout",
       "text": [
        "Loading training data...\n",
        "Loaded."
       ]
      },
      {
       "output_type": "stream",
       "stream": "stdout",
       "text": [
        "\n"
       ]
      }
     ],
     "prompt_number": 5
    },
    {
     "cell_type": "code",
     "collapsed": false,
     "input": [
      "from sklearn.cross_validation import train_test_split\n",
      "Xtr,Xts,Ytr,Yts,Wtr,Wts = train_test_split(X, Y, W, train_size=0.51, random_state=42)"
     ],
     "language": "python",
     "metadata": {},
     "outputs": [],
     "prompt_number": 6
    },
    {
     "cell_type": "code",
     "collapsed": false,
     "input": [
      "from factory import DataFactory\n",
      "trainFactory = DataFactory(Xtr,Ytr,Wtr)\n",
      "testFactory = DataFactory(Xts,Yts,Wts)"
     ],
     "language": "python",
     "metadata": {},
     "outputs": [],
     "prompt_number": 7
    },
    {
     "cell_type": "code",
     "collapsed": false,
     "input": [
      "#equalize classes, normalize weights\n",
      "trainFactory.equalizeWeights()\n",
      "print sum(trainFactory.weights[trainFactory.labels==1]),\n",
      "print sum(trainFactory.weights[trainFactory.labels==0]),\n",
      "print sum(trainFactory.weights),"
     ],
     "language": "python",
     "metadata": {},
     "outputs": [
      {
       "output_type": "stream",
       "stream": "stdout",
       "text": [
        "0.5 "
       ]
      },
      {
       "output_type": "stream",
       "stream": "stdout",
       "text": [
        "0.5 "
       ]
      },
      {
       "output_type": "stream",
       "stream": "stdout",
       "text": [
        "0.999999999999\n"
       ]
      }
     ],
     "prompt_number": 8
    },
    {
     "cell_type": "markdown",
     "metadata": {},
     "source": [
      "#sanity check"
     ]
    },
    {
     "cell_type": "code",
     "collapsed": false,
     "input": [
      "def compute_ams_on_cuts(answers, predictions, sample_weight):\n",
      "    \"\"\" Predictions are probabilities\"\"\"\n",
      "    b, s, thresholds = metrics.roc_curve(answers, predictions, sample_weight=sample_weight)\n",
      "    # normalization constants\n",
      "    real_s = 691.988607712\n",
      "    real_b = 410999.847322\n",
      "    s *= real_s\n",
      "    b *= real_b\n",
      "    br = 10.\n",
      "    radicands = 2 * ((s + b + br) * np.log(1.0 + s/(b + br)) - s)\n",
      "    return thresholds, radicands\n",
      "\n",
      "def optimal_AMS(answers, predictions, sample_weight):\n",
      "    \"\"\" Predictions are probabilities \"\"\"\n",
      "    cuts, radicands = compute_ams_on_cuts(answers, predictions, sample_weight)\n",
      "    return np.sqrt(np.max(radicands))\n",
      "\n",
      "\n",
      "def precisionAt15(answers, predictions, sample_weight, percent=0.15):\n",
      "    n_passed = int(len(answers) * percent)\n",
      "    RATIO = 50\n",
      "    weight = sample_weight.copy()\n",
      "    weight[answers == 0] /= weight[answers == 0].mean() / RATIO\n",
      "    weight[answers == 1] /= weight[answers == 1].mean()\n",
      "    order = np.argsort(-predictions)\n",
      "    passed = order[:n_passed]    \n",
      "    return np.average(answers[passed], weights=weight[passed])"
     ],
     "language": "python",
     "metadata": {},
     "outputs": [],
     "prompt_number": 9
    },
    {
     "cell_type": "code",
     "collapsed": false,
     "input": [
      "def print_control_metrics(proba_test, proba_train):\n",
      "    for name, metric in [('ROC', metrics.roc_auc_score), ('AMS', optimal_AMS), ('precision', precisionAt15)]:\n",
      "        print name,\n",
      "        print metric(Yts, proba_test, sample_weight=Wts), \n",
      "        print metric(Ytr, proba_train, sample_weight=Wtr)"
     ],
     "language": "python",
     "metadata": {},
     "outputs": [],
     "prompt_number": 10
    },
    {
     "cell_type": "code",
     "collapsed": false,
     "input": [
      "%%time\n",
      "#print_control_metrics(testFactory.predict(trees),trainFactory.predict(trees))"
     ],
     "language": "python",
     "metadata": {},
     "outputs": [
      {
       "output_type": "stream",
       "stream": "stdout",
       "text": [
        "Wall time: 0 ns\n"
       ]
      }
     ],
     "prompt_number": 11
    },
    {
     "cell_type": "markdown",
     "metadata": {},
     "source": [
      "# greedy pruning for the whole data"
     ]
    },
    {
     "cell_type": "code",
     "collapsed": false,
     "input": [
      "import greedy\n",
      "from loss_functions import LogLoss, LogLossAuc"
     ],
     "language": "python",
     "metadata": {},
     "outputs": [],
     "prompt_number": 12
    },
    {
     "cell_type": "code",
     "collapsed": false,
     "input": [
      "import loss_functions\n",
      "class _LogLoss_auc2(loss_functions._LogLoss):\n",
      "    \"\"\"black magic with AUC incorporation, brand new special edition with banana taste\"\"\"\n",
      "    def score(self,factory,y_pred):\n",
      "        sumLoss = np.sum(self(factory,y_pred))\n",
      "        auc = (metrics.roc_auc_score(factory.labels,y_pred,sample_weight = factory.weights))**2\n",
      "        return sumLoss/auc\n",
      "LogLossAuc2 = _LogLoss_auc2()"
     ],
     "language": "python",
     "metadata": {},
     "outputs": []
    },
    {
     "cell_type": "code",
     "collapsed": false,
     "input": [
      "print 50./trainFactory.n_events*sum(trainFactory.weights)"
     ],
     "language": "python",
     "metadata": {},
     "outputs": [
      {
       "output_type": "stream",
       "stream": "stdout",
       "text": [
        "0.000392156862745\n"
       ]
      }
     ],
     "prompt_number": 12
    },
    {
     "cell_type": "code",
     "collapsed": false,
     "input": [
      "%%time\n",
      "res_greedy = greedy.greed_up_features_bfs(trees,trainFactory,\n",
      "                                          loss = LogLossAuc,\n",
      "                                          learning_rate = .255,\n",
      "                                          breadth =1,\n",
      "                                          nTrees =100,\n",
      "                                          trees_sample_size =200,\n",
      "                                          verbose = True,\n",
      "                                          regularizer=0.000392156862745,\n",
      "                                          use_joblib=True)\n",
      "res_greedy2 = greedy.greed_up_features_bfs(trees,trainFactory,\n",
      "                                          loss = LogLossAuc2,\n",
      "                                          learning_rate = .255,\n",
      "                                          breadth =1,\n",
      "                                          nTrees =100,\n",
      "                                          trees_sample_size =200,\n",
      "                                          verbose = True,\n",
      "                                          regularizer=0.000392156862745,\n",
      "                                          use_joblib=True)"
     ],
     "language": "python",
     "metadata": {},
     "outputs": [
      {
       "output_type": "stream",
       "stream": "stdout",
       "text": [
        "\n",
        "iteration # 0  ntrees =  1 \n",
        "best loss =  0.65387222307\n",
        "learning_rate =  0.255\n",
        "sample_size 200\n",
        "\n",
        "iteration #"
       ]
      },
      {
       "output_type": "stream",
       "stream": "stdout",
       "text": [
        " 1  ntrees =  2 \n",
        "best loss =  0.576561965124 \n",
        "last loss =  0.576561965124\n",
        "learning_rate =  0.255\n",
        "sample_size 200\n",
        "\n",
        "iteration #"
       ]
      },
      {
       "output_type": "stream",
       "stream": "stdout",
       "text": [
        " 2  ntrees =  3 \n",
        "best loss =  0.521725609561 \n",
        "last loss =  0.521725609561\n",
        "learning_rate =  0.255\n",
        "sample_size 200\n",
        "\n",
        "iteration #"
       ]
      },
      {
       "output_type": "stream",
       "stream": "stdout",
       "text": [
        " 3  ntrees =  4 \n",
        "best loss =  0.485748446715 \n",
        "last loss =  0.485748446715\n",
        "learning_rate =  0.255\n",
        "sample_size 200\n",
        "\n",
        "iteration #"
       ]
      },
      {
       "output_type": "stream",
       "stream": "stdout",
       "text": [
        " 4  ntrees =  5 \n",
        "best loss =  0.461219037924 \n",
        "last loss =  0.461219037924\n",
        "learning_rate =  0.255\n",
        "sample_size 200\n",
        "\n",
        "iteration #"
       ]
      },
      {
       "output_type": "stream",
       "stream": "stdout",
       "text": [
        " 5  ntrees =  6 \n",
        "best loss =  0.442876665423 \n",
        "last loss =  0.442876665423\n",
        "learning_rate =  0.255\n",
        "sample_size 200\n",
        "\n",
        "iteration #"
       ]
      },
      {
       "output_type": "stream",
       "stream": "stdout",
       "text": [
        " 6  ntrees =  7 \n",
        "best loss =  0.428511441246 \n",
        "last loss =  0.428511441246\n",
        "learning_rate =  0.255\n",
        "sample_size 200\n",
        "\n",
        "iteration #"
       ]
      },
      {
       "output_type": "stream",
       "stream": "stdout",
       "text": [
        " 7  ntrees =  8 \n",
        "best loss =  0.417565993272 \n",
        "last loss =  0.417565993272\n",
        "learning_rate =  0.255\n",
        "sample_size 200\n",
        "\n",
        "iteration #"
       ]
      },
      {
       "output_type": "stream",
       "stream": "stdout",
       "text": [
        " 8  ntrees =  9 \n",
        "best loss =  0.409335332496 \n",
        "last loss =  0.409335332496\n",
        "learning_rate =  0.255\n",
        "sample_size 200\n",
        "\n",
        "iteration #"
       ]
      },
      {
       "output_type": "stream",
       "stream": "stdout",
       "text": [
        " 9  ntrees =  10 \n",
        "best loss =  0.402795429624 \n",
        "last loss =  0.402795429624\n",
        "learning_rate =  0.255\n",
        "sample_size 200\n",
        "\n",
        "iteration #"
       ]
      },
      {
       "output_type": "stream",
       "stream": "stdout",
       "text": [
        " 10  ntrees =  11 \n",
        "best loss =  0.396888741443 \n",
        "last loss =  0.396888741443\n",
        "learning_rate =  0.255\n",
        "sample_size 200\n",
        "\n",
        "iteration #"
       ]
      },
      {
       "output_type": "stream",
       "stream": "stdout",
       "text": [
        " 11  ntrees =  12 \n",
        "best loss =  0.392342206522 \n",
        "last loss =  0.392342206522\n",
        "learning_rate =  0.255\n",
        "sample_size 200\n",
        "\n",
        "iteration #"
       ]
      },
      {
       "output_type": "stream",
       "stream": "stdout",
       "text": [
        " 12  ntrees =  13 \n",
        "best loss =  0.38840347131 \n",
        "last loss =  0.38840347131\n",
        "learning_rate =  0.255\n",
        "sample_size 200\n",
        "\n",
        "iteration #"
       ]
      },
      {
       "output_type": "stream",
       "stream": "stdout",
       "text": [
        " 13  ntrees =  14 \n",
        "best loss =  0.385036542044 \n",
        "last loss =  0.385036542044\n",
        "learning_rate =  0.255\n",
        "sample_size 200\n",
        "\n",
        "iteration #"
       ]
      },
      {
       "output_type": "stream",
       "stream": "stdout",
       "text": [
        " 14  ntrees =  15 \n",
        "best loss =  0.381874785365 \n",
        "last loss =  0.381874785365\n",
        "learning_rate =  0.255\n",
        "sample_size 200\n",
        "\n",
        "iteration #"
       ]
      },
      {
       "output_type": "stream",
       "stream": "stdout",
       "text": [
        " 15  ntrees =  16 \n",
        "best loss =  0.379358833998 \n",
        "last loss =  0.379358833998\n",
        "learning_rate =  0.255\n",
        "sample_size 200\n",
        "\n",
        "iteration #"
       ]
      },
      {
       "output_type": "stream",
       "stream": "stdout",
       "text": [
        " 16  ntrees =  17 \n",
        "best loss =  0.377055374741 \n",
        "last loss =  0.377055374741\n",
        "learning_rate =  0.255\n",
        "sample_size 200\n",
        "\n",
        "iteration #"
       ]
      },
      {
       "output_type": "stream",
       "stream": "stdout",
       "text": [
        " 17  ntrees =  18 \n",
        "best loss =  0.374706096361 \n",
        "last loss =  0.374706096361\n",
        "learning_rate =  0.255\n",
        "sample_size 200\n",
        "\n",
        "iteration #"
       ]
      },
      {
       "output_type": "stream",
       "stream": "stdout",
       "text": [
        " 18  ntrees =  19 \n",
        "best loss =  0.372897499309 \n",
        "last loss =  0.372897499309\n",
        "learning_rate =  0.255\n",
        "sample_size 200\n",
        "\n",
        "iteration #"
       ]
      },
      {
       "output_type": "stream",
       "stream": "stdout",
       "text": [
        " 19  ntrees =  20 \n",
        "best loss =  0.371275629179 \n",
        "last loss =  0.371275629179\n",
        "learning_rate =  0.255\n",
        "sample_size 200\n",
        "\n",
        "iteration #"
       ]
      },
      {
       "output_type": "stream",
       "stream": "stdout",
       "text": [
        " 20  ntrees =  21 \n",
        "best loss =  0.369788662016 \n",
        "last loss =  0.369788662016\n",
        "learning_rate =  0.255\n",
        "sample_size 200\n",
        "\n",
        "iteration #"
       ]
      },
      {
       "output_type": "stream",
       "stream": "stdout",
       "text": [
        " 21  ntrees =  22 \n",
        "best loss =  0.368417632656 \n",
        "last loss =  0.368417632656\n",
        "learning_rate =  0.255\n",
        "sample_size 200\n",
        "\n",
        "iteration #"
       ]
      },
      {
       "output_type": "stream",
       "stream": "stdout",
       "text": [
        " 22  ntrees =  23 \n",
        "best loss =  0.367139524149 \n",
        "last loss =  0.367139524149\n",
        "learning_rate =  0.255\n",
        "sample_size 200\n",
        "\n",
        "iteration #"
       ]
      },
      {
       "output_type": "stream",
       "stream": "stdout",
       "text": [
        " 23  ntrees =  24 \n",
        "best loss =  0.365781799982 \n",
        "last loss =  0.365781799982\n",
        "learning_rate =  0.255\n",
        "sample_size 200\n",
        "\n",
        "iteration #"
       ]
      },
      {
       "output_type": "stream",
       "stream": "stdout",
       "text": [
        " 24  ntrees =  25 \n",
        "best loss =  0.364665086963 \n",
        "last loss =  0.364665086963\n",
        "learning_rate =  0.255\n",
        "sample_size 200\n",
        "\n",
        "iteration #"
       ]
      },
      {
       "output_type": "stream",
       "stream": "stdout",
       "text": [
        " 25  ntrees =  26 \n",
        "best loss =  0.363478092646 \n",
        "last loss =  0.363478092646\n",
        "learning_rate =  0.255\n",
        "sample_size 200\n",
        "\n",
        "iteration #"
       ]
      },
      {
       "output_type": "stream",
       "stream": "stdout",
       "text": [
        " 26  ntrees =  27 \n",
        "best loss =  0.362471113991 \n",
        "last loss =  0.362471113991\n",
        "learning_rate =  0.255\n",
        "sample_size 200\n",
        "\n",
        "iteration #"
       ]
      },
      {
       "output_type": "stream",
       "stream": "stdout",
       "text": [
        " 27  ntrees =  28 \n",
        "best loss =  0.36146413853 \n",
        "last loss =  0.36146413853\n",
        "learning_rate =  0.255\n",
        "sample_size 200\n",
        "\n",
        "iteration #"
       ]
      },
      {
       "output_type": "stream",
       "stream": "stdout",
       "text": [
        " 28  ntrees =  29 \n",
        "best loss =  0.360607305635 \n",
        "last loss =  0.360607305635\n",
        "learning_rate =  0.255\n",
        "sample_size 200\n",
        "\n",
        "iteration #"
       ]
      },
      {
       "output_type": "stream",
       "stream": "stdout",
       "text": [
        " 29  ntrees =  30 \n",
        "best loss =  0.35978773446 \n",
        "last loss =  0.35978773446\n",
        "learning_rate =  0.255\n",
        "sample_size 200\n",
        "\n",
        "iteration #"
       ]
      },
      {
       "output_type": "stream",
       "stream": "stdout",
       "text": [
        " 30  ntrees =  31 \n",
        "best loss =  0.359035443784 \n",
        "last loss =  0.359035443784\n",
        "learning_rate =  0.255\n",
        "sample_size 200\n",
        "\n",
        "iteration #"
       ]
      },
      {
       "output_type": "stream",
       "stream": "stdout",
       "text": [
        " 31  ntrees =  32 \n",
        "best loss =  0.358257291669 \n",
        "last loss =  0.358257291669\n",
        "learning_rate =  0.255\n",
        "sample_size 200\n",
        "\n",
        "iteration #"
       ]
      },
      {
       "output_type": "stream",
       "stream": "stdout",
       "text": [
        " 32  ntrees =  33 \n",
        "best loss =  0.357456246746 \n",
        "last loss =  0.357456246746\n",
        "learning_rate =  0.255\n",
        "sample_size 200\n",
        "\n",
        "iteration #"
       ]
      },
      {
       "output_type": "stream",
       "stream": "stdout",
       "text": [
        " 33  ntrees =  34 \n",
        "best loss =  0.35668861045 \n",
        "last loss =  0.35668861045\n",
        "learning_rate =  0.255\n",
        "sample_size 200\n",
        "\n",
        "iteration #"
       ]
      },
      {
       "output_type": "stream",
       "stream": "stdout",
       "text": [
        " 34  ntrees =  35 \n",
        "best loss =  0.355715206813 \n",
        "last loss =  0.355715206813\n",
        "learning_rate =  0.255\n",
        "sample_size 200\n",
        "\n",
        "iteration #"
       ]
      },
      {
       "output_type": "stream",
       "stream": "stdout",
       "text": [
        " 35  ntrees =  36 \n",
        "best loss =  0.355092777299 \n",
        "last loss =  0.355092777299\n",
        "learning_rate =  0.255\n",
        "sample_size 200\n",
        "\n",
        "iteration #"
       ]
      },
      {
       "output_type": "stream",
       "stream": "stdout",
       "text": [
        " 36  ntrees =  37 \n",
        "best loss =  0.354479762066 \n",
        "last loss =  0.354479762066\n",
        "learning_rate =  0.255\n",
        "sample_size 200\n",
        "\n",
        "iteration #"
       ]
      },
      {
       "output_type": "stream",
       "stream": "stdout",
       "text": [
        " 37  ntrees =  38 \n",
        "best loss =  0.353828624804 \n",
        "last loss =  0.353828624804\n",
        "learning_rate =  0.255\n",
        "sample_size 200\n",
        "\n",
        "iteration #"
       ]
      },
      {
       "output_type": "stream",
       "stream": "stdout",
       "text": [
        " 38  ntrees =  39 \n",
        "best loss =  0.353107750196 \n",
        "last loss =  0.353107750196\n",
        "learning_rate =  0.255\n",
        "sample_size 200\n",
        "\n",
        "iteration #"
       ]
      },
      {
       "output_type": "stream",
       "stream": "stdout",
       "text": [
        " 39  ntrees =  40 \n",
        "best loss =  0.352554358679 \n",
        "last loss =  0.352554358679\n",
        "learning_rate =  0.255\n",
        "sample_size 200\n",
        "\n",
        "iteration #"
       ]
      },
      {
       "output_type": "stream",
       "stream": "stdout",
       "text": [
        " 40  ntrees =  41 \n",
        "best loss =  0.352033302871 \n",
        "last loss =  0.352033302871\n",
        "learning_rate =  0.255\n",
        "sample_size 200\n",
        "\n",
        "iteration #"
       ]
      },
      {
       "output_type": "stream",
       "stream": "stdout",
       "text": [
        " 41  ntrees =  42 \n",
        "best loss =  0.351451866668 \n",
        "last loss =  0.351451866668\n",
        "learning_rate =  0.255\n",
        "sample_size 200\n",
        "\n",
        "iteration #"
       ]
      },
      {
       "output_type": "stream",
       "stream": "stdout",
       "text": [
        " 42  ntrees =  43 \n",
        "best loss =  0.35098095512 \n",
        "last loss =  0.35098095512\n",
        "learning_rate =  0.255\n",
        "sample_size 200\n",
        "\n",
        "iteration #"
       ]
      },
      {
       "output_type": "stream",
       "stream": "stdout",
       "text": [
        " 43  ntrees =  44 \n",
        "best loss =  0.350410288906 \n",
        "last loss =  0.350410288906\n",
        "learning_rate =  0.255\n",
        "sample_size 200\n",
        "\n",
        "iteration #"
       ]
      },
      {
       "output_type": "stream",
       "stream": "stdout",
       "text": [
        " 44  ntrees =  45 \n",
        "best loss =  0.349873354557 \n",
        "last loss =  0.349873354557\n",
        "learning_rate =  0.255\n",
        "sample_size 200\n",
        "\n",
        "iteration #"
       ]
      },
      {
       "output_type": "stream",
       "stream": "stdout",
       "text": [
        " 45  ntrees =  46 \n",
        "best loss =  0.349413703804 \n",
        "last loss =  0.349413703804\n",
        "learning_rate =  0.255\n",
        "sample_size 200\n",
        "\n",
        "iteration #"
       ]
      },
      {
       "output_type": "stream",
       "stream": "stdout",
       "text": [
        " 46  ntrees =  47 \n",
        "best loss =  0.348927117435 \n",
        "last loss =  0.348927117435\n",
        "learning_rate =  0.255\n",
        "sample_size 200\n",
        "\n",
        "iteration #"
       ]
      },
      {
       "output_type": "stream",
       "stream": "stdout",
       "text": [
        " 47  ntrees =  48 \n",
        "best loss =  0.348484265222 \n",
        "last loss =  0.348484265222\n",
        "learning_rate =  0.255\n",
        "sample_size 200\n",
        "\n",
        "iteration #"
       ]
      },
      {
       "output_type": "stream",
       "stream": "stdout",
       "text": [
        " 48  ntrees =  49 \n",
        "best loss =  0.34792941088 \n",
        "last loss =  0.34792941088\n",
        "learning_rate =  0.255\n",
        "sample_size 200\n",
        "\n",
        "iteration #"
       ]
      },
      {
       "output_type": "stream",
       "stream": "stdout",
       "text": [
        " 49  ntrees =  50 \n",
        "best loss =  0.347473587248 \n",
        "last loss =  0.347473587248\n",
        "learning_rate =  0.255\n",
        "sample_size 200\n",
        "\n",
        "iteration #"
       ]
      },
      {
       "output_type": "stream",
       "stream": "stdout",
       "text": [
        " 50  ntrees =  51 \n",
        "best loss =  0.347075536225 \n",
        "last loss =  0.347075536225\n",
        "learning_rate =  0.255\n",
        "sample_size 200\n",
        "\n",
        "iteration #"
       ]
      },
      {
       "output_type": "stream",
       "stream": "stdout",
       "text": [
        " 51  ntrees =  52 \n",
        "best loss =  0.346698669898 \n",
        "last loss =  0.346698669898\n",
        "learning_rate =  0.255\n",
        "sample_size 200\n",
        "\n",
        "iteration #"
       ]
      },
      {
       "output_type": "stream",
       "stream": "stdout",
       "text": [
        " 52  ntrees =  53 \n",
        "best loss =  0.346281554824 \n",
        "last loss =  0.346281554824\n",
        "learning_rate =  0.255\n",
        "sample_size 200\n",
        "\n",
        "iteration #"
       ]
      },
      {
       "output_type": "stream",
       "stream": "stdout",
       "text": [
        " 53  ntrees =  54 \n",
        "best loss =  0.345871348309 \n",
        "last loss =  0.345871348309\n",
        "learning_rate =  0.255\n",
        "sample_size 200\n",
        "\n",
        "iteration #"
       ]
      },
      {
       "output_type": "stream",
       "stream": "stdout",
       "text": [
        " 54  ntrees =  55 \n",
        "best loss =  0.345488222517 \n",
        "last loss =  0.345488222517\n",
        "learning_rate =  0.255\n",
        "sample_size 200\n",
        "\n",
        "iteration #"
       ]
      },
      {
       "output_type": "stream",
       "stream": "stdout",
       "text": [
        " 55  ntrees =  56 \n",
        "best loss =  0.345098946442 \n",
        "last loss =  0.345098946442\n",
        "learning_rate =  0.255\n",
        "sample_size 200\n",
        "\n",
        "iteration #"
       ]
      },
      {
       "output_type": "stream",
       "stream": "stdout",
       "text": [
        " 56  ntrees =  57 \n",
        "best loss =  0.344708402077 \n",
        "last loss =  0.344708402077\n",
        "learning_rate =  0.255\n",
        "sample_size 200\n",
        "\n",
        "iteration #"
       ]
      },
      {
       "output_type": "stream",
       "stream": "stdout",
       "text": [
        " 57  ntrees =  58 \n",
        "best loss =  0.344339528726 \n",
        "last loss =  0.344339528726\n",
        "learning_rate =  0.255\n",
        "sample_size 200\n",
        "\n",
        "iteration #"
       ]
      },
      {
       "output_type": "stream",
       "stream": "stdout",
       "text": [
        " 58  ntrees =  59 \n",
        "best loss =  0.343974737961 \n",
        "last loss =  0.343974737961\n",
        "learning_rate =  0.255\n",
        "sample_size 200\n",
        "\n",
        "iteration #"
       ]
      },
      {
       "output_type": "stream",
       "stream": "stdout",
       "text": [
        " 59  ntrees =  60 \n",
        "best loss =  0.343619695976 \n",
        "last loss =  0.343619695976\n",
        "learning_rate =  0.255\n",
        "sample_size 200\n",
        "\n",
        "iteration #"
       ]
      },
      {
       "output_type": "stream",
       "stream": "stdout",
       "text": [
        " 60  ntrees =  61 \n",
        "best loss =  0.343258605936 \n",
        "last loss =  0.343258605936\n",
        "learning_rate =  0.255\n",
        "sample_size 200\n",
        "\n",
        "iteration #"
       ]
      },
      {
       "output_type": "stream",
       "stream": "stdout",
       "text": [
        " 61  ntrees =  62 \n",
        "best loss =  0.342900743641 \n",
        "last loss =  0.342900743641\n",
        "learning_rate =  0.255\n",
        "sample_size 200\n",
        "\n",
        "iteration #"
       ]
      },
      {
       "output_type": "stream",
       "stream": "stdout",
       "text": [
        " 62  ntrees =  63 \n",
        "best loss =  0.342552759186 \n",
        "last loss =  0.342552759186\n",
        "learning_rate =  0.255\n",
        "sample_size 200\n",
        "\n",
        "iteration #"
       ]
      },
      {
       "output_type": "stream",
       "stream": "stdout",
       "text": [
        " 63  ntrees =  64 \n",
        "best loss =  0.342226139387 \n",
        "last loss =  0.342226139387\n",
        "learning_rate =  0.255\n",
        "sample_size 200\n",
        "\n",
        "iteration #"
       ]
      },
      {
       "output_type": "stream",
       "stream": "stdout",
       "text": [
        " 64  ntrees =  65 \n",
        "best loss =  0.341902197767 \n",
        "last loss =  0.341902197767\n",
        "learning_rate =  0.255\n",
        "sample_size 200\n",
        "\n",
        "iteration #"
       ]
      },
      {
       "output_type": "stream",
       "stream": "stdout",
       "text": [
        " 65  ntrees =  66 \n",
        "best loss =  0.341557759326 \n",
        "last loss =  0.341557759326\n",
        "learning_rate =  0.255\n",
        "sample_size 200\n",
        "\n",
        "iteration #"
       ]
      },
      {
       "output_type": "stream",
       "stream": "stdout",
       "text": [
        " 66  ntrees =  67 \n",
        "best loss =  0.341247483305 \n",
        "last loss =  0.341247483305\n",
        "learning_rate =  0.255\n",
        "sample_size 200\n",
        "\n",
        "iteration #"
       ]
      },
      {
       "output_type": "stream",
       "stream": "stdout",
       "text": [
        " 67  ntrees =  68 \n",
        "best loss =  0.340914748484 \n",
        "last loss =  0.340914748484\n",
        "learning_rate =  0.255\n",
        "sample_size 200\n",
        "\n",
        "iteration #"
       ]
      },
      {
       "output_type": "stream",
       "stream": "stdout",
       "text": [
        " 68  ntrees =  69 \n",
        "best loss =  0.340589451664 \n",
        "last loss =  0.340589451664\n",
        "learning_rate =  0.255\n",
        "sample_size 200\n",
        "\n",
        "iteration #"
       ]
      },
      {
       "output_type": "stream",
       "stream": "stdout",
       "text": [
        " 69  ntrees =  70 \n",
        "best loss =  0.340297634391 \n",
        "last loss =  0.340297634391\n",
        "learning_rate =  0.255\n",
        "sample_size 200\n",
        "\n",
        "iteration #"
       ]
      },
      {
       "output_type": "stream",
       "stream": "stdout",
       "text": [
        " 70  ntrees =  71 \n",
        "best loss =  0.339971366451 \n",
        "last loss =  0.339971366451\n",
        "learning_rate =  0.255\n",
        "sample_size 200\n",
        "\n",
        "iteration #"
       ]
      },
      {
       "output_type": "stream",
       "stream": "stdout",
       "text": [
        " 71  ntrees =  72 \n",
        "best loss =  0.339631058966 \n",
        "last loss =  0.339631058966\n",
        "learning_rate =  0.255\n",
        "sample_size 200\n",
        "\n",
        "iteration #"
       ]
      },
      {
       "output_type": "stream",
       "stream": "stdout",
       "text": [
        " 72  ntrees =  73 \n",
        "best loss =  0.339330270818 \n",
        "last loss =  0.339330270818\n",
        "learning_rate =  0.255\n",
        "sample_size 200\n",
        "\n",
        "iteration #"
       ]
      },
      {
       "output_type": "stream",
       "stream": "stdout",
       "text": [
        " 73  ntrees =  74 \n",
        "best loss =  0.339042465338 \n",
        "last loss =  0.339042465338\n",
        "learning_rate =  0.255\n",
        "sample_size 200\n",
        "\n",
        "iteration #"
       ]
      },
      {
       "output_type": "stream",
       "stream": "stdout",
       "text": [
        " 74  ntrees =  75 \n",
        "best loss =  0.338746355437 \n",
        "last loss =  0.338746355437\n",
        "learning_rate =  0.255\n",
        "sample_size 200\n",
        "\n",
        "iteration #"
       ]
      },
      {
       "output_type": "stream",
       "stream": "stdout",
       "text": [
        " 75  ntrees =  76 \n",
        "best loss =  0.338455141167 \n",
        "last loss =  0.338455141167\n",
        "learning_rate =  0.255\n",
        "sample_size 200\n",
        "\n",
        "iteration #"
       ]
      },
      {
       "output_type": "stream",
       "stream": "stdout",
       "text": [
        " 76  ntrees =  77 \n",
        "best loss =  0.338123341823 \n",
        "last loss =  0.338123341823\n",
        "learning_rate =  0.255\n",
        "sample_size 200\n",
        "\n",
        "iteration #"
       ]
      },
      {
       "output_type": "stream",
       "stream": "stdout",
       "text": [
        " 77  ntrees =  78 \n",
        "best loss =  0.337845685297 \n",
        "last loss =  0.337845685297\n",
        "learning_rate =  0.255\n",
        "sample_size 200\n",
        "\n",
        "iteration #"
       ]
      },
      {
       "output_type": "stream",
       "stream": "stdout",
       "text": [
        " 78  ntrees =  79 \n",
        "best loss =  0.337538126835 \n",
        "last loss =  0.337538126835\n",
        "learning_rate =  0.255\n",
        "sample_size 200\n",
        "\n",
        "iteration #"
       ]
      },
      {
       "output_type": "stream",
       "stream": "stdout",
       "text": [
        " 79  ntrees =  80 \n",
        "best loss =  0.33723719617 \n",
        "last loss =  0.33723719617\n",
        "learning_rate =  0.255\n",
        "sample_size 200\n",
        "\n",
        "iteration #"
       ]
      },
      {
       "output_type": "stream",
       "stream": "stdout",
       "text": [
        " 80  ntrees =  81 \n",
        "best loss =  0.336902389677 \n",
        "last loss =  0.336902389677\n",
        "learning_rate =  0.255\n",
        "sample_size 200\n",
        "\n",
        "iteration #"
       ]
      },
      {
       "output_type": "stream",
       "stream": "stdout",
       "text": [
        " 81  ntrees =  82 \n",
        "best loss =  0.336638958897 \n",
        "last loss =  0.336638958897\n",
        "learning_rate =  0.255\n",
        "sample_size 200\n",
        "\n",
        "iteration #"
       ]
      },
      {
       "output_type": "stream",
       "stream": "stdout",
       "text": [
        " 82  ntrees =  83 \n",
        "best loss =  0.336358701695 \n",
        "last loss =  0.336358701695\n",
        "learning_rate =  0.255\n",
        "sample_size 200\n",
        "\n",
        "iteration #"
       ]
      },
      {
       "output_type": "stream",
       "stream": "stdout",
       "text": [
        " 83  ntrees =  84 \n",
        "best loss =  0.336089425243 \n",
        "last loss =  0.336089425243\n",
        "learning_rate =  0.255\n",
        "sample_size 200\n",
        "\n",
        "iteration #"
       ]
      },
      {
       "output_type": "stream",
       "stream": "stdout",
       "text": [
        " 84  ntrees =  85 \n",
        "best loss =  0.335822219094 \n",
        "last loss =  0.335822219094\n",
        "learning_rate =  0.255\n",
        "sample_size 200\n",
        "\n",
        "iteration #"
       ]
      },
      {
       "output_type": "stream",
       "stream": "stdout",
       "text": [
        " 85  ntrees =  86 \n",
        "best loss =  0.335562943439 \n",
        "last loss =  0.335562943439\n",
        "learning_rate =  0.255\n",
        "sample_size 200\n",
        "\n",
        "iteration #"
       ]
      },
      {
       "output_type": "stream",
       "stream": "stdout",
       "text": [
        " 86  ntrees =  87 \n",
        "best loss =  0.335270087472 \n",
        "last loss =  0.335270087472\n",
        "learning_rate =  0.255\n",
        "sample_size 200\n",
        "\n",
        "iteration #"
       ]
      },
      {
       "output_type": "stream",
       "stream": "stdout",
       "text": [
        " 87  ntrees =  88 \n",
        "best loss =  0.335010737948 \n",
        "last loss =  0.335010737948\n",
        "learning_rate =  0.255\n",
        "sample_size 200\n",
        "\n",
        "iteration #"
       ]
      },
      {
       "output_type": "stream",
       "stream": "stdout",
       "text": [
        " 88  ntrees =  89 \n",
        "best loss =  0.334763639777 \n",
        "last loss =  0.334763639777\n",
        "learning_rate =  0.255\n",
        "sample_size 200\n",
        "\n",
        "iteration #"
       ]
      },
      {
       "output_type": "stream",
       "stream": "stdout",
       "text": [
        " 89  ntrees =  90 \n",
        "best loss =  0.334503246819 \n",
        "last loss =  0.334503246819\n",
        "learning_rate =  0.255\n",
        "sample_size 200\n",
        "\n",
        "iteration #"
       ]
      },
      {
       "output_type": "stream",
       "stream": "stdout",
       "text": [
        " 90  ntrees =  91 \n",
        "best loss =  0.334249967896 \n",
        "last loss =  0.334249967896\n",
        "learning_rate =  0.255\n",
        "sample_size 200\n",
        "\n",
        "iteration #"
       ]
      },
      {
       "output_type": "stream",
       "stream": "stdout",
       "text": [
        " 91  ntrees =  92 \n",
        "best loss =  0.333964115719 \n",
        "last loss =  0.333964115719\n",
        "learning_rate =  0.255\n",
        "sample_size 200\n",
        "\n",
        "iteration #"
       ]
      },
      {
       "output_type": "stream",
       "stream": "stdout",
       "text": [
        " 92  ntrees =  93 \n",
        "best loss =  0.333708238974 \n",
        "last loss =  0.333708238974\n",
        "learning_rate =  0.255\n",
        "sample_size 200\n",
        "\n",
        "iteration #"
       ]
      },
      {
       "output_type": "stream",
       "stream": "stdout",
       "text": [
        " 93  ntrees =  94 \n",
        "best loss =  0.333476612825 \n",
        "last loss =  0.333476612825\n",
        "learning_rate =  0.255\n",
        "sample_size 200\n",
        "\n",
        "iteration #"
       ]
      },
      {
       "output_type": "stream",
       "stream": "stdout",
       "text": [
        " 94  ntrees =  95 \n",
        "best loss =  0.333211315701 \n",
        "last loss =  0.333211315701\n",
        "learning_rate =  0.255\n",
        "sample_size 200\n",
        "\n",
        "iteration #"
       ]
      },
      {
       "output_type": "stream",
       "stream": "stdout",
       "text": [
        " 95  ntrees =  96 \n",
        "best loss =  0.332941026884 \n",
        "last loss =  0.332941026884\n",
        "learning_rate =  0.255\n",
        "sample_size 200\n",
        "\n",
        "iteration #"
       ]
      },
      {
       "output_type": "stream",
       "stream": "stdout",
       "text": [
        " 96  ntrees =  97 \n",
        "best loss =  0.33269251533 \n",
        "last loss =  0.33269251533\n",
        "learning_rate =  0.255\n",
        "sample_size 200\n",
        "\n",
        "iteration #"
       ]
      },
      {
       "output_type": "stream",
       "stream": "stdout",
       "text": [
        " 97  ntrees =  98 \n",
        "best loss =  0.332454680753 \n",
        "last loss =  0.332454680753\n",
        "learning_rate =  0.255\n",
        "sample_size 200\n",
        "\n",
        "iteration #"
       ]
      },
      {
       "output_type": "stream",
       "stream": "stdout",
       "text": [
        " 98  ntrees =  99 \n",
        "best loss =  0.332215514881 \n",
        "last loss =  0.332215514881\n",
        "learning_rate =  0.255\n",
        "sample_size 200\n",
        "\n",
        "iteration #"
       ]
      },
      {
       "output_type": "stream",
       "stream": "stdout",
       "text": [
        " 99  ntrees =  100 \n",
        "best loss =  0.331940866734 \n",
        "last loss =  0.331940866734\n",
        "learning_rate =  0.255\n",
        "sample_size 200\n",
        "\n",
        "iteration #"
       ]
      },
      {
       "output_type": "stream",
       "stream": "stdout",
       "text": [
        " 0  ntrees =  1 \n",
        "best loss =  0.813144553455\n",
        "learning_rate =  0.255\n",
        "sample_size 200\n",
        "\n",
        "iteration #"
       ]
      },
      {
       "output_type": "stream",
       "stream": "stdout",
       "text": [
        " 1  ntrees =  2 \n",
        "best loss =  0.65981574189 \n",
        "last loss =  0.65981574189\n",
        "learning_rate =  0.255\n",
        "sample_size 200\n",
        "\n",
        "iteration #"
       ]
      },
      {
       "output_type": "stream",
       "stream": "stdout",
       "text": [
        " 2  ntrees =  3 \n",
        "best loss =  0.590536206057 \n",
        "last loss =  0.590536206057\n",
        "learning_rate =  0.255\n",
        "sample_size 200\n",
        "\n",
        "iteration #"
       ]
      },
      {
       "output_type": "stream",
       "stream": "stdout",
       "text": [
        " 3  ntrees =  4 \n",
        "best loss =  0.54278260034 \n",
        "last loss =  0.54278260034\n",
        "learning_rate =  0.255\n",
        "sample_size 200\n",
        "\n",
        "iteration #"
       ]
      },
      {
       "output_type": "stream",
       "stream": "stdout",
       "text": [
        " 4  ntrees =  5 \n",
        "best loss =  0.513081833778 \n",
        "last loss =  0.513081833778\n",
        "learning_rate =  0.255\n",
        "sample_size 200\n",
        "\n",
        "iteration #"
       ]
      },
      {
       "output_type": "stream",
       "stream": "stdout",
       "text": [
        " 5  ntrees =  6 \n",
        "best loss =  0.4900021108 \n",
        "last loss =  0.4900021108\n",
        "learning_rate =  0.255\n",
        "sample_size 200\n",
        "\n",
        "iteration #"
       ]
      },
      {
       "output_type": "stream",
       "stream": "stdout",
       "text": [
        " 6  ntrees =  7 \n",
        "best loss =  0.471636507344 \n",
        "last loss =  0.471636507344\n",
        "learning_rate =  0.255\n",
        "sample_size 200\n",
        "\n",
        "iteration #"
       ]
      },
      {
       "output_type": "stream",
       "stream": "stdout",
       "text": [
        " 7  ntrees =  8 \n",
        "best loss =  0.457897213385 \n",
        "last loss =  0.457897213385\n",
        "learning_rate =  0.255\n",
        "sample_size 200\n",
        "\n",
        "iteration #"
       ]
      },
      {
       "output_type": "stream",
       "stream": "stdout",
       "text": [
        " 8  ntrees =  9 \n",
        "best loss =  0.44794519992 \n",
        "last loss =  0.44794519992\n",
        "learning_rate =  0.255\n",
        "sample_size 200\n",
        "\n",
        "iteration #"
       ]
      },
      {
       "output_type": "stream",
       "stream": "stdout",
       "text": [
        " 9  ntrees =  10 \n",
        "best loss =  0.440050761332 \n",
        "last loss =  0.440050761332\n",
        "learning_rate =  0.255\n",
        "sample_size 200\n",
        "\n",
        "iteration #"
       ]
      },
      {
       "output_type": "stream",
       "stream": "stdout",
       "text": [
        " 10  ntrees =  11 \n",
        "best loss =  0.433034294663 \n",
        "last loss =  0.433034294663\n",
        "learning_rate =  0.255\n",
        "sample_size 200\n",
        "\n",
        "iteration #"
       ]
      },
      {
       "output_type": "stream",
       "stream": "stdout",
       "text": [
        " 11  ntrees =  12 \n",
        "best loss =  0.426229325819 \n",
        "last loss =  0.426229325819\n",
        "learning_rate =  0.255\n",
        "sample_size 200\n",
        "\n",
        "iteration #"
       ]
      },
      {
       "output_type": "stream",
       "stream": "stdout",
       "text": [
        " 12  ntrees =  13 \n",
        "best loss =  0.421464672333 \n",
        "last loss =  0.421464672333\n",
        "learning_rate =  0.255\n",
        "sample_size 200\n",
        "\n",
        "iteration #"
       ]
      },
      {
       "output_type": "stream",
       "stream": "stdout",
       "text": [
        " 13  ntrees =  14 \n",
        "best loss =  0.4178353255 \n",
        "last loss =  0.4178353255\n",
        "learning_rate =  0.255\n",
        "sample_size 200\n",
        "\n",
        "iteration #"
       ]
      },
      {
       "output_type": "stream",
       "stream": "stdout",
       "text": [
        " 14  ntrees =  15 \n",
        "best loss =  0.414491511245 \n",
        "last loss =  0.414491511245\n",
        "learning_rate =  0.255\n",
        "sample_size 200\n",
        "\n",
        "iteration #"
       ]
      },
      {
       "output_type": "stream",
       "stream": "stdout",
       "text": [
        " 15  ntrees =  16 \n",
        "best loss =  0.411053368677 \n",
        "last loss =  0.411053368677\n",
        "learning_rate =  0.255\n",
        "sample_size 200\n",
        "\n",
        "iteration #"
       ]
      },
      {
       "output_type": "stream",
       "stream": "stdout",
       "text": [
        " 16  ntrees =  17 \n",
        "best loss =  0.40818251142 \n",
        "last loss =  0.40818251142\n",
        "learning_rate =  0.255\n",
        "sample_size 200\n",
        "\n",
        "iteration #"
       ]
      },
      {
       "output_type": "stream",
       "stream": "stdout",
       "text": [
        " 17  ntrees =  18 \n",
        "best loss =  0.405326008402 \n",
        "last loss =  0.405326008402\n",
        "learning_rate =  0.255\n",
        "sample_size 200\n",
        "\n",
        "iteration #"
       ]
      },
      {
       "output_type": "stream",
       "stream": "stdout",
       "text": [
        " 18  ntrees =  19 \n",
        "best loss =  0.402804772874 \n",
        "last loss =  0.402804772874\n",
        "learning_rate =  0.255\n",
        "sample_size 200\n",
        "\n",
        "iteration #"
       ]
      },
      {
       "output_type": "stream",
       "stream": "stdout",
       "text": [
        " 19  ntrees =  20 \n",
        "best loss =  0.4005688188 \n",
        "last loss =  0.4005688188\n",
        "learning_rate =  0.255\n",
        "sample_size 200\n",
        "\n",
        "iteration #"
       ]
      },
      {
       "output_type": "stream",
       "stream": "stdout",
       "text": [
        " 20  ntrees =  21 \n",
        "best loss =  0.39856012398 \n",
        "last loss =  0.39856012398\n",
        "learning_rate =  0.255\n",
        "sample_size 200\n",
        "\n",
        "iteration #"
       ]
      },
      {
       "output_type": "stream",
       "stream": "stdout",
       "text": [
        " 21  ntrees =  22 \n",
        "best loss =  0.396810173834 \n",
        "last loss =  0.396810173834\n",
        "learning_rate =  0.255\n",
        "sample_size 200\n",
        "\n",
        "iteration #"
       ]
      },
      {
       "output_type": "stream",
       "stream": "stdout",
       "text": [
        " 22  ntrees =  23 \n",
        "best loss =  0.395083702217 \n",
        "last loss =  0.395083702217\n",
        "learning_rate =  0.255\n",
        "sample_size 200\n",
        "\n",
        "iteration #"
       ]
      },
      {
       "output_type": "stream",
       "stream": "stdout",
       "text": [
        " 23  ntrees =  24 \n",
        "best loss =  0.393485648557 \n",
        "last loss =  0.393485648557\n",
        "learning_rate =  0.255\n",
        "sample_size 200\n",
        "\n",
        "iteration #"
       ]
      },
      {
       "output_type": "stream",
       "stream": "stdout",
       "text": [
        " 24  ntrees =  25 \n",
        "best loss =  0.392087163604 \n",
        "last loss =  0.392087163604\n",
        "learning_rate =  0.255\n",
        "sample_size 200\n",
        "\n",
        "iteration #"
       ]
      },
      {
       "output_type": "stream",
       "stream": "stdout",
       "text": [
        " 25  ntrees =  26 \n",
        "best loss =  0.39059292356 \n",
        "last loss =  0.39059292356\n",
        "learning_rate =  0.255\n",
        "sample_size 200\n",
        "\n",
        "iteration #"
       ]
      },
      {
       "output_type": "stream",
       "stream": "stdout",
       "text": [
        " 26  ntrees =  27 \n",
        "best loss =  0.389102167273 \n",
        "last loss =  0.389102167273\n",
        "learning_rate =  0.255\n",
        "sample_size 200\n",
        "\n",
        "iteration #"
       ]
      },
      {
       "output_type": "stream",
       "stream": "stdout",
       "text": [
        " 27  ntrees =  28 \n",
        "best loss =  0.387974206504 \n",
        "last loss =  0.387974206504\n",
        "learning_rate =  0.255\n",
        "sample_size 200\n",
        "\n",
        "iteration #"
       ]
      },
      {
       "output_type": "stream",
       "stream": "stdout",
       "text": [
        " 28  ntrees =  29 \n",
        "best loss =  0.386907680348 \n",
        "last loss =  0.386907680348\n",
        "learning_rate =  0.255\n",
        "sample_size 200\n",
        "\n",
        "iteration #"
       ]
      },
      {
       "output_type": "stream",
       "stream": "stdout",
       "text": [
        " 29  ntrees =  30 \n",
        "best loss =  0.385732562162 \n",
        "last loss =  0.385732562162\n",
        "learning_rate =  0.255\n",
        "sample_size 200\n",
        "\n",
        "iteration #"
       ]
      },
      {
       "output_type": "stream",
       "stream": "stdout",
       "text": [
        " 30  ntrees =  31 \n",
        "best loss =  0.384687719073 \n",
        "last loss =  0.384687719073\n",
        "learning_rate =  0.255\n",
        "sample_size 200\n",
        "\n",
        "iteration #"
       ]
      },
      {
       "output_type": "stream",
       "stream": "stdout",
       "text": [
        " 31  ntrees =  32 \n",
        "best loss =  0.383601065564 \n",
        "last loss =  0.383601065564\n",
        "learning_rate =  0.255\n",
        "sample_size 200\n",
        "\n",
        "iteration #"
       ]
      },
      {
       "output_type": "stream",
       "stream": "stdout",
       "text": [
        " 32  ntrees =  33 \n",
        "best loss =  0.382739404259 \n",
        "last loss =  0.382739404259\n",
        "learning_rate =  0.255\n",
        "sample_size 200\n",
        "\n",
        "iteration #"
       ]
      },
      {
       "output_type": "stream",
       "stream": "stdout",
       "text": [
        " 33  ntrees =  34 \n",
        "best loss =  0.381938298309 \n",
        "last loss =  0.381938298309\n",
        "learning_rate =  0.255\n",
        "sample_size 200\n",
        "\n",
        "iteration #"
       ]
      },
      {
       "output_type": "stream",
       "stream": "stdout",
       "text": [
        " 34  ntrees =  35 \n",
        "best loss =  0.381094132172 \n",
        "last loss =  0.381094132172\n",
        "learning_rate =  0.255\n",
        "sample_size 200\n",
        "\n",
        "iteration #"
       ]
      },
      {
       "output_type": "stream",
       "stream": "stdout",
       "text": [
        " 35  ntrees =  36 \n",
        "best loss =  0.380373870018 \n",
        "last loss =  0.380373870018\n",
        "learning_rate =  0.255\n",
        "sample_size 200\n",
        "\n",
        "iteration #"
       ]
      },
      {
       "output_type": "stream",
       "stream": "stdout",
       "text": [
        " 36  ntrees =  37 \n",
        "best loss =  0.379676743687 \n",
        "last loss =  0.379676743687\n",
        "learning_rate =  0.255\n",
        "sample_size 200\n",
        "\n",
        "iteration #"
       ]
      },
      {
       "output_type": "stream",
       "stream": "stdout",
       "text": [
        " 37  ntrees =  38 \n",
        "best loss =  0.378921505896 \n",
        "last loss =  0.378921505896\n",
        "learning_rate =  0.255\n",
        "sample_size 200\n",
        "\n",
        "iteration #"
       ]
      },
      {
       "output_type": "stream",
       "stream": "stdout",
       "text": [
        " 38  ntrees =  39 \n",
        "best loss =  0.378163685365 \n",
        "last loss =  0.378163685365\n",
        "learning_rate =  0.255\n",
        "sample_size 200\n",
        "\n",
        "iteration #"
       ]
      },
      {
       "output_type": "stream",
       "stream": "stdout",
       "text": [
        " 39  ntrees =  40 \n",
        "best loss =  0.377543001807 \n",
        "last loss =  0.377543001807\n",
        "learning_rate =  0.255\n",
        "sample_size 200\n",
        "\n",
        "iteration #"
       ]
      },
      {
       "output_type": "stream",
       "stream": "stdout",
       "text": [
        " 40  ntrees =  41 \n",
        "best loss =  0.376831778381 \n",
        "last loss =  0.376831778381\n",
        "learning_rate =  0.255\n",
        "sample_size 200\n",
        "\n",
        "iteration #"
       ]
      },
      {
       "output_type": "stream",
       "stream": "stdout",
       "text": [
        " 41  ntrees =  42 \n",
        "best loss =  0.376198113926 \n",
        "last loss =  0.376198113926\n",
        "learning_rate =  0.255\n",
        "sample_size 200\n",
        "\n",
        "iteration #"
       ]
      },
      {
       "output_type": "stream",
       "stream": "stdout",
       "text": [
        " 42  ntrees =  43 \n",
        "best loss =  0.375516361709 \n",
        "last loss =  0.375516361709\n",
        "learning_rate =  0.255\n",
        "sample_size 200\n",
        "\n",
        "iteration #"
       ]
      },
      {
       "output_type": "stream",
       "stream": "stdout",
       "text": [
        " 43  ntrees =  44 \n",
        "best loss =  0.374675371224 \n",
        "last loss =  0.374675371224\n",
        "learning_rate =  0.255\n",
        "sample_size 200\n",
        "\n",
        "iteration #"
       ]
      },
      {
       "output_type": "stream",
       "stream": "stdout",
       "text": [
        " 44  ntrees =  45 \n",
        "best loss =  0.374098099601 \n",
        "last loss =  0.374098099601\n",
        "learning_rate =  0.255\n",
        "sample_size 200\n",
        "\n",
        "iteration #"
       ]
      },
      {
       "output_type": "stream",
       "stream": "stdout",
       "text": [
        " 45  ntrees =  46 \n",
        "best loss =  0.373477116888 \n",
        "last loss =  0.373477116888\n",
        "learning_rate =  0.255\n",
        "sample_size 200\n",
        "\n",
        "iteration #"
       ]
      },
      {
       "output_type": "stream",
       "stream": "stdout",
       "text": [
        " 46  ntrees =  47 \n",
        "best loss =  0.372918279174 \n",
        "last loss =  0.372918279174\n",
        "learning_rate =  0.255\n",
        "sample_size 200\n",
        "\n",
        "iteration #"
       ]
      },
      {
       "output_type": "stream",
       "stream": "stdout",
       "text": [
        " 47  ntrees =  48 \n",
        "best loss =  0.372299645095 \n",
        "last loss =  0.372299645095\n",
        "learning_rate =  0.255\n",
        "sample_size 200\n",
        "\n",
        "iteration #"
       ]
      },
      {
       "output_type": "stream",
       "stream": "stdout",
       "text": [
        " 48  ntrees =  49 \n",
        "best loss =  0.371781564866 \n",
        "last loss =  0.371781564866\n",
        "learning_rate =  0.255\n",
        "sample_size 200\n",
        "\n",
        "iteration #"
       ]
      },
      {
       "output_type": "stream",
       "stream": "stdout",
       "text": [
        " 49  ntrees =  50 \n",
        "best loss =  0.371232251725 \n",
        "last loss =  0.371232251725\n",
        "learning_rate =  0.255\n",
        "sample_size 200\n",
        "\n",
        "iteration #"
       ]
      },
      {
       "output_type": "stream",
       "stream": "stdout",
       "text": [
        " 50  ntrees =  51 \n",
        "best loss =  0.370699003731 \n",
        "last loss =  0.370699003731\n",
        "learning_rate =  0.255\n",
        "sample_size 200\n",
        "\n",
        "iteration #"
       ]
      },
      {
       "output_type": "stream",
       "stream": "stdout",
       "text": [
        " 51  ntrees =  52 \n",
        "best loss =  0.370133857528 \n",
        "last loss =  0.370133857528\n",
        "learning_rate =  0.255\n",
        "sample_size 200\n",
        "\n",
        "iteration #"
       ]
      },
      {
       "output_type": "stream",
       "stream": "stdout",
       "text": [
        " 52  ntrees =  53 \n",
        "best loss =  0.369541214805 \n",
        "last loss =  0.369541214805\n",
        "learning_rate =  0.255\n",
        "sample_size 200\n",
        "\n",
        "iteration #"
       ]
      },
      {
       "output_type": "stream",
       "stream": "stdout",
       "text": [
        " 53  ntrees =  54 \n",
        "best loss =  0.368991802599 \n",
        "last loss =  0.368991802599\n",
        "learning_rate =  0.255\n",
        "sample_size 200\n",
        "\n",
        "iteration #"
       ]
      },
      {
       "output_type": "stream",
       "stream": "stdout",
       "text": [
        " 54  ntrees =  55 \n",
        "best loss =  0.368540049794 \n",
        "last loss =  0.368540049794\n",
        "learning_rate =  0.255\n",
        "sample_size 200\n",
        "\n",
        "iteration #"
       ]
      },
      {
       "output_type": "stream",
       "stream": "stdout",
       "text": [
        " 55  ntrees =  56 \n",
        "best loss =  0.368066767154 \n",
        "last loss =  0.368066767154\n",
        "learning_rate =  0.255\n",
        "sample_size 200\n",
        "\n",
        "iteration #"
       ]
      },
      {
       "output_type": "stream",
       "stream": "stdout",
       "text": [
        " 56  ntrees =  57 \n",
        "best loss =  0.367568500446 \n",
        "last loss =  0.367568500446\n",
        "learning_rate =  0.255\n",
        "sample_size 200\n",
        "\n",
        "iteration #"
       ]
      },
      {
       "output_type": "stream",
       "stream": "stdout",
       "text": [
        " 57  ntrees =  58 \n",
        "best loss =  0.367140316497 \n",
        "last loss =  0.367140316497\n",
        "learning_rate =  0.255\n",
        "sample_size 200\n",
        "\n",
        "iteration #"
       ]
      },
      {
       "output_type": "stream",
       "stream": "stdout",
       "text": [
        " 58  ntrees =  59 \n",
        "best loss =  0.366725168389 \n",
        "last loss =  0.366725168389\n",
        "learning_rate =  0.255\n",
        "sample_size 200\n",
        "\n",
        "iteration #"
       ]
      },
      {
       "output_type": "stream",
       "stream": "stdout",
       "text": [
        " 59  ntrees =  60 \n",
        "best loss =  0.366232217986 \n",
        "last loss =  0.366232217986\n",
        "learning_rate =  0.255\n",
        "sample_size 200\n",
        "\n",
        "iteration #"
       ]
      },
      {
       "output_type": "stream",
       "stream": "stdout",
       "text": [
        " 60  ntrees =  61 \n",
        "best loss =  0.365782687713 \n",
        "last loss =  0.365782687713\n",
        "learning_rate =  0.255\n",
        "sample_size 200\n",
        "\n",
        "iteration #"
       ]
      },
      {
       "output_type": "stream",
       "stream": "stdout",
       "text": [
        " 61  ntrees =  62 \n",
        "best loss =  0.365360762159 \n",
        "last loss =  0.365360762159\n",
        "learning_rate =  0.255\n",
        "sample_size 200\n",
        "\n",
        "iteration #"
       ]
      },
      {
       "output_type": "stream",
       "stream": "stdout",
       "text": [
        " 62  ntrees =  63 \n",
        "best loss =  0.364940420749 \n",
        "last loss =  0.364940420749\n",
        "learning_rate =  0.255\n",
        "sample_size 200\n",
        "\n",
        "iteration #"
       ]
      },
      {
       "output_type": "stream",
       "stream": "stdout",
       "text": [
        " 63  ntrees =  64 \n",
        "best loss =  0.364539741014 \n",
        "last loss =  0.364539741014\n",
        "learning_rate =  0.255\n",
        "sample_size 200\n",
        "\n",
        "iteration #"
       ]
      },
      {
       "output_type": "stream",
       "stream": "stdout",
       "text": [
        " 64  ntrees =  65 \n",
        "best loss =  0.364098145403 \n",
        "last loss =  0.364098145403\n",
        "learning_rate =  0.255\n",
        "sample_size 200\n",
        "\n",
        "iteration #"
       ]
      },
      {
       "output_type": "stream",
       "stream": "stdout",
       "text": [
        " 65  ntrees =  66 \n",
        "best loss =  0.363688908618 \n",
        "last loss =  0.363688908618\n",
        "learning_rate =  0.255\n",
        "sample_size 200\n",
        "\n",
        "iteration #"
       ]
      },
      {
       "output_type": "stream",
       "stream": "stdout",
       "text": [
        " 66  ntrees =  67 \n",
        "best loss =  0.36321530987 \n",
        "last loss =  0.36321530987\n",
        "learning_rate =  0.255\n",
        "sample_size 200\n",
        "\n",
        "iteration #"
       ]
      },
      {
       "output_type": "stream",
       "stream": "stdout",
       "text": [
        " 67  ntrees =  68 \n",
        "best loss =  0.362777046804 \n",
        "last loss =  0.362777046804\n",
        "learning_rate =  0.255\n",
        "sample_size 200\n",
        "\n",
        "iteration #"
       ]
      },
      {
       "output_type": "stream",
       "stream": "stdout",
       "text": [
        " 68  ntrees =  69 \n",
        "best loss =  0.362419262348 \n",
        "last loss =  0.362419262348\n",
        "learning_rate =  0.255\n",
        "sample_size 200\n",
        "\n",
        "iteration #"
       ]
      },
      {
       "output_type": "stream",
       "stream": "stdout",
       "text": [
        " 69  ntrees =  70 \n",
        "best loss =  0.362021083177 \n",
        "last loss =  0.362021083177\n",
        "learning_rate =  0.255\n",
        "sample_size 200\n",
        "\n",
        "iteration #"
       ]
      },
      {
       "output_type": "stream",
       "stream": "stdout",
       "text": [
        " 70  ntrees =  71 \n",
        "best loss =  0.361626639117 \n",
        "last loss =  0.361626639117\n",
        "learning_rate =  0.255\n",
        "sample_size 200\n",
        "\n",
        "iteration #"
       ]
      },
      {
       "output_type": "stream",
       "stream": "stdout",
       "text": [
        " 71  ntrees =  72 \n",
        "best loss =  0.361256940989 \n",
        "last loss =  0.361256940989\n",
        "learning_rate =  0.255\n",
        "sample_size 200\n",
        "\n",
        "iteration #"
       ]
      },
      {
       "output_type": "stream",
       "stream": "stdout",
       "text": [
        " 72  ntrees =  73 \n",
        "best loss =  0.360911885183 \n",
        "last loss =  0.360911885183\n",
        "learning_rate =  0.255\n",
        "sample_size 200\n",
        "\n",
        "iteration #"
       ]
      },
      {
       "output_type": "stream",
       "stream": "stdout",
       "text": [
        " 73  ntrees =  74 \n",
        "best loss =  0.36054616332 \n",
        "last loss =  0.36054616332\n",
        "learning_rate =  0.255\n",
        "sample_size 200\n",
        "\n",
        "iteration #"
       ]
      },
      {
       "output_type": "stream",
       "stream": "stdout",
       "text": [
        " 74  ntrees =  75 \n",
        "best loss =  0.360212683187 \n",
        "last loss =  0.360212683187\n",
        "learning_rate =  0.255\n",
        "sample_size 200\n",
        "\n",
        "iteration #"
       ]
      },
      {
       "output_type": "stream",
       "stream": "stdout",
       "text": [
        " 75  ntrees =  76 \n",
        "best loss =  0.359861457192 \n",
        "last loss =  0.359861457192\n",
        "learning_rate =  0.255\n",
        "sample_size 200\n",
        "\n",
        "iteration #"
       ]
      },
      {
       "output_type": "stream",
       "stream": "stdout",
       "text": [
        " 76  ntrees =  77 \n",
        "best loss =  0.359524643012 \n",
        "last loss =  0.359524643012\n",
        "learning_rate =  0.255\n",
        "sample_size 200\n",
        "\n",
        "iteration #"
       ]
      },
      {
       "output_type": "stream",
       "stream": "stdout",
       "text": [
        " 77  ntrees =  78 \n",
        "best loss =  0.359170616616 \n",
        "last loss =  0.359170616616\n",
        "learning_rate =  0.255\n",
        "sample_size 200\n",
        "\n",
        "iteration #"
       ]
      },
      {
       "output_type": "stream",
       "stream": "stdout",
       "text": [
        " 78  ntrees =  79 \n",
        "best loss =  0.358839801281 \n",
        "last loss =  0.358839801281\n",
        "learning_rate =  0.255\n",
        "sample_size 200\n",
        "\n",
        "iteration #"
       ]
      },
      {
       "output_type": "stream",
       "stream": "stdout",
       "text": [
        " 79  ntrees =  80 \n",
        "best loss =  0.358498769455 \n",
        "last loss =  0.358498769455\n",
        "learning_rate =  0.255\n",
        "sample_size 200\n",
        "\n",
        "iteration #"
       ]
      },
      {
       "output_type": "stream",
       "stream": "stdout",
       "text": [
        " 80  ntrees =  81 \n",
        "best loss =  0.358153453281 \n",
        "last loss =  0.358153453281\n",
        "learning_rate =  0.255\n",
        "sample_size 200\n",
        "\n",
        "iteration #"
       ]
      },
      {
       "output_type": "stream",
       "stream": "stdout",
       "text": [
        " 81  ntrees =  82 \n",
        "best loss =  0.357815340801 \n",
        "last loss =  0.357815340801\n",
        "learning_rate =  0.255\n",
        "sample_size 200\n",
        "\n",
        "iteration #"
       ]
      },
      {
       "output_type": "stream",
       "stream": "stdout",
       "text": [
        " 82  ntrees =  83 \n",
        "best loss =  0.357489305967 \n",
        "last loss =  0.357489305967\n",
        "learning_rate =  0.255\n",
        "sample_size 200\n",
        "\n",
        "iteration #"
       ]
      },
      {
       "output_type": "stream",
       "stream": "stdout",
       "text": [
        " 83  ntrees =  84 \n",
        "best loss =  0.357179292707 \n",
        "last loss =  0.357179292707\n",
        "learning_rate =  0.255\n",
        "sample_size 200\n",
        "\n",
        "iteration #"
       ]
      },
      {
       "output_type": "stream",
       "stream": "stdout",
       "text": [
        " 84  ntrees =  85 \n",
        "best loss =  0.356852363767 \n",
        "last loss =  0.356852363767\n",
        "learning_rate =  0.255\n",
        "sample_size 200\n",
        "\n",
        "iteration #"
       ]
      },
      {
       "output_type": "stream",
       "stream": "stdout",
       "text": [
        " 85  ntrees =  86 \n",
        "best loss =  0.356539648332 \n",
        "last loss =  0.356539648332\n",
        "learning_rate =  0.255\n",
        "sample_size 200\n",
        "\n",
        "iteration #"
       ]
      },
      {
       "output_type": "stream",
       "stream": "stdout",
       "text": [
        " 86  ntrees =  87 \n",
        "best loss =  0.356228213541 \n",
        "last loss =  0.356228213541\n",
        "learning_rate =  0.255\n",
        "sample_size 200\n",
        "\n",
        "iteration #"
       ]
      },
      {
       "output_type": "stream",
       "stream": "stdout",
       "text": [
        " 87  ntrees =  88 \n",
        "best loss =  0.355872475374 \n",
        "last loss =  0.355872475374\n",
        "learning_rate =  0.255\n",
        "sample_size 200\n",
        "\n",
        "iteration #"
       ]
      },
      {
       "output_type": "stream",
       "stream": "stdout",
       "text": [
        " 88  ntrees =  89 \n",
        "best loss =  0.355529359284 \n",
        "last loss =  0.355529359284\n",
        "learning_rate =  0.255\n",
        "sample_size 200\n",
        "\n",
        "iteration #"
       ]
      },
      {
       "output_type": "stream",
       "stream": "stdout",
       "text": [
        " 89  ntrees =  90 \n",
        "best loss =  0.355197739728 \n",
        "last loss =  0.355197739728\n",
        "learning_rate =  0.255\n",
        "sample_size 200\n",
        "\n",
        "iteration #"
       ]
      },
      {
       "output_type": "stream",
       "stream": "stdout",
       "text": [
        " 90  ntrees =  91 \n",
        "best loss =  0.35489990572 \n",
        "last loss =  0.35489990572\n",
        "learning_rate =  0.255\n",
        "sample_size 200\n",
        "\n",
        "iteration #"
       ]
      },
      {
       "output_type": "stream",
       "stream": "stdout",
       "text": [
        " 91  ntrees =  92 \n",
        "best loss =  0.354611484478 \n",
        "last loss =  0.354611484478\n",
        "learning_rate =  0.255\n",
        "sample_size 200\n",
        "\n",
        "iteration #"
       ]
      },
      {
       "output_type": "stream",
       "stream": "stdout",
       "text": [
        " 92  ntrees =  93 \n",
        "best loss =  0.354305527889 \n",
        "last loss =  0.354305527889\n",
        "learning_rate =  0.255\n",
        "sample_size 200\n",
        "\n",
        "iteration #"
       ]
      },
      {
       "output_type": "stream",
       "stream": "stdout",
       "text": [
        " 93  ntrees =  94 \n",
        "best loss =  0.353995868575 \n",
        "last loss =  0.353995868575\n",
        "learning_rate =  0.255\n",
        "sample_size 200\n",
        "\n",
        "iteration #"
       ]
      },
      {
       "output_type": "stream",
       "stream": "stdout",
       "text": [
        " 94  ntrees =  95 \n",
        "best loss =  0.353686296694 \n",
        "last loss =  0.353686296694\n",
        "learning_rate =  0.255\n",
        "sample_size 200\n",
        "\n",
        "iteration #"
       ]
      },
      {
       "output_type": "stream",
       "stream": "stdout",
       "text": [
        " 95  ntrees =  96 \n",
        "best loss =  0.353401376166 \n",
        "last loss =  0.353401376166\n",
        "learning_rate =  0.255\n",
        "sample_size 200\n",
        "\n",
        "iteration #"
       ]
      },
      {
       "output_type": "stream",
       "stream": "stdout",
       "text": [
        " 96  ntrees =  97 \n",
        "best loss =  0.353123675874 \n",
        "last loss =  0.353123675874\n",
        "learning_rate =  0.255\n",
        "sample_size 200\n",
        "\n",
        "iteration #"
       ]
      },
      {
       "output_type": "stream",
       "stream": "stdout",
       "text": [
        " 97  ntrees =  98 \n",
        "best loss =  0.352801905641 \n",
        "last loss =  0.352801905641\n",
        "learning_rate =  0.255\n",
        "sample_size 200\n",
        "\n",
        "iteration #"
       ]
      },
      {
       "output_type": "stream",
       "stream": "stdout",
       "text": [
        " 98  ntrees =  99 \n",
        "best loss =  0.35253747724 \n",
        "last loss =  0.35253747724\n",
        "learning_rate =  0.255\n",
        "sample_size 200\n",
        "\n",
        "iteration #"
       ]
      },
      {
       "output_type": "stream",
       "stream": "stdout",
       "text": [
        " 99  ntrees =  100 \n",
        "best loss =  0.352271684761 \n",
        "last loss =  0.352271684761\n",
        "learning_rate =  0.255\n",
        "sample_size 200\n",
        "Wall time: 31min 50s\n"
       ]
      }
     ],
     "prompt_number": 61
    },
    {
     "cell_type": "code",
     "collapsed": false,
     "input": [
      "y_pred_stupid = greedy.predict(testFactory,trees[:100])\n",
      "y_pred_full = greedy.predict(testFactory,trees)"
     ],
     "language": "python",
     "metadata": {},
     "outputs": [],
     "prompt_number": 25
    },
    {
     "cell_type": "code",
     "collapsed": false,
     "input": [
      "y_pred_greedy = testFactory.predict(res_greedy)\n",
      "y_pred_greedy2 = testFactory.predict(res_greedy2)"
     ],
     "language": "python",
     "metadata": {},
     "outputs": [],
     "prompt_number": 62
    },
    {
     "cell_type": "code",
     "collapsed": false,
     "input": [
      "w_test = testFactory.weights\n",
      "\n",
      "print metrics.roc_auc_score(Yts,y_pred_greedy,sample_weight=w_test),\n",
      "print metrics.roc_auc_score(Yts,y_pred_greedy2,sample_weight=w_test),\n",
      "print metrics.roc_auc_score(Yts,y_pred_stupid,sample_weight=w_test),\n",
      "print metrics.roc_auc_score(Yts,y_pred_full,sample_weight=w_test)\n",
      "print \"well...\""
     ],
     "language": "python",
     "metadata": {},
     "outputs": [
      {
       "output_type": "stream",
       "stream": "stdout",
       "text": [
        "0.9339788192 "
       ]
      },
      {
       "output_type": "stream",
       "stream": "stdout",
       "text": [
        "0.934134038553 "
       ]
      },
      {
       "output_type": "stream",
       "stream": "stdout",
       "text": [
        "0.916904744001 "
       ]
      },
      {
       "output_type": "stream",
       "stream": "stdout",
       "text": [
        "0.935834322801\n",
        "well...\n"
       ]
      }
     ],
     "prompt_number": 63
    },
    {
     "cell_type": "code",
     "collapsed": false,
     "input": [
      "_ = joblib.dump(res_greedy,\"dumps/greedy 100 trees black\")\n",
      "#_ = joblib.dump(res_greedy_wheel,\"dumps/greedy 100 trees wheels\")"
     ],
     "language": "python",
     "metadata": {},
     "outputs": [
      {
       "ename": "NameError",
       "evalue": "name 'res_greedy_wheel' is not defined",
       "output_type": "pyerr",
       "traceback": [
        "\u001b[1;31m---------------------------------------------------------------------------\u001b[0m\n\u001b[1;31mNameError\u001b[0m                                 Traceback (most recent call last)",
        "\u001b[1;32m<ipython-input-22-d8c5fa773e7e>\u001b[0m in \u001b[0;36m<module>\u001b[1;34m()\u001b[0m\n\u001b[0;32m      1\u001b[0m \u001b[0m_\u001b[0m \u001b[1;33m=\u001b[0m \u001b[0mjoblib\u001b[0m\u001b[1;33m.\u001b[0m\u001b[0mdump\u001b[0m\u001b[1;33m(\u001b[0m\u001b[0mres_greedy\u001b[0m\u001b[1;33m,\u001b[0m\u001b[1;34m\"dumps/greedy 100 trees last\"\u001b[0m\u001b[1;33m)\u001b[0m\u001b[1;33m\u001b[0m\u001b[0m\n\u001b[1;32m----> 2\u001b[1;33m \u001b[0m_\u001b[0m \u001b[1;33m=\u001b[0m \u001b[0mjoblib\u001b[0m\u001b[1;33m.\u001b[0m\u001b[0mdump\u001b[0m\u001b[1;33m(\u001b[0m\u001b[0mres_greedy_wheel\u001b[0m\u001b[1;33m,\u001b[0m\u001b[1;34m\"dumps/greedy 100 trees wheels\"\u001b[0m\u001b[1;33m)\u001b[0m\u001b[1;33m\u001b[0m\u001b[0m\n\u001b[0m",
        "\u001b[1;31mNameError\u001b[0m: name 'res_greedy_wheel' is not defined"
       ]
      }
     ],
     "prompt_number": 22
    },
    {
     "cell_type": "markdown",
     "metadata": {},
     "source": [
      "# Upper level thresholds extraction"
     ]
    },
    {
     "cell_type": "code",
     "collapsed": false,
     "input": [
      "#usability distribution\n",
      "thresholds = mnet.get_thresholds(trees,30,0.001)"
     ],
     "language": "python",
     "metadata": {},
     "outputs": [],
     "prompt_number": 28
    },
    {
     "cell_type": "code",
     "collapsed": false,
     "input": [
      "plt.scatter(range(len(thresholds)),thresholds[:,2])\n",
      "print sum(thresholds[:,2] >150)"
     ],
     "language": "python",
     "metadata": {},
     "outputs": [
      {
       "output_type": "stream",
       "stream": "stdout",
       "text": [
        "96\n"
       ]
      },
      {
       "metadata": {},
       "output_type": "display_data",
       "png": "[encoded data removed]",
       "text": [
        "<matplotlib.figure.Figure at 0x17c18208>"
       ]
      }
     ],
     "prompt_number": 29
    },
    {
     "cell_type": "markdown",
     "metadata": {},
     "source": [
      "# Criteria selection"
     ]
    },
    {
     "cell_type": "code",
     "collapsed": false,
     "input": [
      "import hierarchy"
     ],
     "language": "python",
     "metadata": {},
     "outputs": [],
     "prompt_number": 30
    },
    {
     "cell_type": "code",
     "collapsed": false,
     "input": [
      "#get them...\n",
      "thresholds_active = thresholds[thresholds[:,2]>100]\n",
      "print len(thresholds_active)\n",
      "criteria = hierarchy.select_criteria(trainFactory,thresholds_active,6,True)"
     ],
     "language": "python",
     "metadata": {},
     "outputs": [
      {
       "output_type": "stream",
       "stream": "stdout",
       "text": [
        "190\n",
        "s:"
       ]
      },
      {
       "output_type": "stream",
       "stream": "stdout",
       "text": [
        " [81387L, 46113L]\n",
        "w: [0.4995172311764362, 0.50048276882352416]\n",
        "s:"
       ]
      },
      {
       "output_type": "stream",
       "stream": "stdout",
       "text": [
        " [35853L, 45534L, 28287L, 17826L]\n",
        "w: [0.26914160839995621, 0.23037562277645596, 0.27439612166068927, 0.22608664716287472]\n",
        "s:"
       ]
      },
      {
       "output_type": "stream",
       "stream": "stdout",
       "text": [
        " [6226L, 11600L, 18312L, 9975L, 18579L, 17274L, 28399L, 17135L]\n",
        "w: [0.10092029004556231, 0.12516635711728766, 0.16975948409694844, 0.10463663756370174, 0.12697836451232206, 0.14216324388758639, 0.13573214315325532, 0.094643479623169297]\n",
        "s:"
       ]
      },
      {
       "output_type": "stream",
       "stream": "stdout",
       "text": [
        " [6743L, 4857L, 5235L, 4740L, 7762L, 10550L, 2457L, 3769L, 14352L, 4227L, 4995L, 12279L, 3303L, 13832L, 21436L, 6963L]\n",
        "w: [0.076709325032408099, 0.048457032084882036, 0.060456537835231458, 0.044180099728481512, 0.066781816430453847, 0.1029776676664932, 0.036453532684558393, 0.064466757361011193, 0.096045454684958106, 0.030932909827366763, 0.037357215324124261, 0.10480602856346442, 0.018859704487969042, 0.075783775135201667, 0.10305246577535299, 0.032679677377911803]"
       ]
      },
      {
       "output_type": "stream",
       "stream": "stdout",
       "text": [
        "\n",
        "s:"
       ]
      },
      {
       "output_type": "stream",
       "stream": "stdout",
       "text": [
        " [356L, 6607L, 2667L, 636L, 2438L, 4305L, 9568L, 4784L, 1825L, 10454L, 2505L, 1264L, 4651L, 3111L, 1298L, 3442L, 20068L, 1368L, 2900L, 10932L, 2277L, 2580L, 4267L, 728L, 1570L, 2657L, 1519L, 938L, 2490L, 2745L, 6735L, 3815L]\n",
        "w: [0.003445815722213608, 0.029233861655698246, 0.014042940047628072, 0.0048167644403409142, 0.025872499624914537, 0.05083682540749429, 0.059629502102432216, 0.036415952582527784, 0.022969172630233816, 0.081836855933237751, 0.048382654353187747, 0.016084103007822474, 0.038900027434805126, 0.027881788995649231, 0.01462246927990328, 0.029557630448578304, 0.092626679092629435, 0.010425786682726566, 0.019677697721339246, 0.05610607741386358, 0.023780996342534919, 0.024676035742347037, 0.027451361155219109, 0.0099058541689047708, 0.013824016090932843, 0.017108893736433668, 0.020895795015262477, 0.015557737669295486, 0.019880890345858569, 0.040575647489372445, 0.069016946200931295, 0.033960721465563157]\n",
        "s:"
       ]
      },
      {
       "output_type": "stream",
       "stream": "stdout",
       "text": [
        " [47L, 681L, 1650L, 175L, 116L, 822L, 1743L, 1829L, 1282L, 1180L, 1400L, 2661L, 4074L, 1114L, 1324L, 1515L, 1927L, 1337L, 1153L, 563L, 805L, 913L, 3871L, 1807L, 4800L, 5052L, 5880L, 1375L, 195L, 1529L, 1138L, 3875L, 392L, 175L, 1089L, 1312L, 207L, 1274L, 9180L, 989L, 3316L, 1399L, 3252L, 1610L, 667L, 2939L, 876L, 1002L, 1404L, 1496L, 14215L, 5853L, 734L, 564L, 7103L, 2465L, 228L, 128L, 2333L, 172L, 601L, 2056L, 331L, 305L]\n",
        "w: [0.00045156077816828317, 0.0094542933907364856, 0.021569762357056696, 0.0013994102731771129, 0.0013785750149872529, 0.01417916265430824, 0.028249802172450759, 0.016951494021969077, 0.010930294973680008, 0.011822460822485947, 0.012853574919860987, 0.025375970843734517, 0.04364097535719684, 0.010551812175714737, 0.01532068744919967, 0.010854807043359725, 0.018702823405218009, 0.011409825046587141, 0.0084710652992714269, 0.0033205349038585908, 0.0071052517788680004, 0.0069660155526392511, 0.029449937029888556, 0.0078348544168240723, 0.021399007238873807, 0.028565018079013366, 0.027541059334851934, 0.012253354721743197, 0.0015706613691896284, 0.0072601451420767193, 0.0067827949055513839, 0.025111642468256812, 0.0023397186869622577, 0.0016009905738476433, 0.014483112433974829, 0.018745042363874018, 0.0021507526513884477, 0.0080574360609626094, 0.07377941987227829, 0.012781847179369043, 0.038054978228125091, 0.010989530663705204, 0.027910496771099844, 0.016532652090352842, 0.0072483442521820464, 0.028226002796421401, 0.0057347186691417548, 0.012325845316920962, 0.0090203486259774722, 0.010657349095361642, 0.065869557697833314, 0.026757121394806672, 0.0092712237286042068, 0.0053512455512991688, 0.042952951665106397, 0.01667655043732659, 0.0026396033436418189, 0.00080621237857178552, 0.045588362998966035, 0.0027942913542214421, 0.0046278098928848616, 0.01248108384354878, 0.0026513061515508296, 0.0021654582887900798]\n"
       ]
      }
     ],
     "prompt_number": 57
    },
    {
     "cell_type": "code",
     "collapsed": false,
     "input": [
      "criteria"
     ],
     "language": "python",
     "metadata": {},
     "outputs": [
      {
       "metadata": {},
       "output_type": "pyout",
       "prompt_number": 66,
       "text": [
        "[array([  21.        ,  147.61599731,  136.        ]),\n",
        " array([   2.        ,   78.67050171,  131.        ]),\n",
        " array([   1.        ,   44.68050003,  153.        ]),\n",
        " array([   8.        ,    4.71249962,  158.        ]),\n",
        " array([  11.        ,   -1.34249997,  105.        ]),\n",
        " array([  13.        ,   26.82349968,  124.        ])]"
       ]
      }
     ],
     "prompt_number": 66
    },
    {
     "cell_type": "code",
     "collapsed": false,
     "input": [
      "split = hierarchy.split_upper(trainFactory,criteria,equalizeWeights=False,split_weights=.75,split_inclusion=0.5)\n",
      "print [split[i].events.shape[0] for i in split]\n",
      "print [sum(split[i].weights) for i in split]"
     ],
     "language": "python",
     "metadata": {},
     "outputs": [
      {
       "output_type": "stream",
       "stream": "stdout",
       "text": [
        "[25077L, 36490L, 33708L, 25696L, 26598L, 24560L, 40484L, 30288L, 28616L, 41773L, 21476L, 25193L, 34722L, 28039L, 25517L, 34724L, 48335L, 31394L, 31696L, 44447L, 25750L, 30789L, 32093L, 23164L, 24512L, 30959L, 29698L, 22849L, 29062L, 23749L, 26863L, 29861L]\n",
        "[0.11134493600860873, 0.1518970315685638, 0.13917112142436874, 0.11790118108557597, 0.14893986048993221, 0.16988767725549389, 0.19895253792314357, 0.15336918388457166, 0.14663427798773548, 0.21481974731002096, 0.15295842015646438, 0.13935965511621137, 0.17258467077617681, 0.1529746007664689, 0.1332781357123824, 0.16642499381102638, 0.22071946652169447, 0.13525610458959619, 0.1410821740015866, 0.19852355098833815, 0.14914172967138814, 0.15916255805855958, 0.15028714990293129, 0.1190916240993444, 0.12428341943426571, 0.14063434096139379, 0.15509754697846581, 0.13447324892665533, 0.14518027921601434, 0.15189210664723479, 0.17701871619194406, 0.15939194988871111]"
       ]
      },
      {
       "output_type": "stream",
       "stream": "stdout",
       "text": [
        "\n"
       ]
      }
     ],
     "prompt_number": 33
    },
    {
     "cell_type": "markdown",
     "metadata": {},
     "source": [
      "#Hierarchical stuff"
     ]
    },
    {
     "cell_type": "code",
     "collapsed": false,
     "input": [
      "%time\n",
      "trees_splitted = hierarchy.train_splitted_boosts(trees, trainFactory,criteria,LogLossAuc2,0.255,1,\n",
      "                                                 100,100,regularizer =0.00039,\n",
      "                                                 verbose=True,use_joblib = True,n_jobs = 2,\n",
      "                                                 use_joblib_inner=True,n_jobs_inner=2,joblib_method_inner=\"threads\",\n",
      "                                                 weights_outside_leaf = 0.67*4, inclusion_outside_leaf = 0.25) \n",
      "\n"
     ],
     "language": "python",
     "metadata": {},
     "outputs": [
      {
       "output_type": "stream",
       "stream": "stdout",
       "text": [
        "Wall time: 0 ns\n"
       ]
      },
      {
       "output_type": "stream",
       "stream": "stderr",
       "text": [
        "[Parallel(n_jobs=-1)]: Done   1 out of  64 | elapsed:   52.3s remaining: 55.0min\n"
       ]
      },
      {
       "ename": "KeyboardInterrupt",
       "evalue": "",
       "output_type": "pyerr",
       "traceback": [
        "\u001b[1;31m---------------------------------------------------------------------------\u001b[0m\n\u001b[1;31mKeyboardInterrupt\u001b[0m                         Traceback (most recent call last)",
        "\u001b[1;32m<ipython-input-65-f62d56ba0079>\u001b[0m in \u001b[0;36m<module>\u001b[1;34m()\u001b[0m\n\u001b[0;32m      3\u001b[0m                                                  \u001b[1;36m100\u001b[0m\u001b[1;33m,\u001b[0m\u001b[1;36m100\u001b[0m\u001b[1;33m,\u001b[0m\u001b[0mregularizer\u001b[0m \u001b[1;33m=\u001b[0m\u001b[1;36m0.00039\u001b[0m\u001b[1;33m,\u001b[0m\u001b[1;33m\u001b[0m\u001b[0m\n\u001b[0;32m      4\u001b[0m                                                  \u001b[0mverbose\u001b[0m\u001b[1;33m=\u001b[0m\u001b[0mTrue\u001b[0m\u001b[1;33m,\u001b[0m\u001b[0muse_joblib\u001b[0m \u001b[1;33m=\u001b[0m \u001b[0mTrue\u001b[0m\u001b[1;33m,\u001b[0m\u001b[0mn_jobs\u001b[0m \u001b[1;33m=\u001b[0m \u001b[1;33m-\u001b[0m\u001b[1;36m1\u001b[0m\u001b[1;33m,\u001b[0m\u001b[1;33m\u001b[0m\u001b[0m\n\u001b[1;32m----> 5\u001b[1;33m                                                  weights_outside_leaf = 0.67*4, inclusion_outside_leaf = 0.25) \n\u001b[0m\u001b[0;32m      6\u001b[0m \u001b[1;33m\u001b[0m\u001b[0m\n",
        "\u001b[1;32mC:\\Users\\ayanami\\Documents\\IPython Notebooks\\pruner\\hierarchy.pyc\u001b[0m in \u001b[0;36mtrain_splitted_boosts\u001b[1;34m(trees, factory, criteria, loss, learning_rate, breadth, nTrees_leaf, trees_sample_size, verbose, learning_rate_decay, trees_sample_increase, regularizer, weights_outside_leaf, inclusion_outside_leaf, use_joblib, use_joblib_inner, joblib_method_inner, copy_pred_inner, n_jobs, n_jobs_inner, initialTrees)\u001b[0m\n\u001b[0;32m    164\u001b[0m         classis = joblib.Parallel(n_jobs = n_jobs,\n\u001b[0;32m    165\u001b[0m                                   \u001b[0mbackend\u001b[0m \u001b[1;33m=\u001b[0m \u001b[1;34m\"threading\"\u001b[0m\u001b[1;33m,\u001b[0m\u001b[1;33m\u001b[0m\u001b[0m\n\u001b[1;32m--> 166\u001b[1;33m                                   verbose=verbose)(tasks)\n\u001b[0m\u001b[0;32m    167\u001b[0m \u001b[1;33m\u001b[0m\u001b[0m\n\u001b[0;32m    168\u001b[0m \u001b[1;33m\u001b[0m\u001b[0m\n",
        "\u001b[1;32mC:\\Anaconda\\lib\\site-packages\\sklearn\\externals\\joblib\\parallel.pyc\u001b[0m in \u001b[0;36m__call__\u001b[1;34m(self, iterable)\u001b[0m\n\u001b[0;32m    658\u001b[0m                 \u001b[1;31m# consumption.\u001b[0m\u001b[1;33m\u001b[0m\u001b[1;33m\u001b[0m\u001b[0m\n\u001b[0;32m    659\u001b[0m                 \u001b[0mself\u001b[0m\u001b[1;33m.\u001b[0m\u001b[0m_iterating\u001b[0m \u001b[1;33m=\u001b[0m \u001b[0mFalse\u001b[0m\u001b[1;33m\u001b[0m\u001b[0m\n\u001b[1;32m--> 660\u001b[1;33m             \u001b[0mself\u001b[0m\u001b[1;33m.\u001b[0m\u001b[0mretrieve\u001b[0m\u001b[1;33m(\u001b[0m\u001b[1;33m)\u001b[0m\u001b[1;33m\u001b[0m\u001b[0m\n\u001b[0m\u001b[0;32m    661\u001b[0m             \u001b[1;31m# Make sure that we get a last message telling us we are done\u001b[0m\u001b[1;33m\u001b[0m\u001b[1;33m\u001b[0m\u001b[0m\n\u001b[0;32m    662\u001b[0m             \u001b[0melapsed_time\u001b[0m \u001b[1;33m=\u001b[0m \u001b[0mtime\u001b[0m\u001b[1;33m.\u001b[0m\u001b[0mtime\u001b[0m\u001b[1;33m(\u001b[0m\u001b[1;33m)\u001b[0m \u001b[1;33m-\u001b[0m \u001b[0mself\u001b[0m\u001b[1;33m.\u001b[0m\u001b[0m_start_time\u001b[0m\u001b[1;33m\u001b[0m\u001b[0m\n",
        "\u001b[1;32mC:\\Anaconda\\lib\\site-packages\\sklearn\\externals\\joblib\\parallel.pyc\u001b[0m in \u001b[0;36mretrieve\u001b[1;34m(self)\u001b[0m\n\u001b[0;32m    510\u001b[0m                 \u001b[0mself\u001b[0m\u001b[1;33m.\u001b[0m\u001b[0m_lock\u001b[0m\u001b[1;33m.\u001b[0m\u001b[0mrelease\u001b[0m\u001b[1;33m(\u001b[0m\u001b[1;33m)\u001b[0m\u001b[1;33m\u001b[0m\u001b[0m\n\u001b[0;32m    511\u001b[0m             \u001b[1;32mtry\u001b[0m\u001b[1;33m:\u001b[0m\u001b[1;33m\u001b[0m\u001b[0m\n\u001b[1;32m--> 512\u001b[1;33m                 \u001b[0mself\u001b[0m\u001b[1;33m.\u001b[0m\u001b[0m_output\u001b[0m\u001b[1;33m.\u001b[0m\u001b[0mappend\u001b[0m\u001b[1;33m(\u001b[0m\u001b[0mjob\u001b[0m\u001b[1;33m.\u001b[0m\u001b[0mget\u001b[0m\u001b[1;33m(\u001b[0m\u001b[1;33m)\u001b[0m\u001b[1;33m)\u001b[0m\u001b[1;33m\u001b[0m\u001b[0m\n\u001b[0m\u001b[0;32m    513\u001b[0m             \u001b[1;32mexcept\u001b[0m \u001b[0mtuple\u001b[0m\u001b[1;33m(\u001b[0m\u001b[0mself\u001b[0m\u001b[1;33m.\u001b[0m\u001b[0mexceptions\u001b[0m\u001b[1;33m)\u001b[0m \u001b[1;32mas\u001b[0m \u001b[0mexception\u001b[0m\u001b[1;33m:\u001b[0m\u001b[1;33m\u001b[0m\u001b[0m\n\u001b[0;32m    514\u001b[0m                 \u001b[1;32mtry\u001b[0m\u001b[1;33m:\u001b[0m\u001b[1;33m\u001b[0m\u001b[0m\n",
        "\u001b[1;32mC:\\Anaconda\\lib\\multiprocessing\\pool.pyc\u001b[0m in \u001b[0;36mget\u001b[1;34m(self, timeout)\u001b[0m\n\u001b[0;32m    550\u001b[0m \u001b[1;33m\u001b[0m\u001b[0m\n\u001b[0;32m    551\u001b[0m     \u001b[1;32mdef\u001b[0m \u001b[0mget\u001b[0m\u001b[1;33m(\u001b[0m\u001b[0mself\u001b[0m\u001b[1;33m,\u001b[0m \u001b[0mtimeout\u001b[0m\u001b[1;33m=\u001b[0m\u001b[0mNone\u001b[0m\u001b[1;33m)\u001b[0m\u001b[1;33m:\u001b[0m\u001b[1;33m\u001b[0m\u001b[0m\n\u001b[1;32m--> 552\u001b[1;33m         \u001b[0mself\u001b[0m\u001b[1;33m.\u001b[0m\u001b[0mwait\u001b[0m\u001b[1;33m(\u001b[0m\u001b[0mtimeout\u001b[0m\u001b[1;33m)\u001b[0m\u001b[1;33m\u001b[0m\u001b[0m\n\u001b[0m\u001b[0;32m    553\u001b[0m         \u001b[1;32mif\u001b[0m \u001b[1;32mnot\u001b[0m \u001b[0mself\u001b[0m\u001b[1;33m.\u001b[0m\u001b[0m_ready\u001b[0m\u001b[1;33m:\u001b[0m\u001b[1;33m\u001b[0m\u001b[0m\n\u001b[0;32m    554\u001b[0m             \u001b[1;32mraise\u001b[0m \u001b[0mTimeoutError\u001b[0m\u001b[1;33m\u001b[0m\u001b[0m\n",
        "\u001b[1;32mC:\\Anaconda\\lib\\multiprocessing\\pool.pyc\u001b[0m in \u001b[0;36mwait\u001b[1;34m(self, timeout)\u001b[0m\n\u001b[0;32m    545\u001b[0m         \u001b[1;32mtry\u001b[0m\u001b[1;33m:\u001b[0m\u001b[1;33m\u001b[0m\u001b[0m\n\u001b[0;32m    546\u001b[0m             \u001b[1;32mif\u001b[0m \u001b[1;32mnot\u001b[0m \u001b[0mself\u001b[0m\u001b[1;33m.\u001b[0m\u001b[0m_ready\u001b[0m\u001b[1;33m:\u001b[0m\u001b[1;33m\u001b[0m\u001b[0m\n\u001b[1;32m--> 547\u001b[1;33m                 \u001b[0mself\u001b[0m\u001b[1;33m.\u001b[0m\u001b[0m_cond\u001b[0m\u001b[1;33m.\u001b[0m\u001b[0mwait\u001b[0m\u001b[1;33m(\u001b[0m\u001b[0mtimeout\u001b[0m\u001b[1;33m)\u001b[0m\u001b[1;33m\u001b[0m\u001b[0m\n\u001b[0m\u001b[0;32m    548\u001b[0m         \u001b[1;32mfinally\u001b[0m\u001b[1;33m:\u001b[0m\u001b[1;33m\u001b[0m\u001b[0m\n\u001b[0;32m    549\u001b[0m             \u001b[0mself\u001b[0m\u001b[1;33m.\u001b[0m\u001b[0m_cond\u001b[0m\u001b[1;33m.\u001b[0m\u001b[0mrelease\u001b[0m\u001b[1;33m(\u001b[0m\u001b[1;33m)\u001b[0m\u001b[1;33m\u001b[0m\u001b[0m\n",
        "\u001b[1;32mC:\\Anaconda\\lib\\threading.pyc\u001b[0m in \u001b[0;36mwait\u001b[1;34m(self, timeout)\u001b[0m\n\u001b[0;32m    337\u001b[0m         \u001b[1;32mtry\u001b[0m\u001b[1;33m:\u001b[0m    \u001b[1;31m# restore state no matter what (e.g., KeyboardInterrupt)\u001b[0m\u001b[1;33m\u001b[0m\u001b[0m\n\u001b[0;32m    338\u001b[0m             \u001b[1;32mif\u001b[0m \u001b[0mtimeout\u001b[0m \u001b[1;32mis\u001b[0m \u001b[0mNone\u001b[0m\u001b[1;33m:\u001b[0m\u001b[1;33m\u001b[0m\u001b[0m\n\u001b[1;32m--> 339\u001b[1;33m                 \u001b[0mwaiter\u001b[0m\u001b[1;33m.\u001b[0m\u001b[0macquire\u001b[0m\u001b[1;33m(\u001b[0m\u001b[1;33m)\u001b[0m\u001b[1;33m\u001b[0m\u001b[0m\n\u001b[0m\u001b[0;32m    340\u001b[0m                 \u001b[1;32mif\u001b[0m \u001b[0m__debug__\u001b[0m\u001b[1;33m:\u001b[0m\u001b[1;33m\u001b[0m\u001b[0m\n\u001b[0;32m    341\u001b[0m                     \u001b[0mself\u001b[0m\u001b[1;33m.\u001b[0m\u001b[0m_note\u001b[0m\u001b[1;33m(\u001b[0m\u001b[1;34m\"%s.wait(): got it\"\u001b[0m\u001b[1;33m,\u001b[0m \u001b[0mself\u001b[0m\u001b[1;33m)\u001b[0m\u001b[1;33m\u001b[0m\u001b[0m\n",
        "\u001b[1;31mKeyboardInterrupt\u001b[0m: "
       ]
      }
     ],
     "prompt_number": 65
    },
    {
     "cell_type": "code",
     "collapsed": false,
     "input": [
      "%time\n",
      "#trees_splitted_wheel = hierarchy.wheel_splitted_boosts(trees_splitted,trees, trainFactory,criteria,LogLoss,0.256,\n",
      "#                                                       wheel_up_times = 100,\n",
      "#                                                       trees_sample_size = 100,\n",
      "#                                                       regularizer =0.00039,\n",
      "#                                                       verbose=True,use_joblib = True,n_jobs = -1,\n",
      "#                                                       weights_outside_leaf = 0.75, inclusion_outside_leaf = 0.75) "
     ],
     "language": "python",
     "metadata": {},
     "outputs": []
    },
    {
     "cell_type": "code",
     "collapsed": false,
     "input": [
      "y_pred_splitted= hierarchy.predict_splitted(testFactory,criteria,trees_splitted)\n",
      "#y_pred_splitted_wheel= hierarchy.predict_splitted(testFactory,criteria,trees_splitted_wheel)"
     ],
     "language": "python",
     "metadata": {},
     "outputs": []
    },
    {
     "cell_type": "code",
     "collapsed": false,
     "input": [
      "_= joblib.dump([criteria,trees_splitted],\"dumps/splitted 100 trees 345_new\")"
     ],
     "language": "python",
     "metadata": {},
     "outputs": [],
     "prompt_number": 48
    },
    {
     "cell_type": "code",
     "collapsed": false,
     "input": [
      "w_test = testFactory.weights\n",
      "Yts = testFactory.labels\n",
      "print 'spltd\\t',metrics.roc_auc_score(Yts,y_pred_splitted,sample_weight=w_test)\n",
      "print 'greedy\\t',metrics.roc_auc_score(Yts,y_pred_greedy,sample_weight=w_test)\n",
      "print 'stupid\\t',metrics.roc_auc_score(Yts,y_pred_stupid,sample_weight=w_test)\n",
      "print 'full\\t',metrics.roc_auc_score(Yts,y_pred_full,sample_weight=w_test)\n",
      "print \"well...\"\n"
     ],
     "language": "python",
     "metadata": {},
     "outputs": []
    },
    {
     "cell_type": "markdown",
     "metadata": {},
     "source": [
      "#learning curves"
     ]
    },
    {
     "cell_type": "code",
     "collapsed": false,
     "input": [
      "#I know it could have been done without quadratic complexity over trees, but...\n",
      "#btw equalizing 1-0 weights for the training set is not optimal in terms of AUC, but it is close to being so.\n",
      "n_trees =100\n",
      "auc_stupid_lcurve = [(0.5,)]\n",
      "auc_greedy_lcurve = [(0.5,)]\n",
      "auc_splitted_lcurve = [(0.5,)]\n",
      "for i in range(1,n_trees):\n",
      "    #stpd\n",
      "    pred = testFactory.predict(trees[:i])\n",
      "    auc = metrics.roc_auc_score(testFactory.labels,pred,sample_weight=testFactory.weights),\n",
      "    auc_stupid_lcurve.append( auc)    \n",
      "    #grdy\n",
      "    pred = testFactory.predict(res_greedy[:i])#res_greedy_wheel is not optimized for this dissection \n",
      "    auc = metrics.roc_auc_score(testFactory.labels,pred,sample_weight=testFactory.weights),\n",
      "    auc_greedy_lcurve.append( auc)\n",
      "    #split\n",
      "    trees_i = {code:trees_splitted[code][:i] for code in trees_splitted}\n",
      "    pred = hierarchy.predict_splitted(testFactory,criteria,trees_i)\n",
      "\n",
      "    auc = metrics.roc_auc_score(testFactory.labels,pred,sample_weight=testFactory.weights),\n",
      "    auc_splitted_lcurve.append( auc)"
     ],
     "language": "python",
     "metadata": {},
     "outputs": [],
     "prompt_number": 40
    },
    {
     "cell_type": "code",
     "collapsed": false,
     "input": [
      "p = range(1,n_trees)\n",
      "plt.figure(figsize = [14,14])\n",
      "plt.plot(p,[0.935834322801 for i in range(1,n_trees)],label = \"full\")\n",
      "plt.plot(p,auc_stupid_lcurve[1:n_trees],label = \"stupid\")\n",
      "plt.plot(p,auc_greedy_lcurve[1:n_trees],label = \"greedy\")\n",
      "plt.plot(p,auc_splitted_lcurve[1:n_trees],label = \"splitted\")\n",
      "plt.title('learning curves')\n",
      "plt.legend(loc=\"lower right\")\n"
     ],
     "language": "python",
     "metadata": {},
     "outputs": [
      {
       "metadata": {},
       "output_type": "pyout",
       "prompt_number": 41,
       "text": [
        "<matplotlib.legend.Legend at 0x17a83c18>"
       ]
      },
      {
       "metadata": {},
       "output_type": "display_data",
       "png": "[encoded data removed]",
       "text": [
        "<matplotlib.figure.Figure at 0x18363978>"
       ]
      }
     ],
     "prompt_number": 41
    },
    {
     "cell_type": "markdown",
     "metadata": {},
     "source": [
      "#ROC at 100"
     ]
    },
    {
     "cell_type": "code",
     "collapsed": false,
     "input": [
      "y_pred_greedy_100 = testFactory.predict(res_greedy)\n",
      "y_pred_stupid_100 = testFactory.predict(trees[:100])\n",
      "y_pred_splitted_100 =  hierarchy.predict_splitted(testFactory,criteria, trees_splitted)"
     ],
     "language": "python",
     "metadata": {},
     "outputs": [],
     "prompt_number": 42
    },
    {
     "cell_type": "code",
     "collapsed": false,
     "input": [
      "# Plot ROC curve\n",
      "plt.figure(figsize = [14,14])\n",
      "fpr, tpr, _ = metrics.roc_curve(Yts, y_pred_full,sample_weight=testFactory.weights)\n",
      "plt.plot(fpr, tpr,\n",
      "         label='Full boost classi 10k trees')\n",
      "fpr, tpr, _ = metrics.roc_curve(Yts, y_pred_stupid_100,sample_weight=testFactory.weights)\n",
      "plt.plot(fpr, tpr,\n",
      "         label='first N trees classi')\n",
      "fpr, tpr, _ = metrics.roc_curve(Yts, y_pred_greedy_100,sample_weight=testFactory.weights)\n",
      "plt.plot(fpr, tpr,\n",
      "         label='Greedy prune classi+wheel')\n",
      "fpr, tpr, _ = metrics.roc_curve(Yts, y_pred_splitted_100,sample_weight=testFactory.weights)\n",
      "plt.plot(fpr, tpr,\n",
      "         label='8-leaf split classi+wheel')\n",
      "\n",
      "\n",
      "plt.plot([0, 1], [0, 1], 'k--')\n",
      "plt.xlim([0.0, 1.0])\n",
      "plt.ylim([0.0, 1.05])\n",
      "plt.xlabel('False Positive Rate')\n",
      "plt.ylabel('True Positive Rate')\n",
      "plt.title('ROC curves at 100 trees')\n",
      "plt.legend(loc=\"lower right\")\n",
      "plt.show()"
     ],
     "language": "python",
     "metadata": {},
     "outputs": [
      {
       "metadata": {},
       "output_type": "display_data",
       "png": "[encoded data removed]",
       "text": [
        "<matplotlib.figure.Figure at 0x17725be0>"
       ]
      }
     ],
     "prompt_number": 43
    },
    {
     "cell_type": "markdown",
     "metadata": {},
     "source": [
      "#kinda..."
     ]
    },
    {
     "cell_type": "code",
     "collapsed": false,
     "input": [
      "factory = testFactory\n",
      "factories, indices =  hierarchy.split_upper(factory,criteria,True)\n",
      "y_pred = np.zeros(factory.n_events)\n",
      "for leaf in factories.keys():\n",
      "    y_pred[indices[leaf]] = factories[leaf].predict(trees_splitted[leaf])\n",
      "    print leaf, \"mu:\",np.mean(y_pred[indices[leaf]]),\"var:\", np.var(y_pred[indices[leaf]])\n",
      "    plt.hist(y_pred[indices[leaf]])\n",
      "    plt.show()\n",
      "\n",
      "    \n",
      "print metrics.roc_auc_score(factory.labels,y_pred,sample_weight=factory.weights)"
     ],
     "language": "python",
     "metadata": {},
     "outputs": [
      {
       "output_type": "stream",
       "stream": "stdout",
       "text": [
        "10000 mu: 1.05089285912 var: 2.37611628871\n"
       ]
      },
      {
       "metadata": {},
       "output_type": "display_data",
       "png": "[encoded data removed]",
       "text": [
        "<matplotlib.figure.Figure at 0x17c14a20>"
       ]
      },
      {
       "output_type": "stream",
       "stream": "stdout",
       "text": [
        "10001 mu: 1.36917382314 var: 4.17542249983\n"
       ]
      },
      {
       "metadata": {},
       "output_type": "display_data",
       "png": "[encoded data removed]",
       "text": [
        "<matplotlib.figure.Figure at 0x1ad20400>"
       ]
      },
      {
       "output_type": "stream",
       "stream": "stdout",
       "text": [
        "10101 mu: -1.10226723981 var: 6.84297435848\n"
       ]
      },
      {
       "metadata": {},
       "output_type": "display_data",
       "png": "[encoded data removed]",
       "text": [
        "<matplotlib.figure.Figure at 0x1a82c390>"
       ]
      },
      {
       "output_type": "stream",
       "stream": "stdout",
       "text": [
        "10100 mu: -2.79379132398 var: 3.33452335406\n"
       ]
      },
      {
       "metadata": {},
       "output_type": "display_data",
       "png": "[encoded data removed]",
       "text": [
        "<matplotlib.figure.Figure at 0x1954ab70>"
       ]
      },
      {
       "output_type": "stream",
       "stream": "stdout",
       "text": [
        "01101 mu: -2.82284062832 var: 4.23505191303\n"
       ]
      },
      {
       "metadata": {},
       "output_type": "display_data",
       "png": "[encoded data removed]",
       "text": [
        "<matplotlib.figure.Figure at 0x191781d0>"
       ]
      },
      {
       "output_type": "stream",
       "stream": "stdout",
       "text": [
        "01100 mu: -2.78731117723 var: 3.84875054259\n"
       ]
      },
      {
       "metadata": {},
       "output_type": "display_data",
       "png": "[encoded data removed]",
       "text": [
        "<matplotlib.figure.Figure at 0x17b6b908>"
       ]
      },
      {
       "output_type": "stream",
       "stream": "stdout",
       "text": [
        "11111 mu: -1.18145871057 var: 5.74233933907\n"
       ]
      },
      {
       "metadata": {},
       "output_type": "display_data",
       "png": "[encoded data removed]",
       "text": [
        "<matplotlib.figure.Figure at 0x17dd1c18>"
       ]
      },
      {
       "output_type": "stream",
       "stream": "stdout",
       "text": [
        "11110 mu: -1.55293575357 var: 3.94801054338\n"
       ]
      },
      {
       "metadata": {},
       "output_type": "display_data",
       "png": "[encoded data removed]",
       "text": [
        "<matplotlib.figure.Figure at 0x189c2eb8>"
       ]
      },
      {
       "output_type": "stream",
       "stream": "stdout",
       "text": [
        "11010 mu: 1.48608872353 var: 3.83202238614\n"
       ]
      },
      {
       "metadata": {},
       "output_type": "display_data",
       "png": "[encoded data removed]",
       "text": [
        "<matplotlib.figure.Figure at 0x17da6438>"
       ]
      },
      {
       "output_type": "stream",
       "stream": "stdout",
       "text": [
        "11011 mu: 2.09732390059 var: 4.07135387033\n"
       ]
      },
      {
       "metadata": {},
       "output_type": "display_data",
       "png": "[encoded data removed]",
       "text": [
        "<matplotlib.figure.Figure at 0x19538908>"
       ]
      },
      {
       "output_type": "stream",
       "stream": "stdout",
       "text": [
        "01000 mu: 1.91998200694 var: 3.91992488706\n"
       ]
      },
      {
       "metadata": {},
       "output_type": "display_data",
       "png": "[encoded data removed]",
       "text": [
        "<matplotlib.figure.Figure at 0x18e2ce48>"
       ]
      },
      {
       "output_type": "stream",
       "stream": "stdout",
       "text": [
        "01001 mu: 1.9606743091 var: 3.31417648673\n"
       ]
      },
      {
       "metadata": {},
       "output_type": "display_data",
       "png": "[encoded data removed]",
       "text": [
        "<matplotlib.figure.Figure at 0x178fc0f0>"
       ]
      },
      {
       "output_type": "stream",
       "stream": "stdout",
       "text": [
        "00111 mu: -2.80602709333 var: 4.54262401014\n"
       ]
      },
      {
       "metadata": {},
       "output_type": "display_data",
       "png": "[encoded data removed]",
       "text": [
        "<matplotlib.figure.Figure at 0x190eb390>"
       ]
      },
      {
       "output_type": "stream",
       "stream": "stdout",
       "text": [
        "00110 mu: -3.08996504488 var: 3.47618111199\n"
       ]
      },
      {
       "metadata": {},
       "output_type": "display_data",
       "png": "[encoded data removed]",
       "text": [
        "<matplotlib.figure.Figure at 0x17b6b320>"
       ]
      },
      {
       "output_type": "stream",
       "stream": "stdout",
       "text": [
        "00010 mu: 0.378594030843 var: 2.26847425483\n"
       ]
      },
      {
       "metadata": {},
       "output_type": "display_data",
       "png": "[encoded data removed]",
       "text": [
        "<matplotlib.figure.Figure at 0x1c7f0b70>"
       ]
      },
      {
       "output_type": "stream",
       "stream": "stdout",
       "text": [
        "00011 mu: 0.371727792219 var: 1.9291916583\n"
       ]
      },
      {
       "metadata": {},
       "output_type": "display_data",
       "png": "[encoded data removed]",
       "text": [
        "<matplotlib.figure.Figure at 0x1c65cd30>"
       ]
      },
      {
       "output_type": "stream",
       "stream": "stdout",
       "text": [
        "10011 mu: 0.991332723348 var: 3.38336083012\n"
       ]
      },
      {
       "metadata": {},
       "output_type": "display_data",
       "png": "[encoded data removed]",
       "text": [
        "<matplotlib.figure.Figure at 0x18511400>"
       ]
      },
      {
       "output_type": "stream",
       "stream": "stdout",
       "text": [
        "10010 mu: 0.661370833693 var: 1.69201048196\n"
       ]
      },
      {
       "metadata": {},
       "output_type": "display_data",
       "png": "[encoded data removed]",
       "text": [
        "<matplotlib.figure.Figure at 0x1bc4cc50>"
       ]
      },
      {
       "output_type": "stream",
       "stream": "stdout",
       "text": [
        "10110 mu: -2.05867224269 var: 3.22248314151\n"
       ]
      },
      {
       "metadata": {},
       "output_type": "display_data",
       "png": "[encoded data removed]",
       "text": [
        "<matplotlib.figure.Figure at 0x1b8982b0>"
       ]
      },
      {
       "output_type": "stream",
       "stream": "stdout",
       "text": [
        "10111 mu: -1.29854860687 var: 5.29441044126\n"
       ]
      },
      {
       "metadata": {},
       "output_type": "display_data",
       "png": "[encoded data removed]",
       "text": [
        "<matplotlib.figure.Figure at 0x1bc94d30>"
       ]
      },
      {
       "output_type": "stream",
       "stream": "stdout",
       "text": [
        "01110 mu: -2.2558922904 var: 3.71593243228\n"
       ]
      },
      {
       "metadata": {},
       "output_type": "display_data",
       "png": "[encoded data removed]",
       "text": [
        "<matplotlib.figure.Figure at 0x1c64b7f0>"
       ]
      },
      {
       "output_type": "stream",
       "stream": "stdout",
       "text": [
        "01111 mu: -2.39599830591 var: 4.38754307858\n"
       ]
      },
      {
       "metadata": {},
       "output_type": "display_data",
       "png": "[encoded data removed]",
       "text": [
        "<matplotlib.figure.Figure at 0x1b866470>"
       ]
      },
      {
       "output_type": "stream",
       "stream": "stdout",
       "text": [
        "11001 mu: 2.64617032135 var: 3.50713586354\n"
       ]
      },
      {
       "metadata": {},
       "output_type": "display_data",
       "png": "[encoded data removed]",
       "text": [
        "<matplotlib.figure.Figure at 0x21156dd8>"
       ]
      },
      {
       "output_type": "stream",
       "stream": "stdout",
       "text": [
        "11000 mu: 1.83288628604 var: 4.11446334622\n"
       ]
      },
      {
       "metadata": {},
       "output_type": "display_data",
       "png": "[encoded data removed]",
       "text": [
        "<matplotlib.figure.Figure at 0x18e002e8>"
       ]
      },
      {
       "output_type": "stream",
       "stream": "stdout",
       "text": [
        "11100 mu: -2.05553520188 var: 3.2569949517\n"
       ]
      },
      {
       "metadata": {},
       "output_type": "display_data",
       "png": "[encoded data removed]",
       "text": [
        "<matplotlib.figure.Figure at 0x17fa1da0>"
       ]
      },
      {
       "output_type": "stream",
       "stream": "stdout",
       "text": [
        "11101 mu: -1.06840059608 var: 6.4722308376\n"
       ]
      },
      {
       "metadata": {},
       "output_type": "display_data",
       "png": "[encoded data removed]",
       "text": [
        "<matplotlib.figure.Figure at 0x1a83d828>"
       ]
      },
      {
       "output_type": "stream",
       "stream": "stdout",
       "text": [
        "01011 mu: 1.72215163444 var: 3.29760478079\n"
       ]
      },
      {
       "metadata": {},
       "output_type": "display_data",
       "png": "[encoded data removed]",
       "text": [
        "<matplotlib.figure.Figure at 0x1ad17d68>"
       ]
      },
      {
       "output_type": "stream",
       "stream": "stdout",
       "text": [
        "01010 mu: 1.45835250636 var: 3.96501151093\n"
       ]
      },
      {
       "metadata": {},
       "output_type": "display_data",
       "png": "[encoded data removed]",
       "text": [
        "<matplotlib.figure.Figure at 0x17d09e10>"
       ]
      },
      {
       "output_type": "stream",
       "stream": "stdout",
       "text": [
        "00001 mu: 0.289774059052 var: 2.352546871\n"
       ]
      },
      {
       "metadata": {},
       "output_type": "display_data",
       "png": "[encoded data removed]",
       "text": [
        "<matplotlib.figure.Figure at 0x17b86ba8>"
       ]
      },
      {
       "output_type": "stream",
       "stream": "stdout",
       "text": [
        "00000 mu: 0.859147744519 var: 2.71110687144\n"
       ]
      },
      {
       "metadata": {},
       "output_type": "display_data",
       "png": "[encoded data removed]",
       "text": [
        "<matplotlib.figure.Figure at 0x1754d3c8>"
       ]
      },
      {
       "output_type": "stream",
       "stream": "stdout",
       "text": [
        "00100 mu: -4.1646278026 var: 3.60616021559\n"
       ]
      },
      {
       "metadata": {},
       "output_type": "display_data",
       "png": "[encoded data removed]",
       "text": [
        "<matplotlib.figure.Figure at 0x1c5bd160>"
       ]
      },
      {
       "output_type": "stream",
       "stream": "stdout",
       "text": [
        "00101 mu: -2.95528327742 var: 4.31696525892\n"
       ]
      },
      {
       "metadata": {},
       "output_type": "display_data",
       "png": "[encoded data removed]",
       "text": [
        "<matplotlib.figure.Figure at 0x1fd33c88>"
       ]
      },
      {
       "output_type": "stream",
       "stream": "stdout",
       "text": [
        "0.93446574926\n"
       ]
      }
     ],
     "prompt_number": 44
    },
    {
     "cell_type": "code",
     "collapsed": false,
     "input": [
      "factories[leaf]"
     ],
     "language": "python",
     "metadata": {},
     "outputs": [
      {
       "metadata": {},
       "output_type": "pyout",
       "prompt_number": 45,
       "text": [
        "<factory.DataFactory instance at 0x000000001F7A4D48>"
       ]
      }
     ],
     "prompt_number": 45
    },
    {
     "cell_type": "code",
     "collapsed": false,
     "input": [],
     "language": "python",
     "metadata": {},
     "outputs": []
    }
   ],
   "metadata": {}
  }
 ]
}