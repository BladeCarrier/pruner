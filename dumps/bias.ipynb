{
 "cells": [
  {
   "cell_type": "code",
   "execution_count": 1,
   "metadata": {
    "collapsed": true
   },
   "outputs": [],
   "source": [
    "#general\n",
    "import copy\n",
    "import random\n",
    "\n",
    "#math & plot\n",
    "import matplotlib.pyplot as plt\n",
    "%matplotlib inline\n",
    "import numpy as np\n",
    "\n",
    "#sklearn\n",
    "import sklearn.metrics as metrics\n",
    "from sklearn.externals import joblib\n",
    "from sklearn import cross_validation as cv\n",
    "\n",
    "#EF applier\n",
    "import _matrixnetapplier_untouched as mnet\n",
    "\n",
    "#persistance\n",
    "import cPickle\n",
    "from StringIO import StringIO\n",
    "\n",
    "#debug purposes\n",
    "%load_ext autoreload\n",
    "%autoreload 2"
   ]
  },
  {
   "cell_type": "code",
   "execution_count": 2,
   "metadata": {
    "collapsed": false
   },
   "outputs": [
    {
     "name": "stdout",
     "output_type": "stream",
     "text": [
      "9997 == 9997\n"
     ]
    }
   ],
   "source": [
    "#extract model\n",
    "with open('../formula/MSLR10k_ef.mx', 'r') as f:\n",
    "    formula = mnet.MatrixnetClassifier(StringIO(cPickle.load(f)))\n",
    "\n",
    "depth, nTrees, itr = formula.iterate_trees().next()\n",
    "trees = [tree for tree in itr]\n",
    "print len(trees), '==',nTrees"
   ]
  },
  {
   "cell_type": "code",
   "execution_count": 3,
   "metadata": {
    "collapsed": true
   },
   "outputs": [],
   "source": [
    "def load_csv(name):\n",
    "    #cannot install h5py with obsolete dependencies, upgrading them might cause OS instability\n",
    "    print \"reading from\",name\n",
    "    qids = np.loadtxt(name+\".qids.csv\",delimiter=',')\n",
    "    labels = np.loadtxt(name+\".labels.csv\",delimiter=',')\n",
    "    features = np.loadtxt(name+\".features.csv\",delimiter=',')\n",
    "    print \"done\"\n",
    "    return features, qids, labels"
   ]
  },
  {
   "cell_type": "code",
   "execution_count": 4,
   "metadata": {
    "collapsed": false
   },
   "outputs": [
    {
     "name": "stdout",
     "output_type": "stream",
     "text": [
      "reading from ../data/MSLR10/mslr_train\n",
      "done\n",
      "reading from ../data/MSLR10/mslr_test\n",
      "done\n"
     ]
    }
   ],
   "source": [
    "Xtr,Qtr,Ytr = load_csv(\"../data/MSLR10/mslr_train\")\n",
    "Xts,Qts,Yts = load_csv(\"../data/MSLR10/mslr_test\")"
   ]
  },
  {
   "cell_type": "code",
   "execution_count": 5,
   "metadata": {
    "collapsed": true
   },
   "outputs": [],
   "source": [
    "from factory import RegressionFactory\n",
    "trainFactory = RegressionFactory(Xtr,Ytr)\n",
    "testFactory = RegressionFactory(Xts,Yts)"
   ]
  },
  {
   "cell_type": "code",
   "execution_count": 6,
   "metadata": {
    "collapsed": true
   },
   "outputs": [],
   "source": [
    "#from formula import PrunedFormula as pf\n",
    "class PrunedFormula(list):\n",
    "    #just a list with bias\n",
    "    def __init__(self,trees,bias = 0):\n",
    "        self.bias = bias\n",
    "        list.__init__(self,trees)\n",
    "    def __repr__(self):\n",
    "        return str(self.bias)+' '+list.__repr__(self)\n",
    "    def predict(self,factory):\n",
    "        return factory.predict(self)\n",
    "    def __add__(self,other):\n",
    "        assert type(other) is list\n",
    "        return PrunedFormula(list(self)+other,self.bias)\n",
    "    def staged_predict(self,factory):\n",
    "        return factory.apply_separately(self)"
   ]
  },
  {
   "cell_type": "markdown",
   "metadata": {},
   "source": [
    "#training errors"
   ]
  },
  {
   "cell_type": "code",
   "execution_count": 7,
   "metadata": {
    "collapsed": false
   },
   "outputs": [
    {
     "name": "stdout",
     "output_type": "stream",
     "text": [
      "avg of labels =  0.665306906714\n"
     ]
    }
   ],
   "source": [
    "trees_full = PrunedFormula(trees,bias = 0.0)\n",
    "pred_zero = trees_full.predict(trainFactory) \n",
    "\n",
    "avg_labels = np.average(trainFactory.labels)\n",
    "print 'avg of labels = ',np.average(trainFactory.labels)\n"
   ]
  },
  {
   "cell_type": "code",
   "execution_count": 8,
   "metadata": {
    "collapsed": false
   },
   "outputs": [
    {
     "name": "stdout",
     "output_type": "stream",
     "text": [
      "in-sample error with that as bias: 0.949492985327\n",
      "in-sample error with zero bias 0.506859705662\n"
     ]
    }
   ],
   "source": [
    "print 'in-sample error with that as bias:', metrics.mean_squared_error(trainFactory.labels, pred_zero + avg_labels)\n",
    "print 'in-sample error with zero bias',  metrics.mean_squared_error(trainFactory.labels, pred_zero + 0.0 )"
   ]
  },
  {
   "cell_type": "code",
   "execution_count": 9,
   "metadata": {
    "collapsed": false
   },
   "outputs": [
    {
     "name": "stdout",
     "output_type": "stream",
     "text": [
      "0.506859705662\n"
     ]
    }
   ],
   "source": [
    "#sanity check\n",
    "pred_vanilla = formula.apply(Xtr)\n",
    "print metrics.mean_squared_error(Ytr,pred_vanilla)"
   ]
  },
  {
   "cell_type": "code",
   "execution_count": 10,
   "metadata": {
    "collapsed": false
   },
   "outputs": [
    {
     "name": "stdout",
     "output_type": "stream",
     "text": [
      "in-sample error with zero bias+0.1 0.516859705593\n",
      "in-sample error with zero bias     0.506859705662\n",
      "in-sample error with zero bias-0.1 0.516859705731\n"
     ]
    }
   ],
   "source": [
    "#local optimum\n",
    "print 'in-sample error with zero bias+0.1',  metrics.mean_squared_error(trainFactory.labels, pred_zero + 0.1 )\n",
    "print 'in-sample error with zero bias    ',  metrics.mean_squared_error(trainFactory.labels, pred_zero + 0.0 )\n",
    "print 'in-sample error with zero bias-0.1',  metrics.mean_squared_error(trainFactory.labels, pred_zero - 0.1 )"
   ]
  },
  {
   "cell_type": "code",
   "execution_count": 11,
   "metadata": {
    "collapsed": false
   },
   "outputs": [
    {
     "name": "stdout",
     "output_type": "stream",
     "text": [
      "(array([ 10,  40,  54,  85, 109, 114], dtype=int32), array([  3.74050000e+03,   1.38895938e+04,   5.40750008e-03,\n",
      "         1.80319788e+03,  -4.29138517e+00,  -2.99575043e+01], dtype=float32), array([ 0.00354839,  0.01      ,  0.        ,  0.        ,  0.        ,\n",
      "        0.        ,  0.        ,  0.        ,  0.        ,  0.        ,\n",
      "        0.        ,  0.        ,  0.        ,  0.        ,  0.        ,\n",
      "        0.        ,  0.00175404,  0.0005208 ,  0.00033333,  0.00041667,\n",
      "        0.0075    ,  0.        ,  0.        ,  0.        ,  0.        ,\n",
      "        0.        ,  0.        ,  0.        ,  0.        ,  0.        ,\n",
      "        0.        ,  0.        ,  0.0009901 ,  0.        ,  0.        ,\n",
      "        0.        ,  0.00450704,  0.        ,  0.        ,  0.        ,\n",
      "        0.        ,  0.        ,  0.        ,  0.        ,  0.        ,\n",
      "        0.        ,  0.        ,  0.        ,  0.0049011 ,  0.00220257,\n",
      "        0.00179039,  0.00105263,  0.00859768,  0.00765957,  0.00244444,\n",
      "        0.00285714,  0.        ,  0.        ,  0.        ,  0.        ,\n",
      "        0.        ,  0.0025    ,  0.        ,  0.        ]))\n"
     ]
    }
   ],
   "source": [
    "#maybe fake trees.. no\n",
    "print trees[0]"
   ]
  },
  {
   "cell_type": "code",
   "execution_count": 12,
   "metadata": {
    "collapsed": false
   },
   "outputs": [
    {
     "name": "stdout",
     "output_type": "stream",
     "text": [
      "(array([ 15,  18,  50,  64, 121, 127], dtype=int32), array([  5.24100018e+00,   1.40037956e+01,   2.10645013e-02,\n",
      "         4.46384996e-02,  -1.47469349e+01,   2.65000000e+01], dtype=float32), array([ -3.69504294e-05,  -3.23407926e-04,   9.80706050e-05,\n",
      "        -4.19547761e-06,  -2.23478776e-03,   8.38593842e-05,\n",
      "         3.82297241e-04,  -1.00824729e-04,  -3.26409230e-03,\n",
      "         4.76749180e-04,   2.76161266e-04,   7.54881292e-05,\n",
      "        -1.93530043e-03,   1.31143542e-03,   1.16104901e-03,\n",
      "        -6.52607533e-05,   4.34667704e-05,   7.09076759e-05,\n",
      "        -4.27774548e-04,  -2.04795704e-06,   1.03463501e-05,\n",
      "         1.38564279e-04,   6.43983699e-04,   6.73037852e-05,\n",
      "         8.84098043e-05,   1.94178283e-04,  -2.68877388e-04,\n",
      "        -5.26592072e-05,   3.46758229e-06,   3.04152572e-05,\n",
      "        -4.27581505e-04,  -1.45885337e-04,  -9.97970761e-04,\n",
      "        -6.07318585e-04,   1.20987550e-05,  -2.75745581e-06,\n",
      "        -2.92360378e-03,  -1.25605376e-03,   1.52252043e-05,\n",
      "         7.96487934e-05,  -2.74062460e-03,  -2.31401459e-03,\n",
      "         4.22179290e-04,  -1.04957678e-04,  -2.35046527e-03,\n",
      "        -9.72109980e-04,   7.36608392e-04,   3.14635520e-04,\n",
      "        -4.15013806e-05,  -2.21470422e-05,   2.40707815e-04,\n",
      "        -1.70716683e-05,   5.87462470e-05,  -1.43411652e-04,\n",
      "         3.83045223e-04,  -1.48982477e-04,  -2.01601753e-04,\n",
      "         4.32507919e-05,  -8.45702350e-04,  -9.26867869e-06,\n",
      "        -3.82328288e-05,   8.98245528e-05,  -2.50979033e-04,\n",
      "         1.17941689e-04]))\n"
     ]
    }
   ],
   "source": [
    "print trees[-1]"
   ]
  }
 ],
 "metadata": {
  "kernelspec": {
   "display_name": "Python 2",
   "language": "python",
   "name": "python2"
  },
  "language_info": {
   "codemirror_mode": {
    "name": "ipython",
    "version": 2
   },
   "file_extension": ".py",
   "mimetype": "text/x-python",
   "name": "python",
   "nbconvert_exporter": "python",
   "pygments_lexer": "ipython2",
   "version": "2.7.5"
  }
 },
 "nbformat": 4,
 "nbformat_minor": 0
}
