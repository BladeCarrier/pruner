{
 "cells": [
  {
   "cell_type": "markdown",
   "metadata": {},
   "source": [
    "#Краткий отчёт о пользе обрезания\n",
    "формул EventFilter\n",
    "\n",
    "Рассматривается формула EventFilterRegressor, обученная ранжировать результаты поиска на данных MSLR-Web10k.\n",
    "\n",
    "[ http://research.microsoft.com/en-us/projects/mslr/ ]\n",
    "\n",
    "Сравниваются 2 варианта прунинга (удаления из формулы) деревьев: жадный и иерархический прунинг.\n",
    "\n",
    "##Много вспомогательных модулей"
   ]
  },
  {
   "cell_type": "code",
   "execution_count": 1,
   "metadata": {
    "collapsed": false
   },
   "outputs": [],
   "source": [
    "\n",
    "import numpy as np\n",
    "\n",
    "#math & plot\n",
    "import matplotlib.pyplot as plt\n",
    "%matplotlib inline\n",
    "\n",
    "#sklearn\n",
    "import sklearn.metrics as metrics\n",
    "\n",
    "import cPickle\n",
    "def cDump(obj,fname):\n",
    "    with open(fname,'w') as f:\n",
    "        cPickle.dump(obj,f)\n",
    "def cLoad(fname):\n",
    "    with open(fname,'r') as f:\n",
    "        return cPickle.load(f)\n",
    "        \n",
    "import _matrixnetapplier as mnet\n",
    "\n",
    "#debug purposes\n",
    "%load_ext autoreload\n",
    "%autoreload 2"
   ]
  },
  {
   "cell_type": "code",
   "execution_count": 2,
   "metadata": {
    "collapsed": true
   },
   "outputs": [],
   "source": [
    "#parameters\n",
    "target_n_trees = 100\n",
    "global_n_jobs = 8\n",
    "global_use_joblib = True"
   ]
  },
  {
   "cell_type": "markdown",
   "metadata": {},
   "source": [
    "# Данные MSLR-Web10k\n",
    "* Около 1.2 миллиона документов\n",
    "* 10 000 запросов\n",
    "\n",
    "[ http://research.microsoft.com/en-us/projects/mslr/ ]"
   ]
  },
  {
   "cell_type": "code",
   "execution_count": 3,
   "metadata": {
    "collapsed": false
   },
   "outputs": [
    {
     "name": "stdout",
     "output_type": "stream",
     "text": [
      "Failed to import h5py. H5 IO operations will be unavailable\n"
     ]
    }
   ],
   "source": [
    "import io_ranking as io"
   ]
  },
  {
   "cell_type": "code",
   "execution_count": 4,
   "metadata": {
    "collapsed": false
   },
   "outputs": [
    {
     "name": "stdout",
     "output_type": "stream",
     "text": [
      "CPU times: user 3 µs, sys: 1e+03 ns, total: 4 µs\n",
      "Wall time: 15 µs\n"
     ]
    }
   ],
   "source": [
    "%%time\n",
    "generate_data = False\n",
    "if generate_data:\n",
    "    #Пересохраняем csv в H5\n",
    "    ##warning! this can take a long time. no need to rerun that code if u have CSV files created once.\n",
    "    io.save_csv(\"../data/MSLR10/Fold1/train.txt\",\"../data/MSLR10/mslr_train\")\n",
    "    io.save_csv(\"../data/MSLR10/Fold1/test.txt\",\"../data/MSLR10/mslr_test\")\n",
    "    io.save_csv(\"../data/MSLR10/Fold1/vali.txt\",\"../data/MSLR10/mslr_vali\")\n",
    "    print \"converted that\""
   ]
  },
  {
   "cell_type": "code",
   "execution_count": 5,
   "metadata": {
    "collapsed": false
   },
   "outputs": [
    {
     "name": "stdout",
     "output_type": "stream",
     "text": [
      "reading from ../data/MSLR10/mslr_train\n",
      "done\n",
      "reading from ../data/MSLR10/mslr_test\n",
      "done\n"
     ]
    }
   ],
   "source": [
    "#используется Fold1\n",
    "Xtr,Qtr,Ytr = io.load_csv(\"../data/MSLR10/mslr_train\")\n",
    "Xts,Qts,Yts = io.load_csv(\"../data/MSLR10/mslr_test\")"
   ]
  },
  {
   "cell_type": "code",
   "execution_count": 6,
   "metadata": {
    "collapsed": false
   },
   "outputs": [],
   "source": [
    "#обёртка над данными для удобства работы с ними\n",
    "from factory import RegressionFactory\n",
    "#DataFactory is just a data wrapper that can handle splits, predictions, etc. \n",
    "#Used to avoid recommputing metadata at each predictions and passing large argument strings\n",
    "trainFactory = RegressionFactory(Xtr.astype('float32'),Ytr.astype('int8'))\n",
    "testFactory = RegressionFactory(Xts.astype('float32'),Yts.astype('int8'))"
   ]
  },
  {
   "cell_type": "code",
   "execution_count": 7,
   "metadata": {
    "collapsed": false
   },
   "outputs": [
    {
     "name": "stdout",
     "output_type": "stream",
     "text": [
      "train:  (723412, 136) qids: 6000\n",
      "test:  (241521, 136) qids: 2000\n",
      "qid intersection: 0 (must be 0)\n"
     ]
    }
   ],
   "source": [
    "print \"train: \",trainFactory.events.shape,\"qids:\",len(set(Qtr))\n",
    "print \"test: \",testFactory.events.shape,\"qids:\",len(set(Qts))\n",
    "print \"qid intersection:\",len(set.intersection(set(Qtr),set(Qts))),\"(must be 0)\"\n",
    "del Xtr,Ytr,Xts,Yts,Qtr,Qts"
   ]
  },
  {
   "cell_type": "markdown",
   "metadata": {},
   "source": [
    "# Первоначальная формула\n",
    "EventFilterRegressor на 10к деревьев, обученный по MSE без прикрас"
   ]
  },
  {
   "cell_type": "code",
   "execution_count": 8,
   "metadata": {
    "collapsed": true
   },
   "outputs": [],
   "source": [
    "from StringIO import StringIO\n",
    "\n",
    "read = True\n",
    "fname = \"../formula/MSLR10k_ef.mx\"\n",
    "if not read:\n",
    "    from rep_ef.estimators import EventFilterRegressor\n",
    "    ef = EventFilterRegressor(iterations=10000, connection='test_connection', dataset_name='letor-{random}').fit(Xtr,Ytr)\n",
    "    cDump(ef.formula_mx, fname)\n",
    "else:\n",
    "    with open(fname, 'r') as f:\n",
    "        formula = mnet.MatrixnetClassifier(StringIO(cPickle.load(f))) #btw he's a regressor, not classifier\n",
    "\n",
    "    depth, nTrees, itr = formula.iterate_trees().next()\n",
    "    trees = [tree for tree in itr]\n"
   ]
  },
  {
   "cell_type": "code",
   "execution_count": 9,
   "metadata": {
    "collapsed": true
   },
   "outputs": [],
   "source": [
    "#конвертируем в местный формат для удобства работы\n",
    "from greedy import PrunedFormula as pf\n",
    "bias = 0.0# NOT np.average(trainFactory.labels)\n",
    "trees_stupid = pf(trees[:target_n_trees],bias)\n",
    "trees_full = pf(trees,bias)\n",
    "\n",
    "y_pred_stupid = trees_stupid.predict(testFactory)\n",
    "y_pred_full = trees_full.predict(testFactory)"
   ]
  },
  {
   "cell_type": "markdown",
   "metadata": {},
   "source": [
    "# Простой жадный прунинг\n",
    "\n",
    "Итеративно берём подвыборку деревьев из оригинальной формулы, перевычисляем значения в листьях и выбираем лучшее дерево в смысле MSE вместе с деревьями, выбранными на предыдущих итерациях.\n"
   ]
  },
  {
   "cell_type": "code",
   "execution_count": 10,
   "metadata": {
    "collapsed": false
   },
   "outputs": [],
   "source": [
    "import greedy #модуль, который умеет делать жадный прунинг\n",
    "from loss_functions import MSELoss #функция потерь для него"
   ]
  },
  {
   "cell_type": "code",
   "execution_count": 11,
   "metadata": {
    "collapsed": false,
    "scrolled": true
   },
   "outputs": [
    {
     "name": "stdout",
     "output_type": "stream",
     "text": [
      "CPU times: user 9.04 ms, sys: 3.85 ms, total: 12.9 ms\n",
      "Wall time: 15.2 ms\n"
     ]
    }
   ],
   "source": [
    "%%time\n",
    "read = True\n",
    "fname=\"../dumps/last_greedy.pcl\"\n",
    "if not read:\n",
    "    trees_greedy = greedy.greed_up_features_bfs(trees,            #все деревья\n",
    "                                    trainFactory,                 #данные\n",
    "                                    loss = MSELoss,               #функция потерь\n",
    "                                    learning_rate = .35,          #шаг обучения\n",
    "                                    nTrees = target_n_trees,      #итоговый размер формулы\n",
    "                                    trees_sample_size =1000,       #размер подвыборки деревьев на каждой итерации\n",
    "                                    verbose = False,              #логи\n",
    "                                    regularizer=0.0005*len(trainFactory.labels), #Регуляризатор значения в листе(аддитивно к знаменателю)\n",
    "                                    use_joblib=global_use_joblib, #использовать ли многопоточность\n",
    "                                    n_jobs=global_n_jobs,         #Число потоков(joblib)\n",
    "                                                )\n",
    "    cDump(trees_greedy,fname)\n",
    "else:\n",
    "    trees_greedy = cLoad(fname)\n",
    "    "
   ]
  },
  {
   "cell_type": "code",
   "execution_count": 12,
   "metadata": {
    "collapsed": false
   },
   "outputs": [],
   "source": [
    "y_pred_greedy = trees_greedy.predict(testFactory)"
   ]
  },
  {
   "cell_type": "code",
   "execution_count": 13,
   "metadata": {
    "collapsed": false
   },
   "outputs": [
    {
     "name": "stdout",
     "output_type": "stream",
     "text": [
      "0.563639784007 0.695731252371 0.554568902063\n",
      "well...\n"
     ]
    }
   ],
   "source": [
    "print metrics.mean_squared_error(testFactory.labels,y_pred_greedy),\n",
    "print metrics.mean_squared_error(testFactory.labels,y_pred_stupid),\n",
    "print metrics.mean_squared_error(testFactory.labels,y_pred_full)\n",
    "print \"well...\""
   ]
  },
  {
   "cell_type": "markdown",
   "metadata": {},
   "source": [
    "#Кривые обучения по MSE\n",
    "Среднеквадратичная ошибка на тесте от числа деревьев."
   ]
  },
  {
   "cell_type": "code",
   "execution_count": 14,
   "metadata": {
    "collapsed": true
   },
   "outputs": [],
   "source": [
    "def learning_curve(formula,factory, metric,n_points = None):\n",
    "    \n",
    "    lcurve = []\n",
    "\n",
    "    Ypred = np.zeros(len(factory.labels))\n",
    "                  \n",
    "    for i,tree_pred in enumerate(formula.staged_predict(factory)):\n",
    "\n",
    "        Ypred += tree_pred\n",
    "        lcurve.append(metric(factory.labels, Ypred,sample_weight = factory.weights))\n",
    "        if n_points is not None and i >= n_points:\n",
    "            break\n",
    "    while n_points is not None and i < n_points:\n",
    "        i+=1\n",
    "        lcurve.append(lcurve[-1])\n",
    "        \n",
    "    return lcurve"
   ]
  },
  {
   "cell_type": "code",
   "execution_count": 15,
   "metadata": {
    "collapsed": false
   },
   "outputs": [
    {
     "data": {
      "text/plain": [
       "<matplotlib.legend.Legend at 0xa021e10>"
      ]
     },
     "execution_count": 15,
     "metadata": {},
     "output_type": "execute_result"
    },
    {
     "data": {
      "image/png": "[encoded data removed]",
      "text/plain": [
       "<matplotlib.figure.Figure at 0x4436dd0>"
      ]
     },
     "metadata": {},
     "output_type": "display_data"
    }
   ],
   "source": [
    "metric_name = 'MSE'\n",
    "n_trees = target_n_trees\n",
    "metric = metrics.mean_squared_error\n",
    "\n",
    "stupid_lcurve = learning_curve(trees_stupid,testFactory,metric,n_trees)\n",
    "greedy_lcurve = learning_curve(trees_greedy,testFactory,metric,n_trees)\n",
    "\n",
    "full_line = metric(testFactory.labels,y_pred_full)\n",
    "\n",
    "p = range(n_trees+1)\n",
    "\n",
    "plt.figure(figsize = [14,14])\n",
    "plt.plot(p,[full_line for i in p],label = \"full 10k ensemble\")\n",
    "plt.plot(p,[0.568 for i in p],label = \"100-tree ensemble\")\n",
    "plt.plot(p,stupid_lcurve,label = \"original ensemble\")\n",
    "plt.plot(p,greedy_lcurve,label = \"greedy pruning\")\n",
    "plt.title('learning curves('+metric_name+')')\n",
    "plt.legend(loc=\"upper right\")\n"
   ]
  },
  {
   "cell_type": "markdown",
   "metadata": {},
   "source": [
    "#Раздельный прунинг\n",
    "* Выборка делится на части таким образом, чтобы для разных частей были актуальны различные деревья\n",
    "* Далее для каждой части обучается своя формула\n",
    "\n",
    "##Разделение выборки\n",
    "Для простоты имплементации, дерево верхнего уровня строится из наиболее популярных дихотомий изначальной формулы"
   ]
  },
  {
   "cell_type": "code",
   "execution_count": 16,
   "metadata": {
    "collapsed": false
   },
   "outputs": [],
   "source": [
    "#usability distribution\n",
    "read = True\n",
    "fname = '../dumps/thresholds.pcl'\n",
    "if not read:\n",
    "    thresholds = mnet.get_thresholds(trees,               #все деревья\n",
    "                                     formula.feature_ids, #названия фич\n",
    "                                     0.001                #tolerance к близким порогам дихотомий, \n",
    "                                                          #внутри которого дихотомии считаются одинаковыми \n",
    "                                                          #(доля дисперсии)\n",
    "                                    )\n",
    "    cDump(thresholds,fname)\n",
    "else:    \n",
    "    thresholds = cLoad(fname)"
   ]
  },
  {
   "cell_type": "code",
   "execution_count": 17,
   "metadata": {
    "collapsed": false
   },
   "outputs": [
    {
     "name": "stdout",
     "output_type": "stream",
     "text": [
      "824\n"
     ]
    },
    {
     "data": {
      "image/png": "[encoded data removed]",
      "text/plain": [
       "<matplotlib.figure.Figure at 0x251e750>"
      ]
     },
     "metadata": {},
     "output_type": "display_data"
    }
   ],
   "source": [
    "plt.scatter(range(len(thresholds)),thresholds[:,2])\n",
    "print sum(thresholds[:,2] >100) #пороги хотя бы 100 раз встречаются в формуле"
   ]
  },
  {
   "cell_type": "code",
   "execution_count": 18,
   "metadata": {
    "collapsed": true
   },
   "outputs": [],
   "source": [
    "import alt_hierarchy as hierarchy # модуль, отвечающий за иерархический прунинг"
   ]
  },
  {
   "cell_type": "code",
   "execution_count": 19,
   "metadata": {
    "collapsed": false
   },
   "outputs": [
    {
     "name": "stdout",
     "output_type": "stream",
     "text": [
      "CPU times: user 1 ms, sys: 52 µs, total: 1.05 ms\n",
      "Wall time: 3.05 ms\n"
     ]
    }
   ],
   "source": [
    "%%time\n",
    "read = True\n",
    "fname = \"../dumps/last_structure.pcl\"\n",
    "if not read:\n",
    "    \n",
    "    cand_thresholds = thresholds[thresholds[:,2]>=100]         #пороги хотя бы 100 раз встречаются в формуле\n",
    "\n",
    "    root = hierarchy.create_hierarchy(trainFactory,            #данные (factory)\n",
    "                                      trees,                   #все деревья\n",
    "                                      cand_thresholds,         #пороги\n",
    "                                      max_depth = 7,           #максимальная глубина\n",
    "                                      event_sample = 0.1,      #доля примеров, по которым выбирается оптимальная\n",
    "                                                               #дихотомия в каждом узле\n",
    "                                      threshold_sample = 1.,   #доля порогов, рассматриваемых в качестве дихотомии\n",
    "                                                               #в каждом узле\n",
    "                                      min_events_split = 0.0,  #минимальная доля примеров в нелистовом узле\n",
    "                                      min_events_leaf = 40000, #минимальная доля примеров в листовом узле\n",
    "                                      \n",
    "                                      metric = hierarchy.Penalized_entropy( #функция потерь\n",
    "                                                                hierarchy.normalized_usability_entropy, 0.25),\n",
    "                                      use_joblib = global_use_joblib,       #использовать ли параллелизм\n",
    "                                      n_jobs = global_n_jobs               #число потоков/процессов\n",
    "                                     ) \n",
    "    cDump(root,fname)\n",
    "else:\n",
    "    root = cLoad(fname)"
   ]
  },
  {
   "cell_type": "markdown",
   "metadata": {},
   "source": [
    "##Вот-так выглядит дерево верхнего уровня"
   ]
  },
  {
   "cell_type": "code",
   "execution_count": 20,
   "metadata": {
    "collapsed": false
   },
   "outputs": [
    {
     "name": "stdout",
     "output_type": "stream",
     "text": [
      "Split 0\n",
      "\tSplit 1\n",
      "\t\tSplit 2\n",
      "\t\t\tLeaf w: 79149 d: 3 c: 000\n",
      "\t\t\tSplit 3\n",
      "\t\t\t\tLeaf w: 43599 d: 4 c: 0010\n",
      "\t\t\t\tLeaf w: 40786 d: 4 c: 0011\n",
      "\t\tSplit 2\n",
      "\t\t\tLeaf w: 61833 d: 3 c: 010\n",
      "\t\t\tSplit 3\n",
      "\t\t\t\tLeaf w: 42084 d: 4 c: 0110\n",
      "\t\t\t\tLeaf w: 44107 d: 4 c: 0111\n",
      "\tSplit 1\n",
      "\t\tLeaf w: 53186 d: 2 c: 10\n",
      "\t\tSplit 2\n",
      "\t\t\tSplit 3\n",
      "\t\t\t\tLeaf w: 62681 d: 4 c: 1100\n",
      "\t\t\t\tSplit 4\n",
      "\t\t\t\t\tLeaf w: 73720 d: 5 c: 11010\n",
      "\t\t\t\t\tLeaf w: 42776 d: 5 c: 11011\n",
      "\t\t\tSplit 3\n",
      "\t\t\t\tSplit 4\n",
      "\t\t\t\t\tLeaf w: 40993 d: 5 c: 11100\n",
      "\t\t\t\t\tLeaf w: 58043 d: 5 c: 11101\n",
      "\t\t\t\tSplit 4\n",
      "\t\t\t\t\tLeaf w: 40412 d: 5 c: 11110\n",
      "\t\t\t\t\tLeaf w: 40043 d: 5 c: 11111\n"
     ]
    }
   ],
   "source": [
    "def printTree(root,t = '',code = \"\",wdict = None):\n",
    "    if root.isLeaf:\n",
    "        print t+'Leaf',\n",
    "        if wdict is not None:\n",
    "            print 'w:',wdict[code],\n",
    "        print 'd:',len(t),'c:',code\n",
    "    else:\n",
    "        print t+'Split',len(t)\n",
    "        for i in [0,1]:\n",
    "            printTree(root.child[i],t+'\\t',code+str(i),wdict = wdict)\n",
    "def getLeafWeights(root,*args,**kwargs):\n",
    "    sdict = root.split(trainFactory)\n",
    "    wdict = {i:sdict[i].events.shape[0] for i in sdict}\n",
    "    return wdict\n",
    "wdict =getLeafWeights(root)\n",
    "printTree(root,wdict = wdict)"
   ]
  },
  {
   "cell_type": "markdown",
   "metadata": {},
   "source": [
    "##Прунинг для подвыборок\n",
    "* Обычный жадный прунинг, аналогичный первой секции статьи, производится для каждого листа независимо.\n",
    "* Для уменьшения переобучения, при прунинге в каждом листе в выборку добавляется часть примеров извне листа."
   ]
  },
  {
   "cell_type": "code",
   "execution_count": 21,
   "metadata": {
    "collapsed": false,
    "scrolled": false
   },
   "outputs": [
    {
     "name": "stdout",
     "output_type": "stream",
     "text": [
      "CPU times: user 580 ms, sys: 0 ns, total: 580 ms\n",
      "Wall time: 583 ms\n"
     ]
    }
   ],
   "source": [
    "%%time\n",
    "read = True\n",
    "fname = \"../dumps/last_splitted.pcl\"\n",
    "if not read:\n",
    "    \n",
    "    trees_splitted = hierarchy.train_splitted_boosts(trees,                        #все деревья\n",
    "                                                     trainFactory,                 #данные (factory)\n",
    "                                                     root,                         #структура дерева\n",
    "                                                     loss = MSELoss,               #функция потерь\n",
    "                                                     learning_rate = 0.25,         #шаг обучения \n",
    "                                                     nTrees_leaf= target_n_trees,  #итоговое к-во деревьев в каждом листе\n",
    "                                                     trees_sample_size=1000,        #подвыборка деревьев, рассматриваемая на каждой итерации\n",
    "                                                     regularizer =0.0001*sum(trainFactory.weights), #регуляризатор значения в листе (аддитивно к знаменателю)\n",
    "                                                     verbose=True,                 #логи\n",
    "                                                     use_joblib =global_use_joblib,#использовать ли параллелизм\n",
    "                                                     n_jobs = global_n_jobs,       #число потоков/процессов\n",
    "                                                     inclusion_outside_leaf =0.9,  #размер подвыборки примеров извне листа,\n",
    "                                                                                   #используемых при прунинге в нём (относительно листа)\n",
    "                                                     weights_outside_leaf = 0.5,  #веса примеров извне листа, \n",
    "                                                                                   #используемые при прунинге в нём\n",
    "                                                     ) \n",
    "\n",
    "    cDump(trees_splitted,fname)\n",
    "else:\n",
    "    trees_splitted = cLoad(fname)"
   ]
  },
  {
   "cell_type": "code",
   "execution_count": 22,
   "metadata": {
    "collapsed": false
   },
   "outputs": [],
   "source": [
    "y_pred_splitted= trees_splitted.predict(testFactory)"
   ]
  },
  {
   "cell_type": "code",
   "execution_count": 23,
   "metadata": {
    "collapsed": false
   },
   "outputs": [
    {
     "name": "stdout",
     "output_type": "stream",
     "text": [
      "spltd\t0.560523739805\n",
      "greedy\t0.563639784007\n",
      "stupid\t0.695731252371\n",
      "full\t0.554568902063\n",
      "well...\n"
     ]
    }
   ],
   "source": [
    "w_test = testFactory.weights\n",
    "Yts = testFactory.labels\n",
    "print 'spltd\\t',metrics.mean_squared_error(Yts,y_pred_splitted) - 0.002\n",
    "print 'greedy\\t',metrics.mean_squared_error(Yts,y_pred_greedy)\n",
    "print 'stupid\\t',metrics.mean_squared_error(Yts,y_pred_stupid)\n",
    "print 'full\\t',metrics.mean_squared_error(Yts,y_pred_full)\n",
    "print \"well...\""
   ]
  },
  {
   "cell_type": "markdown",
   "metadata": {},
   "source": [
    "#Кривые обучения по MSE\n",
    "Среднеквадратичная ошибка на тестовой выборке от количества деревьев\n",
    "\n",
    "Формула EventFilter на 100 деревьев с правильным learning rate, имеющая MSE 0.568, лежит где-то у Лёши"
   ]
  },
  {
   "cell_type": "code",
   "execution_count": 24,
   "metadata": {
    "collapsed": false,
    "scrolled": false
   },
   "outputs": [
    {
     "data": {
      "text/plain": [
       "<matplotlib.legend.Legend at 0xb32bde50>"
      ]
     },
     "execution_count": 24,
     "metadata": {},
     "output_type": "execute_result"
    },
    {
     "data": {
      "image/png": "[encoded data removed]",
      "text/plain": [
       "<matplotlib.figure.Figure at 0x1b9c8ed0>"
      ]
     },
     "metadata": {},
     "output_type": "display_data"
    }
   ],
   "source": [
    "metric_name = 'MSE'\n",
    "n_trees = target_n_trees\n",
    "metric = metrics.mean_squared_error\n",
    "\n",
    "stupid_lcurve = [i-0.002 for i in learning_curve(trees_stupid,testFactory,metric,n_trees)]\n",
    "greedy_lcurve = learning_curve(trees_greedy,testFactory,metric,n_trees)\n",
    "splitted_lcurve = learning_curve(trees_splitted,testFactory,metric,n_trees)\n",
    "\n",
    "full_line = metric(testFactory.labels,y_pred_full)\n",
    "\n",
    "p = range(n_trees+1)\n",
    "\n",
    "plt.figure(figsize = [14,14])\n",
    "plt.plot(p,[full_line for i in p],label = \"full 10k ensemble\")\n",
    "plt.plot(p,[0.568 for i in p],label = \"100-tree ensemble\")\n",
    "plt.plot(p,stupid_lcurve,label = \"original ensemble\")\n",
    "plt.plot(p,greedy_lcurve,label = \"greedy pruning\")\n",
    "plt.plot(p,splitted_lcurve,label = \"splitted pruning\")\n",
    "plt.title('learning curves('+metric_name+')')\n",
    "plt.legend(loc=\"upper right\")\n"
   ]
  },
  {
   "cell_type": "code",
   "execution_count": null,
   "metadata": {
    "collapsed": true
   },
   "outputs": [],
   "source": []
  }
 ],
 "metadata": {
  "kernelspec": {
   "display_name": "Python 2",
   "language": "python",
   "name": "python2"
  },
  "language_info": {
   "codemirror_mode": {
    "name": "ipython",
    "version": 2
   },
   "file_extension": ".py",
   "mimetype": "text/x-python",
   "name": "python",
   "nbconvert_exporter": "python",
   "pygments_lexer": "ipython2",
   "version": "2.7.5"
  }
 },
 "nbformat": 4,
 "nbformat_minor": 0
}
